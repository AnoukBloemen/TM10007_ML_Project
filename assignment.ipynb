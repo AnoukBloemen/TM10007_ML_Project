{
  "cells": [
    {
      "cell_type": "markdown",
      "metadata": {
        "id": "7SXpaKwwGe5x"
      },
      "source": [
        "# TM10007 Assignment template"
      ]
    },
    {
      "cell_type": "code",
      "execution_count": 1,
      "metadata": {
        "colab": {
          "base_uri": "https://localhost:8080/"
        },
        "id": "CiDn2Sk-VWqE",
        "outputId": "1300035f-4249-41d1-93ac-b10dc87cb370"
      },
      "outputs": [
        {
          "output_type": "stream",
          "name": "stdout",
          "text": [
            "  Preparing metadata (setup.py) ... \u001b[?25l\u001b[?25hdone\n",
            "\u001b[2K     \u001b[90m━━━━━━━━━━━━━━━━━━━━━━━━━━━━━━━━━━━━━━━━\u001b[0m \u001b[32m23.7/23.7 MB\u001b[0m \u001b[31m21.3 MB/s\u001b[0m eta \u001b[36m0:00:00\u001b[0m\n",
            "\u001b[2K     \u001b[90m━━━━━━━━━━━━━━━━━━━━━━━━━━━━━━━━━━━━━━━━\u001b[0m \u001b[32m823.6/823.6 kB\u001b[0m \u001b[31m37.9 MB/s\u001b[0m eta \u001b[36m0:00:00\u001b[0m\n",
            "\u001b[2K     \u001b[90m━━━━━━━━━━━━━━━━━━━━━━━━━━━━━━━━━━━━━━━━\u001b[0m \u001b[32m14.1/14.1 MB\u001b[0m \u001b[31m34.4 MB/s\u001b[0m eta \u001b[36m0:00:00\u001b[0m\n",
            "\u001b[2K     \u001b[90m━━━━━━━━━━━━━━━━━━━━━━━━━━━━━━━━━━━━━━━━\u001b[0m \u001b[32m731.7/731.7 MB\u001b[0m \u001b[31m1.5 MB/s\u001b[0m eta \u001b[36m0:00:00\u001b[0m\n",
            "\u001b[2K     \u001b[90m━━━━━━━━━━━━━━━━━━━━━━━━━━━━━━━━━━━━━━━━\u001b[0m \u001b[32m410.6/410.6 MB\u001b[0m \u001b[31m1.9 MB/s\u001b[0m eta \u001b[36m0:00:00\u001b[0m\n",
            "\u001b[2K     \u001b[90m━━━━━━━━━━━━━━━━━━━━━━━━━━━━━━━━━━━━━━━━\u001b[0m \u001b[32m121.6/121.6 MB\u001b[0m \u001b[31m6.0 MB/s\u001b[0m eta \u001b[36m0:00:00\u001b[0m\n",
            "\u001b[2K     \u001b[90m━━━━━━━━━━━━━━━━━━━━━━━━━━━━━━━━━━━━━━━━\u001b[0m \u001b[32m56.5/56.5 MB\u001b[0m \u001b[31m12.2 MB/s\u001b[0m eta \u001b[36m0:00:00\u001b[0m\n",
            "\u001b[2K     \u001b[90m━━━━━━━━━━━━━━━━━━━━━━━━━━━━━━━━━━━━━━━━\u001b[0m \u001b[32m124.2/124.2 MB\u001b[0m \u001b[31m8.8 MB/s\u001b[0m eta \u001b[36m0:00:00\u001b[0m\n",
            "\u001b[2K     \u001b[90m━━━━━━━━━━━━━━━━━━━━━━━━━━━━━━━━━━━━━━━━\u001b[0m \u001b[32m196.0/196.0 MB\u001b[0m \u001b[31m5.8 MB/s\u001b[0m eta \u001b[36m0:00:00\u001b[0m\n",
            "\u001b[2K     \u001b[90m━━━━━━━━━━━━━━━━━━━━━━━━━━━━━━━━━━━━━━━━\u001b[0m \u001b[32m166.0/166.0 MB\u001b[0m \u001b[31m7.9 MB/s\u001b[0m eta \u001b[36m0:00:00\u001b[0m\n",
            "\u001b[2K     \u001b[90m━━━━━━━━━━━━━━━━━━━━━━━━━━━━━━━━━━━━━━━━\u001b[0m \u001b[32m99.1/99.1 kB\u001b[0m \u001b[31m13.8 MB/s\u001b[0m eta \u001b[36m0:00:00\u001b[0m\n",
            "\u001b[2K     \u001b[90m━━━━━━━━━━━━━━━━━━━━━━━━━━━━━━━━━━━━━━━━\u001b[0m \u001b[32m21.1/21.1 MB\u001b[0m \u001b[31m70.8 MB/s\u001b[0m eta \u001b[36m0:00:00\u001b[0m\n",
            "\u001b[?25h  Building wheel for ktml (setup.py) ... \u001b[?25l\u001b[?25hdone\n"
          ]
        }
      ],
      "source": [
        "# Run this to use from colab environment\n",
        "!pip install -q --upgrade git+https://github.com/jveenland/tm10007_ml.git\n"
      ]
    },
    {
      "cell_type": "code",
      "source": [],
      "metadata": {
        "id": "sECdfBPku-OO"
      },
      "execution_count": null,
      "outputs": []
    },
    {
      "cell_type": "markdown",
      "source": [],
      "metadata": {
        "id": "yVw_ia9lvBpz"
      }
    },
    {
      "cell_type": "markdown",
      "source": [
        "## Data loading and cleaning\n",
        "Below are functions to load the dataset of your choice. After that, it is all up to you to create and evaluate a classification method. Beware, there may be missing values in these datasets. Good luck!"
      ],
      "metadata": {
        "id": "LeKHMZ9egij4"
      }
    },
    {
      "cell_type": "code",
      "source": [
        "# Data loading functions. Uncomment the one you want to use\n",
        "#from worcgist.load_data import load_data\n",
        "from worclipo.load_data import load_data\n",
        "#from worcliver.load_data import load_data\n",
        "#from ecg.load_data import load_data\n",
        "\n",
        "data = load_data()\n",
        "print(f'The number of samples: {len(data.index)}')\n",
        "print(f'The number of columns: {len(data.columns)}')"
      ],
      "metadata": {
        "colab": {
          "base_uri": "https://localhost:8080/"
        },
        "id": "sm3K7btmgiAZ",
        "outputId": "fe2d3a3e-df82-4429-f21a-65fe9e8a87bd"
      },
      "execution_count": 2,
      "outputs": [
        {
          "output_type": "stream",
          "name": "stdout",
          "text": [
            "The number of samples: 115\n",
            "The number of columns: 494\n"
          ]
        }
      ]
    },
    {
      "cell_type": "markdown",
      "source": [
        "## importing packages\n"
      ],
      "metadata": {
        "id": "qWU99IkXfG2K"
      }
    },
    {
      "cell_type": "code",
      "source": [
        "# General packages\n",
        "import numpy as np\n",
        "import pandas as pd\n",
        "import matplotlib.pyplot as plt\n",
        "from sklearn import datasets as ds\n",
        "import seaborn\n",
        "\n",
        "# Classifiers\n",
        "from sklearn import model_selection\n",
        "from sklearn import metrics\n",
        "from sklearn.model_selection import GridSearchCV\n",
        "from sklearn.ensemble import RandomForestClassifier\n",
        "from sklearn.neighbors import KNeighborsClassifier\n",
        "from sklearn import svm\n",
        "from sklearn.model_selection import cross_val_score\n",
        "from sklearn.metrics import roc_auc_score, accuracy_score, classification_report\n",
        "\n",
        "# Preprocessing steps\n",
        "from sklearn.impute import SimpleImputer\n",
        "from sklearn.preprocessing import StandardScaler\n",
        "from sklearn.decomposition import PCA\n",
        "from sklearn.pipeline import Pipeline\n",
        "from scipy.stats import shapiro\n",
        "\n",
        "# Feature selection\n",
        "from sklearn.feature_selection import RFECV\n",
        "from sklearn.linear_model import LogisticRegression\n",
        "from sklearn.model_selection import StratifiedKFold"
      ],
      "metadata": {
        "id": "szh6jWcBfPR4"
      },
      "execution_count": 13,
      "outputs": []
    },
    {
      "cell_type": "markdown",
      "source": [],
      "metadata": {
        "id": "7hOrrfNwgdab"
      }
    },
    {
      "cell_type": "markdown",
      "source": [
        "## Creating a split in the data\n",
        "A training and test set are created. The training set will be used to fit the classifier, while the test set is remained untouched until it is used for testing the trained classifier.\n",
        "\n",
        "Split is stratified so labels are present in both sets in same proportions."
      ],
      "metadata": {
        "id": "r3T1VJ3xfbMq"
      }
    },
    {
      "cell_type": "code",
      "source": [
        "# Extract columns with labels\n",
        "Y = data.pop('label').replace({'lipoma':0, 'liposarcoma':1}) #moeten we misschien nog ook de ID poppen?\n",
        "\n",
        "# Extract the rest of the data (without the labels)\n",
        "X = data\n",
        "\n",
        "X_train, X_test, Y_train, Y_test = model_selection.train_test_split(X, Y, test_size=0.2, stratify=Y) # ONDERBOUWEN IN REPORT\n",
        "\n",
        "print(f'Size of training set: {X_train.shape}')\n",
        "print(f'Size of test set: {X_test.shape}')"
      ],
      "metadata": {
        "colab": {
          "base_uri": "https://localhost:8080/"
        },
        "id": "TfYxj5x1ffYv",
        "outputId": "44350cca-4052-4568-809e-cc73718bac7d"
      },
      "execution_count": 4,
      "outputs": [
        {
          "output_type": "stream",
          "name": "stdout",
          "text": [
            "Size of training set: (92, 493)\n",
            "Size of test set: (23, 493)\n"
          ]
        }
      ]
    },
    {
      "cell_type": "markdown",
      "source": [
        "## Inspecting distribution of features\n",
        "To determine data distribution of train set\n",
        "\n",
        "### Visually inspect distribution of features"
      ],
      "metadata": {
        "id": "y_U-2bRQfiKO"
      }
    },
    {
      "cell_type": "code",
      "source": [
        "# Check if Gaussian distribution per column\n",
        "# if Gaussian distribution, take mean for filling empty cells (later in script)\n",
        "# if not Gaussion distribution (and outliers or skewed), take median for filling empty cells (later in script)\n",
        "\n",
        "# plt.hist(X_train.iloc[:, 15], bins=30, edgecolor='k') # Change number of colum to see distribution (between width dataframe)\n",
        "plt.hist(X_train['PREDICT_original_tf_Gabor_entropy_F0.2_A1.57'], bins=30, edgecolor='k') # Change number of colum to see distribution (between width dataframe)\n",
        "\n",
        "\n",
        "plt.title('Distribution of Feature')\n",
        "plt.xlabel('Value')\n",
        "plt.ylabel('Frequency')\n",
        "plt.show()\n",
        "\n",
        "# print(X_train.head())"
      ],
      "metadata": {
        "colab": {
          "base_uri": "https://localhost:8080/",
          "height": 472
        },
        "id": "mmpRiwLPfoV4",
        "outputId": "4ded6521-7cfc-4da7-f1d6-4978555abfe7"
      },
      "execution_count": null,
      "outputs": [
        {
          "output_type": "display_data",
          "data": {
            "text/plain": [
              "<Figure size 640x480 with 1 Axes>"
            ],
            "image/png": "[encoded data removed]"
          },
          "metadata": {}
        }
      ]
    },
    {
      "cell_type": "markdown",
      "source": [
        "## Determining data distribution of train set"
      ],
      "metadata": {
        "id": "LER9vvtefsy2"
      }
    },
    {
      "cell_type": "code",
      "source": [
        "# Definieer alpha voor de significantietest BEARGUMENTEREN WAAROM DEZE TEST IN REPORT + WAARDE\n",
        "alpha = 0.05\n",
        "\n",
        "# Initialiseer een teller voor normaal verdeelde kolommen\n",
        "normal_distributed_columns_count = 0\n",
        "\n",
        "# Loop door elke kolom in de DataFrame en voer Shapiro-Wilk test uit\n",
        "for column in X_train:\n",
        "    stat, p = shapiro(X_train[column])\n",
        "    if p > alpha:\n",
        "        # print(column)\n",
        "        normal_distributed_columns_count += 1  # Tel kolom als normaal verdeeld\n",
        "\n",
        "print(f\"Aantal normaal verdeelde kolommen: {normal_distributed_columns_count}\")\n",
        "\n",
        "# print(X_train.head())\n",
        "# print(Y.head())"
      ],
      "metadata": {
        "colab": {
          "base_uri": "https://localhost:8080/"
        },
        "id": "g0FrZ1gxgLQ5",
        "outputId": "74d02e69-744d-4f28-9354-cd92c20b5782"
      },
      "execution_count": null,
      "outputs": [
        {
          "output_type": "stream",
          "name": "stdout",
          "text": [
            "Aantal normaal verdeelde kolommen: 75\n"
          ]
        },
        {
          "output_type": "stream",
          "name": "stderr",
          "text": [
            "/usr/local/lib/python3.10/dist-packages/scipy/stats/_morestats.py:1879: UserWarning: Input data for shapiro has range zero. The results may not be accurate.\n",
            "  warnings.warn(\"Input data for shapiro has range zero. The results \"\n"
          ]
        }
      ]
    },
    {
      "cell_type": "markdown",
      "source": [
        "## Preprocessing Data\n",
        "### Missing Values\n",
        "Determining cells with missing values and filling these"
      ],
      "metadata": {
        "id": "BzTp3n2mgw_e"
      }
    },
    {
      "cell_type": "code",
      "source": [
        "# Check missing values\n",
        "missing_values = X_train.isnull().sum()\n",
        "print(len(missing_values[missing_values > 0]))\n",
        "0\n",
        "# Filling missing values with correct value based on type of distribution per column\n",
        "\n",
        "# Definieer alpha voor de significantietest BEARGUMENTEREN WAAROM DEZE TEST IN REPORT + WAARDE\n",
        "alpha = 0.05\n",
        "\n",
        "# Initialiseer een teller voor normaal verdeelde kolommen\n",
        "normal_distributed_columns_count = 0\n",
        "not_normal_distributed_columns_count = 0\n",
        "nans_found_in_column_count = 0\n",
        "\n",
        "# Loop door elke kolom in de DataFrame en voer Shapiro-Wilk test uit\n",
        "for column in X_train:\n",
        "    stat, p = shapiro(X_train[column])\n",
        "    if p > alpha:\n",
        "        # print(column)\n",
        "        normal_distributed_columns_count += 1  # Tel kolom als normaal verdeeld\n",
        "        if X_train[column].isna().sum() > 0:\n",
        "            X_train[column].fillna(X_train[column].mean)\n",
        "            nans_found_in_column_count += 1\n",
        "    else:\n",
        "        not_normal_distributed_columns_count += 1  # Tel kolom als normaal verdeeld\n",
        "        if X_train[column].isna().sum() > 0:\n",
        "            X_train[column].fillna(X_train[column].median)\n",
        "            nans_found_in_column_count += 1\n",
        "\n",
        "print(f'The number of normal distributed columns is: {normal_distributed_columns_count}')\n",
        "print(f'The number of not normal distributed columns is: {not_normal_distributed_columns_count}')\n",
        "print(f'The number of columns where nans were filled: {nans_found_in_column_count}')"
      ],
      "metadata": {
        "colab": {
          "base_uri": "https://localhost:8080/"
        },
        "id": "ujFo1OsJgzEf",
        "outputId": "c13bfcd5-d4e9-437b-d87e-64797f19a4c8"
      },
      "execution_count": null,
      "outputs": [
        {
          "output_type": "stream",
          "name": "stdout",
          "text": [
            "0\n",
            "The number of normal distributed columns is: 67\n",
            "The number of not normal distributed columns is: 426\n",
            "The number of columns where nans were filled: 0\n"
          ]
        },
        {
          "output_type": "stream",
          "name": "stderr",
          "text": [
            "/usr/local/lib/python3.10/dist-packages/scipy/stats/_morestats.py:1879: UserWarning: Input data for shapiro has range zero. The results may not be accurate.\n",
            "  warnings.warn(\"Input data for shapiro has range zero. The results \"\n"
          ]
        }
      ]
    },
    {
      "cell_type": "markdown",
      "source": [
        "## Inspecting data\n",
        "Feature selection"
      ],
      "metadata": {
        "id": "EQ6KyN17g4wn"
      }
    },
    {
      "cell_type": "code",
      "source": [
        "# min_features = 1\n",
        "# clf  = LogisticRegression()\n",
        "# cv = StratifiedKFold(2)\n",
        "\n",
        "# rfecv = RFECV(\n",
        "#     estimator=clf,\n",
        "#     cv=cv,\n",
        "#     # scoring = \"accuracy\",\n",
        "#     min_features_to_select = min_features\n",
        "# )\n",
        "\n",
        "# rfecv.fit(X_train, Y_train)\n",
        "\n",
        "# print(f\"Optimal number of features: {rfecv.n_features}\")\n",
        "\n",
        "# if rfecv.n_features > X_train.index:\n",
        "#   pca = decomposition.PCA(n_components=3)\n",
        "#   pca.fit(X_train)\n",
        "#   X_train = pca.transorm(X_train)\n",
        "# ## uncomment following lines to print different info\n",
        "# # print(X_train.head())\n",
        "# # print(X_train.info())\n",
        "# # print(X_train.describe()) # Gives 8 metrics per column [8x494]\n",
        "\n",
        "\n",
        "\n",
        "# # Pipeline for numerical features\n",
        "# numeric_transformer = Pipeline(steps=[\n",
        "#     ('imputer', SimpleImputer(strategy='median')),  # Impute missing values\n",
        "#     ('scaler', StandardScaler()),  # Scale features\n",
        "#     ('pca', PCA(n_components=0.95))  # Reduce dimensionality (nog kijken welke waarden)\n",
        "# ])\n",
        "\n",
        "# X_preprocessed = numeric_transformer.fit_transform(X_train)\n",
        "# print(X_preprocessed)"
      ],
      "metadata": {
        "id": "gXRMdrrag8cQ"
      },
      "execution_count": null,
      "outputs": []
    },
    {
      "cell_type": "markdown",
      "source": [
        "## KNN classifer\n"
      ],
      "metadata": {
        "id": "OpiHOn0Xg9Nf"
      }
    },
    {
      "cell_type": "code",
      "source": [
        "cv10_fold = model_selection.StratifiedKFold(n_splits=10)\n",
        "\n",
        "knn_model = KNeighborsClassifier()\n",
        "\n",
        "# Define the parameter grid - WAAROM DEZE\n",
        "param_grid_knn = {\n",
        "    'n_neighbors': list(range(1, 60, 2)),\n",
        "    'weights': ['uniform', 'distance'],\n",
        "    'p': [1, 2]  # p=1 for Manhattan distance, p=2 for Euclidean distance\n",
        "}\n",
        "\n",
        "# Create the grid search object with ROC AUC scoring\n",
        "grid_search_knn = GridSearchCV(knn_model, param_grid_knn, cv=cv10_fold, scoring='roc_auc')\n",
        "\n",
        "# Fit the grid search to the data\n",
        "grid_search_knn.fit(X_train, Y_train)\n",
        "\n",
        "# Print the best parameters\n",
        "print(\"Best parameters found: \", grid_search_knn.best_params_)\n",
        "\n",
        "# Get the best estimator\n",
        "best_knn_model = grid_search_knn.best_estimator_\n",
        "\n",
        "print(best_knn_model)"
      ],
      "metadata": {
        "colab": {
          "base_uri": "https://localhost:8080/"
        },
        "id": "S8K6NTg3g_OX",
        "outputId": "0ff4f682-d190-4c6b-be92-5491313a2f93"
      },
      "execution_count": 22,
      "outputs": [
        {
          "output_type": "stream",
          "name": "stdout",
          "text": [
            "Best parameters found:  {'n_neighbors': 35, 'p': 1, 'weights': 'uniform'}\n",
            "KNeighborsClassifier(n_neighbors=35, p=1)\n"
          ]
        }
      ]
    },
    {
      "cell_type": "markdown",
      "source": [
        "See how well model works:"
      ],
      "metadata": {
        "id": "eOYhkj4dfLi1"
      }
    },
    {
      "cell_type": "code",
      "source": [
        "predictions_knn_train = best_knn_model.predict(X_train)\n",
        "print(classification_report(Y_train, predictions_knn_train))\n",
        "\n",
        "roc_auc_knn_train = roc_auc_score(Y_train, predictions_knn_train)\n",
        "print('ROC AUC =', roc_auc_knn_train)\n",
        "accuracy_knn_train = accuracy_score(Y_train, predictions_knn_train)\n",
        "print('Accuracy =', accuracy_knn_train)"
      ],
      "metadata": {
        "colab": {
          "base_uri": "https://localhost:8080/"
        },
        "id": "Dtb2khtufOaF",
        "outputId": "d986e8a9-ebb7-47e9-ca1d-006d4294dde5"
      },
      "execution_count": 26,
      "outputs": [
        {
          "output_type": "stream",
          "name": "stdout",
          "text": [
            "              precision    recall  f1-score   support\n",
            "\n",
            "           0       0.61      0.54      0.57        46\n",
            "           1       0.59      0.65      0.62        46\n",
            "\n",
            "    accuracy                           0.60        92\n",
            "   macro avg       0.60      0.60      0.60        92\n",
            "weighted avg       0.60      0.60      0.60        92\n",
            "\n",
            "ROC AUC = 0.5978260869565217\n",
            "Accuracy = 0.5978260869565217\n"
          ]
        }
      ]
    },
    {
      "cell_type": "code",
      "source": [
        "predictions_knn_test = best_knn_model.predict(X_test)\n",
        "print(classification_report(Y_test, predictions_knn_test))\n",
        "\n",
        "roc_auc_knn_test = roc_auc_score(Y_test, predictions_knn_test)\n",
        "print('ROC AUC =', roc_auc_knn_test)\n",
        "accuracy_knn_test = accuracy_score(Y_test, predictions_knn_test)\n",
        "print('Accuracy =', accuracy_knn_test)"
      ],
      "metadata": {
        "id": "wSz9Dj7R78VQ",
        "outputId": "4a26ba3f-b7e4-4ede-fcd0-57195f87bc47",
        "colab": {
          "base_uri": "https://localhost:8080/"
        }
      },
      "execution_count": 24,
      "outputs": [
        {
          "output_type": "stream",
          "name": "stdout",
          "text": [
            "              precision    recall  f1-score   support\n",
            "\n",
            "           0       0.69      0.82      0.75        11\n",
            "           1       0.80      0.67      0.73        12\n",
            "\n",
            "    accuracy                           0.74        23\n",
            "   macro avg       0.75      0.74      0.74        23\n",
            "weighted avg       0.75      0.74      0.74        23\n",
            "\n",
            "ROC AUC = 0.7424242424242422\n",
            "Accuracy = 0.7391304347826086\n"
          ]
        }
      ]
    },
    {
      "cell_type": "markdown",
      "source": [
        "## Random Forest"
      ],
      "metadata": {
        "id": "n4hAFAubM4Pg"
      }
    },
    {
      "cell_type": "code",
      "source": [
        "#NB: runnen duurt lang door lijst aan n_estimators!\n",
        "\n",
        "cv10_fold = model_selection.StratifiedKFold(n_splits=10)\n",
        "\n",
        "RF_model = RandomForestClassifier()\n",
        "\n",
        "# Define the parameter grid - WAAROM DEZE\n",
        "param_grid_RF = {\n",
        "    'n_estimators': list(range(1, 100, 10)), # more estimators probably better result but also more computationally expensive!\n",
        "    'bootstrap': [True, False],\n",
        "    'min_samples_leaf': list(range(1, 7, 2))\n",
        "}\n",
        "\n",
        "# Create the grid search object with ROC AUC scoring\n",
        "grid_search_RF = GridSearchCV(RF_model, param_grid_RF, cv=cv10_fold, scoring='roc_auc', error_score='raise')\n",
        "\n",
        "# Fit the grid search to the data\n",
        "grid_search_RF.fit(X_train, Y_train)\n",
        "\n",
        "# Print the best parameters\n",
        "print(\"Best parameters found: \", grid_search_RF.best_params_)\n",
        "\n",
        "# Get the best estimator\n",
        "best_RF_model = grid_search_RF.best_estimator_\n",
        "\n",
        "print(best_RF_model)"
      ],
      "metadata": {
        "id": "mnQea620M76E",
        "outputId": "d95ef4b3-7889-416d-f3c8-f0796bf2b30a",
        "colab": {
          "base_uri": "https://localhost:8080/"
        }
      },
      "execution_count": 39,
      "outputs": [
        {
          "output_type": "stream",
          "name": "stdout",
          "text": [
            "Best parameters found:  {'bootstrap': True, 'min_samples_leaf': 3, 'n_estimators': 61}\n",
            "RandomForestClassifier(min_samples_leaf=3, n_estimators=61)\n"
          ]
        }
      ]
    },
    {
      "cell_type": "code",
      "source": [
        "predictions_RF_train = best_RF_model.predict(X_train)\n",
        "print(classification_report(Y_train, predictions_RF_train))\n",
        "\n",
        "roc_auc_RF_train = roc_auc_score(Y_train, predictions_RF_train)\n",
        "print('ROC AUC =', roc_auc_RF_train)\n",
        "accuracy_RF_train = accuracy_score(Y_train, predictions_RF_train)\n",
        "print('Accuracy =', accuracy_RF_train)"
      ],
      "metadata": {
        "colab": {
          "base_uri": "https://localhost:8080/"
        },
        "id": "CqJ4xIiOjNBZ",
        "outputId": "b54688f7-217e-4660-aff0-df7960361c60"
      },
      "execution_count": 40,
      "outputs": [
        {
          "output_type": "stream",
          "name": "stdout",
          "text": [
            "              precision    recall  f1-score   support\n",
            "\n",
            "           0       1.00      1.00      1.00        46\n",
            "           1       1.00      1.00      1.00        46\n",
            "\n",
            "    accuracy                           1.00        92\n",
            "   macro avg       1.00      1.00      1.00        92\n",
            "weighted avg       1.00      1.00      1.00        92\n",
            "\n",
            "ROC AUC = 1.0\n",
            "Accuracy = 1.0\n"
          ]
        }
      ]
    },
    {
      "cell_type": "code",
      "source": [
        "predictions_RF_test = best_RF_model.predict(X_test)\n",
        "print(classification_report(Y_test, predictions_RF_test))\n",
        "\n",
        "roc_auc_RF_test = roc_auc_score(Y_test, predictions_RF_test)\n",
        "print('ROC AUC =', roc_auc_RF_test)\n",
        "accuracy_RF_test = accuracy_score(Y_test, predictions_RF_test)\n",
        "print('Accuracy =', accuracy_RF_test)"
      ],
      "metadata": {
        "id": "_i1Iq2JU7RDY",
        "outputId": "675e6865-661f-4a08-c5be-4b127e87a128",
        "colab": {
          "base_uri": "https://localhost:8080/"
        }
      },
      "execution_count": 41,
      "outputs": [
        {
          "output_type": "stream",
          "name": "stdout",
          "text": [
            "              precision    recall  f1-score   support\n",
            "\n",
            "           0       0.83      0.91      0.87        11\n",
            "           1       0.91      0.83      0.87        12\n",
            "\n",
            "    accuracy                           0.87        23\n",
            "   macro avg       0.87      0.87      0.87        23\n",
            "weighted avg       0.87      0.87      0.87        23\n",
            "\n",
            "ROC AUC = 0.8712121212121212\n",
            "Accuracy = 0.8695652173913043\n"
          ]
        }
      ]
    },
    {
      "cell_type": "markdown",
      "source": [
        "## SVM"
      ],
      "metadata": {
        "id": "QW8uGSddci0L"
      }
    },
    {
      "cell_type": "code",
      "source": [
        "cv10_fold = model_selection.StratifiedKFold(n_splits=10)\n",
        "\n",
        "# Define the SVM model\n",
        "svm_model = svm.SVC(probability=True)\n",
        "\n",
        "# Define the parameter grid for SVM\n",
        "param_grid_svm = {\n",
        "    'C': [0.01, 0.5, 1 ],  # Regularization parameter\n",
        "    'gamma': ['scale', 'auto']  # Kernel coefficient\n",
        "}\n",
        "\n",
        "# Create the grid search object with ROC AUC scoring\n",
        "grid_search_svm = GridSearchCV(svm_model, param_grid_svm, cv=cv10_fold, scoring='roc_auc', error_score='raise')\n",
        "\n",
        "# Fit the grid search to the data\n",
        "grid_search_svm.fit(X_train, Y_train)\n",
        "\n",
        "# Print the best parameters\n",
        "print(\"Best parameters found: \", grid_search_svm.best_params_)\n",
        "\n",
        "# Get the best estimator\n",
        "best_svm_model = grid_search_svm.best_estimator_\n",
        "\n",
        "print(best_svm_model)"
      ],
      "metadata": {
        "id": "Sq1xKlCeckiq",
        "outputId": "7dade093-f99f-4776-e376-27c98fea9f08",
        "colab": {
          "base_uri": "https://localhost:8080/"
        }
      },
      "execution_count": 36,
      "outputs": [
        {
          "output_type": "stream",
          "name": "stdout",
          "text": [
            "Best parameters found:  {'C': 1}\n",
            "SVC(C=1, probability=True)\n"
          ]
        }
      ]
    },
    {
      "cell_type": "code",
      "source": [
        "predictions_svm_train = best_svm_model.predict(X_train)\n",
        "print(classification_report(Y_train, predictions_svm_train))\n",
        "\n",
        "roc_auc_svm_train = roc_auc_score(Y_train, predictions_svm_train)\n",
        "print('ROC AUC =', roc_auc_svm_train)\n",
        "accuracy_svm_train = accuracy_score(Y_train, predictions_svm_train)\n",
        "print('Accuracy =', accuracy_svm_train)"
      ],
      "metadata": {
        "id": "e4lQPSuA5NBO",
        "outputId": "bc73358c-1517-4033-a885-3ebf0b29a717",
        "colab": {
          "base_uri": "https://localhost:8080/"
        }
      },
      "execution_count": 37,
      "outputs": [
        {
          "output_type": "stream",
          "name": "stdout",
          "text": [
            "              precision    recall  f1-score   support\n",
            "\n",
            "           0       1.00      0.07      0.12        46\n",
            "           1       0.52      1.00      0.68        46\n",
            "\n",
            "    accuracy                           0.53        92\n",
            "   macro avg       0.76      0.53      0.40        92\n",
            "weighted avg       0.76      0.53      0.40        92\n",
            "\n",
            "ROC AUC = 0.5326086956521738\n",
            "Accuracy = 0.532608695652174\n"
          ]
        }
      ]
    },
    {
      "cell_type": "code",
      "source": [
        "predictions_svm_test = best_svm_model.predict(X_test)\n",
        "print(classification_report(Y_test, predictions_svm_test))\n",
        "\n",
        "roc_auc_svm_test = roc_auc_score(Y_test, predictions_svm_test)\n",
        "print('ROC AUC =', roc_auc_svm_test)\n",
        "accuracy_svm_test = accuracy_score(Y_test, predictions_svm_test)\n",
        "print('Accuracy =', accuracy_svm_test)"
      ],
      "metadata": {
        "id": "w8tzko6JK1fJ",
        "outputId": "47befa2a-ac88-42d3-c40f-13c5e3907cc8",
        "colab": {
          "base_uri": "https://localhost:8080/"
        }
      },
      "execution_count": 38,
      "outputs": [
        {
          "output_type": "stream",
          "name": "stdout",
          "text": [
            "              precision    recall  f1-score   support\n",
            "\n",
            "           0       0.00      0.00      0.00        11\n",
            "           1       0.50      0.92      0.65        12\n",
            "\n",
            "    accuracy                           0.48        23\n",
            "   macro avg       0.25      0.46      0.32        23\n",
            "weighted avg       0.26      0.48      0.34        23\n",
            "\n",
            "ROC AUC = 0.4583333333333333\n",
            "Accuracy = 0.4782608695652174\n"
          ]
        }
      ]
    }
  ],
  "metadata": {
    "colab": {
      "name": "assignment.ipynb",
      "provenance": [],
      "toc_visible": true
    },
    "kernelspec": {
      "display_name": "Python 3",
      "language": "python",
      "name": "python3"
    },
    "language_info": {
      "codemirror_mode": {
        "name": "ipython",
        "version": 3
      },
      "file_extension": ".py",
      "mimetype": "text/x-python",
      "name": "python",
      "nbconvert_exporter": "python",
      "pygments_lexer": "ipython3",
      "version": "3.8.5"
    }
  },
  "nbformat": 4,
  "nbformat_minor": 0
}