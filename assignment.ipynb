{
  "cells": [
    {
      "cell_type": "markdown",
      "metadata": {
        "id": "7SXpaKwwGe5x"
      },
      "source": [
        "# TM10007 Assignment template"
      ]
    },
    {
      "cell_type": "code",
      "execution_count": null,
      "metadata": {
        "id": "CiDn2Sk-VWqE"
      },
      "outputs": [],
      "source": [
        "# Run this to use from colab environment\n",
        "# !pip install -q --upgrade git+https://github.com/jveenland/tm10007_ml.git"
      ]
    },
    {
      "cell_type": "markdown",
      "source": [
        "# Importing packages"
      ],
      "metadata": {
        "id": "g1cum_GWnJzM"
      }
    },
    {
      "cell_type": "code",
      "source": [
        "# General packages\n",
        "import numpy as np\n",
        "import pandas as pd\n",
        "import matplotlib.pyplot as plt\n",
        "from sklearn import datasets as ds\n",
        "import seaborn\n",
        "\n",
        "# Classifiers\n",
        "from sklearn import model_selection\n",
        "from sklearn import metrics\n",
        "from sklearn.ensemble import RandomForestClassifier\n",
        "from sklearn.neighbors import KNeighborsClassifier\n",
        "from sklearn import svm\n",
        "\n",
        "# Scoring methods\n",
        "from sklearn.model_selection import GridSearchCV, cross_val_score\n",
        "from sklearn.metrics import roc_auc_score, accuracy_score, classification_report\n",
        "\n",
        "# Preprocessing steps\n",
        "from sklearn.impute import SimpleImputer\n",
        "from sklearn.decomposition import PCA\n",
        "from sklearn.pipeline import Pipeline\n",
        "from scipy.stats import shapiro\n",
        "from sklearn.preprocessing import StandardScaler\n",
        "from sklearn.preprocessing import MinMaxScaler\n",
        "from sklearn.preprocessing import RobustScaler\n",
        "\n",
        "# Feature selection\n",
        "from sklearn.feature_selection import SelectKBest, f_classif, VarianceThreshold\n",
        "from sklearn.linear_model import LogisticRegression\n",
        "from sklearn.model_selection import StratifiedKFold\n",
        "from sklearn import decomposition"
      ],
      "metadata": {
        "id": "RPltM9lAmbIn"
      },
      "execution_count": null,
      "outputs": []
    },
    {
      "cell_type": "markdown",
      "metadata": {
        "id": "bXiW521Kl09k"
      },
      "source": [
        "# Data loading and cleaning\n",
        "\n",
        "Below are functions to load the dataset of your choice. After that, it is all up to you to create and evaluate a classification method. Beware, there may be missing values in these datasets. Good luck!"
      ]
    },
    {
      "cell_type": "code",
      "execution_count": null,
      "metadata": {
        "colab": {
          "base_uri": "https://localhost:8080/"
        },
        "id": "-NE_fTbKGe5z",
        "outputId": "20bc3855-8c15-40d6-c78e-55307a363055"
      },
      "outputs": [
        {
          "output_type": "stream",
          "name": "stdout",
          "text": [
            "The number of samples: 115\n",
            "The number of columns: 494\n"
          ]
        }
      ],
      "source": [
        "## Data loading functions. Uncomment the one you want to use\n",
        "from worclipo.load_data import load_data\n",
        "\n",
        "data = load_data()\n",
        "print(f'The number of samples: {len(data.index)}')\n",
        "print(f'The number of columns: {len(data.columns)}')\n",
        "\n",
        "\n",
        "\n"
      ]
    },
    {
      "cell_type": "markdown",
      "source": [
        "## Creating a split in the data\n",
        "\n",
        "A training and test set are created. The training set will be used to fit the classifier, while the test set is remained untouched until it is used for testing the trained classifier.\n",
        "\n",
        "Split is stratified so labels are present in both sets in same proportions."
      ],
      "metadata": {
        "id": "EnN20JHuvvaq"
      }
    },
    {
      "cell_type": "code",
      "source": [
        "# Extract columns with labels\n",
        "Y = data.pop('label').replace({'lipoma':0, 'liposarcoma':1}) #moeten we misschien nog ook de ID poppen?\n",
        "print(f'The proportion of the labels is: {sum(Y)/len(Y)}')\n",
        "\n",
        "# Extract the rest of the data (without the labels)\n",
        "X = data\n",
        "X_train, X_test, Y_train, Y_test = model_selection.train_test_split(X, Y, test_size=0.2, stratify=Y)\n",
        "\n",
        "print(f'Size of training set: {X_train.shape}')\n",
        "print(f'Size of test set: {X_test.shape}')"
      ],
      "metadata": {
        "id": "qTjJAJ-7vtzg",
        "outputId": "87616730-f0ad-459a-f55f-7cf8422110d0",
        "colab": {
          "base_uri": "https://localhost:8080/"
        }
      },
      "execution_count": null,
      "outputs": [
        {
          "output_type": "stream",
          "name": "stdout",
          "text": [
            "The proportion of the labels is: 0.5043478260869565\n",
            "Size of training set: (92, 493)\n",
            "Size of test set: (23, 493)\n"
          ]
        }
      ]
    },
    {
      "cell_type": "markdown",
      "source": [
        "## Inspecting distribution of features\n",
        "To determine data distribution of train set"
      ],
      "metadata": {
        "id": "pJBR7ywnn50T"
      }
    },
    {
      "cell_type": "markdown",
      "source": [
        "### Visually inspect distribution of features"
      ],
      "metadata": {
        "id": "q7JVrtMS2mih"
      }
    },
    {
      "cell_type": "code",
      "source": [
        "## UITEINDELIJK WEGHALEN DIT!!\n",
        "\n",
        "#Check if Gaussian distribution per column\n",
        "# if Gaussian distribution, take mean for filling empty cells (later in script)\n",
        "# if not Gaussion distribution (and outliers or skewed), take median for filling empty cells (later in script)\n",
        "\n",
        "# plt.hist(X_train.iloc[:, 15], bins=30, edgecolor='k') # Change number of colum to see distribution (between width dataframe)\n",
        "plt.hist(X_train['PREDICT_original_tf_Gabor_entropy_F0.2_A1.57'], bins=30, edgecolor='k') # Change number of colum to see distribution (between width dataframe)\n",
        "\n",
        "\n",
        "plt.title('Distribution of Feature')\n",
        "plt.xlabel('Value')\n",
        "plt.ylabel('Frequency')\n",
        "plt.show()\n",
        "\n",
        "# print(X_train.head())"
      ],
      "metadata": {
        "colab": {
          "base_uri": "https://localhost:8080/",
          "height": 472
        },
        "id": "Llz2aPWlneOo",
        "outputId": "e933db71-a153-46a5-fd86-af4c6d5471eb"
      },
      "execution_count": null,
      "outputs": [
        {
          "output_type": "display_data",
          "data": {
            "text/plain": [
              "<Figure size 640x480 with 1 Axes>"
            ],
            "image/png": "[encoded data removed]"
          },
          "metadata": {}
        }
      ]
    },
    {
      "cell_type": "markdown",
      "source": [
        "## Preprocessing Data"
      ],
      "metadata": {
        "id": "cL18MbR93P-I"
      }
    },
    {
      "cell_type": "markdown",
      "source": [
        "### Missing Values\n",
        "Determining cells with missing values and filling these"
      ],
      "metadata": {
        "id": "U8-WunWt4Q6p"
      }
    },
    {
      "cell_type": "code",
      "source": [
        "# Filling missing values with correct value based on type of distribution per column\n",
        "\n",
        "# Definieer alpha voor de significantietest BEARGUMENTEREN WAAROM DEZE TEST IN REPORT + WAARDE\n",
        "alpha = 0.05\n",
        "\n",
        "# Initialiseer een teller voor normaal verdeelde kolommen\n",
        "normal_distributed_columns_count = 0\n",
        "not_normal_distributed_columns_count = 0\n",
        "nans_found_in_column_count = 0\n",
        "\n",
        "# Loop door elke kolom in de DataFrame en voer Shapiro-Wilk test uit\n",
        "for column in X_train:\n",
        "    stat, p = shapiro(X_train[column])\n",
        "    if p > alpha:\n",
        "        # print(column)\n",
        "        normal_distributed_columns_count += 1  # Tel kolom als normaal verdeeld\n",
        "        if X_train[column].isna().sum() > 0:\n",
        "            X_train[column].fillna(X_train[column].mean)\n",
        "            nans_found_in_column_count += 1\n",
        "    else:\n",
        "        not_normal_distributed_columns_count += 1  # Tel kolom als normaal verdeeld\n",
        "        if X_train[column].isna().sum() > 0:\n",
        "            X_train[column].fillna(X_train[column].median)\n",
        "            nans_found_in_column_count += 1\n",
        "\n",
        "print(f'The number of normal distributed columns is: {normal_distributed_columns_count}')\n",
        "print(f'The number of not normal distributed columns is: {not_normal_distributed_columns_count}')\n",
        "print(f'The number of columns where nans were filled: {nans_found_in_column_count}')"
      ],
      "metadata": {
        "id": "CpaHZZda6SE1",
        "outputId": "6a87621b-7813-4b38-80ee-861beaa4c482",
        "colab": {
          "base_uri": "https://localhost:8080/"
        }
      },
      "execution_count": null,
      "outputs": [
        {
          "output_type": "stream",
          "name": "stdout",
          "text": [
            "The number of normal distributed columns is: 89\n",
            "The number of not normal distributed columns is: 404\n",
            "The number of columns where nans were filled: 0\n"
          ]
        },
        {
          "output_type": "stream",
          "name": "stderr",
          "text": [
            "/usr/local/lib/python3.10/dist-packages/scipy/stats/_morestats.py:1879: UserWarning: Input data for shapiro has range zero. The results may not be accurate.\n",
            "  warnings.warn(\"Input data for shapiro has range zero. The results \"\n"
          ]
        }
      ]
    },
    {
      "cell_type": "markdown",
      "source": [
        "### Feature Scaling\n",
        "Scale features in Train set"
      ],
      "metadata": {
        "id": "ZB1ABL14902-"
      }
    },
    {
      "cell_type": "markdown",
      "source": [
        "#### Motivation of chosen scaler"
      ],
      "metadata": {
        "id": "fAtSOQHKkYAE"
      }
    },
    {
      "cell_type": "code",
      "source": [
        "# Define counter for columns with many outliers\n",
        "columns_with_many_outliers_count = 0\n",
        "\n",
        "for column in X_train:\n",
        "    Q1 = X_train[column].quantile(0.25)\n",
        "    Q3 = X_train[column].quantile(0.75)\n",
        "    IQR = Q3 - Q1\n",
        "\n",
        "    # Calculate number of outliers\n",
        "    outliers = X_train[(X_train[column] < (Q1 - 1.5 * IQR)) | (X_train[column] > (Q3 + 1.5 * IQR))]\n",
        "    outliers_count = outliers.shape[0]\n",
        "\n",
        "    # Define what 'many' outliers mean\n",
        "    if outliers_count > 0.05 * X_train.shape[0]:\n",
        "        columns_with_many_outliers_count += 1\n",
        "        # print(f\"{column} has many outliers: {outliers_count} outliers\")\n",
        "\n",
        "print(f\"Number of columns with many outliers: {columns_with_many_outliers_count}/{len(X_train.columns)}\")\n"
      ],
      "metadata": {
        "id": "L5ePShRwmJrY",
        "outputId": "6a2808f7-87c8-401f-c8ac-c1744d962b1d",
        "colab": {
          "base_uri": "https://localhost:8080/"
        }
      },
      "execution_count": null,
      "outputs": [
        {
          "output_type": "stream",
          "name": "stdout",
          "text": [
            "Number of columns with many outliers: 201/493\n"
          ]
        }
      ]
    },
    {
      "cell_type": "markdown",
      "source": [
        "#### Scaling the data"
      ],
      "metadata": {
        "id": "oS7Re7CSkiMx"
      }
    },
    {
      "cell_type": "code",
      "source": [
        "# Initialize a RobustScaler object\n",
        "scaler = RobustScaler()\n",
        "\n",
        "# Fit the scaler on the training data\n",
        "scaler.fit(X_train)\n",
        "\n",
        "# Transform both training and testing data using the scaler\n",
        "X_train_sc = (scaler.transform(X_train))\n",
        "X_test_sc = scaler.transform(X_test)\n",
        "\n",
        "X_train_sc = pd.DataFrame(X_train_sc)\n",
        "X_test_sc = pd.DataFrame(X_test_sc)"
      ],
      "metadata": {
        "id": "vR4vx1oJoZBn"
      },
      "execution_count": null,
      "outputs": []
    },
    {
      "cell_type": "markdown",
      "source": [
        "# Inspecting data"
      ],
      "metadata": {
        "id": "7afe2lGEowDL"
      }
    },
    {
      "cell_type": "markdown",
      "source": [
        "### Feature selection and extraction"
      ],
      "metadata": {
        "id": "bTxLT12kH1u5"
      }
    },
    {
      "cell_type": "code",
      "source": [
        "# Zero variance\n",
        "selector = VarianceThreshold(threshold=0)\n",
        "vs_fit = selector.fit(X_train_sc)\n",
        "\n",
        "X_train_zv = vs_fit.transform(X_train_sc)\n",
        "X_test_zv = vs_fit.transform(X_test_sc)\n",
        "\n",
        "# Willen we dit nou van train of test set weten?\n",
        "print(f'Amount of features with zero variance: {X_train_sc.shape[1]-X_train_zv.shape[1]}')\n",
        "print(f'Amount of features after removing features with zero variance: {X_train_zv.shape[1]}')"
      ],
      "metadata": {
        "id": "isFVugQAoGXH",
        "outputId": "6b7507fc-f689-46d8-9019-b672cdd3770b",
        "colab": {
          "base_uri": "https://localhost:8080/"
        }
      },
      "execution_count": null,
      "outputs": [
        {
          "output_type": "stream",
          "name": "stdout",
          "text": [
            "Amount of features with zero variance: 19\n",
            "Amount of features after removing features with zero variance: 474\n"
          ]
        }
      ]
    },
    {
      "cell_type": "code",
      "source": [
        "# Feature selection using K best - chi squared test\n",
        "fs_chi = SelectKBest(f_classif, k=5).fit(X_train_zv, Y_train)\n",
        "\n",
        "X_train_fs = fs_chi.transform(X_train_zv)\n",
        "X_test_fs = fs_chi.transform(X_test_zv)\n",
        "\n",
        "print(X_train_fs.shape)\n",
        "print(X_test_fs.shape)\n"
      ],
      "metadata": {
        "id": "pY2smu5SH9NH",
        "colab": {
          "base_uri": "https://localhost:8080/"
        },
        "outputId": "0cfda03c-0c1d-4e53-c6a1-9b9094bb570e"
      },
      "execution_count": null,
      "outputs": [
        {
          "output_type": "stream",
          "name": "stdout",
          "text": [
            "(92, 5)\n",
            "(23, 5)\n"
          ]
        }
      ]
    },
    {
      "cell_type": "code",
      "source": [
        "# # PCA\n",
        "# # If there are more samples than features left after RFECV then perform PCA\n",
        "# pca = decomposition.PCA(n_components=0.95)\n",
        "# pca.fit(X_train_zv)\n",
        "# X_train_fs = pca.transform(X_train_zv)\n",
        "# X_test_fs = pca.transform(X_test_zv)"
      ],
      "metadata": {
        "id": "1HlXchplsHTo"
      },
      "execution_count": null,
      "outputs": []
    },
    {
      "cell_type": "markdown",
      "source": [
        "# Classifiers"
      ],
      "metadata": {
        "id": "NqoGUPrpTjMS"
      }
    },
    {
      "cell_type": "markdown",
      "source": [
        "### KNN"
      ],
      "metadata": {
        "id": "9pY9Z5AwTk4w"
      }
    },
    {
      "cell_type": "code",
      "source": [
        "# Define cv and knn classifier\n",
        "cv_knn = 6\n",
        "knn_model = KNeighborsClassifier()\n",
        "\n",
        "# Define range for n neighbours to be max the size of one split\n",
        "max_n_neighbors = len(X_train_fs) // cv_knn - 1\n",
        "print(\"Max number of neighbors:\", max_n_neighbors)\n",
        "\n",
        "# Define the parameter grid\n",
        "param_grid_knn = {\n",
        "    'n_neighbors': list(range(1, max_n_neighbors, 2)),\n",
        "    'weights': ['uniform', 'distance'],\n",
        "    'p': [1, 2]  # p=1 for Manhattan distance, p=2 for Euclidean distance\n",
        "}\n",
        "\n",
        "# Create the grid search object with ROC AUC scoring\n",
        "grid_search_knn = GridSearchCV(knn_model, param_grid_knn, cv=cv_knn, scoring='roc_auc')\n",
        "\n",
        "# Fit the grid search to the data\n",
        "grid_search_knn.fit(X_train_fs, Y_train)\n",
        "\n",
        "# Print the best parameters\n",
        "print(\"Best parameters found: \", grid_search_knn.best_params_)\n",
        "\n",
        "# Get the best estimator\n",
        "best_knn_model = grid_search_knn.best_estimator_\n",
        "print(f'Best estimator: {best_knn_model}')\n",
        "\n",
        "# See how well model works on train data:\n",
        "pred_knn_train = best_knn_model.predict(X_train_fs)\n",
        "pred_proba_knn_train = best_knn_model.predict_proba(X_train_fs)[:,1]\n",
        "\n",
        "roc_auc_knn_train = roc_auc_score(Y_train, pred_proba_knn_train)\n",
        "print('ROC AUC train =', roc_auc_knn_train)\n",
        "accuracy_knn_train = accuracy_score(Y_train, pred_knn_train)\n",
        "print('Accuracy train =', accuracy_knn_train)\n",
        "\n",
        "# See how well model works on test data:\n",
        "pred_knn_test = best_knn_model.predict(X_test_fs)\n",
        "pred_proba_knn_test = best_knn_model.predict_proba(X_test_fs)[:,1]\n",
        "\n",
        "roc_auc_knn_test = roc_auc_score(Y_test, pred_proba_knn_test)\n",
        "print('ROC AUC test =', roc_auc_knn_test)\n",
        "accuracy_knn_test = accuracy_score(Y_test, pred_knn_test)\n",
        "print('Accuracy test =', accuracy_knn_test)"
      ],
      "metadata": {
        "id": "KSjGJIfWTmUX",
        "outputId": "d902697e-1dc5-44b3-b096-91e3e5ab6d59",
        "colab": {
          "base_uri": "https://localhost:8080/"
        }
      },
      "execution_count": null,
      "outputs": [
        {
          "output_type": "stream",
          "name": "stdout",
          "text": [
            "Best parameters found:  {'n_neighbors': 5, 'p': 2, 'weights': 'distance'}\n",
            "Best estimator: KNeighborsClassifier(weights='distance')\n",
            "              precision    recall  f1-score   support\n",
            "\n",
            "           0       1.00      1.00      1.00        46\n",
            "           1       1.00      1.00      1.00        46\n",
            "\n",
            "    accuracy                           1.00        92\n",
            "   macro avg       1.00      1.00      1.00        92\n",
            "weighted avg       1.00      1.00      1.00        92\n",
            "\n",
            "ROC AUC = 1.0\n",
            "Accuracy = 1.0\n",
            "              precision    recall  f1-score   support\n",
            "\n",
            "           0       0.64      0.64      0.64        11\n",
            "           1       0.67      0.67      0.67        12\n",
            "\n",
            "    accuracy                           0.65        23\n",
            "   macro avg       0.65      0.65      0.65        23\n",
            "weighted avg       0.65      0.65      0.65        23\n",
            "\n",
            "ROC AUC = 0.6515151515151515\n",
            "Accuracy = 0.6521739130434783\n"
          ]
        }
      ]
    },
    {
      "cell_type": "markdown",
      "source": [
        "### Random forest"
      ],
      "metadata": {
        "id": "Czr39UJNT1l-"
      }
    },
    {
      "cell_type": "code",
      "source": [
        "# Visualise the effect of n_estimators\n",
        "roc_auc_scores = []\n",
        "\n",
        "for k in range(1, 100):\n",
        "    rf_model = RandomForestClassifier(n_estimators=k)\n",
        "    rf_model.fit(X_train_fs, Y_train)\n",
        "\n",
        "    pred_proba_RF_test =rf_model.predict_proba(X_test_fs)[:,1]\n",
        "    roc_auc_RF_test = roc_auc_score(Y_test, pred_proba_RF_test)\n",
        "    roc_auc_scores.append(roc_auc_RF_test)\n",
        "\n",
        "# Plot the relationship between K and testing roc auc\n",
        "fig = plt.figure(figsize=(15,4))\n",
        "ax = fig.add_subplot(1, 2, 1)\n",
        "plt.plot(range(1, 100), roc_auc_scores)\n",
        "plt.xlabel('Value of n_estimators for Random Forest Classifier')\n",
        "plt.ylabel('ROC AUC')\n",
        "\n",
        "# Find the index of the (first) maximum ROC AUC score\n",
        "max_roc_auc_index = np.argmax(roc_auc_scores)\n",
        "\n",
        "# Find the maximum ROC AUC score and its corresponding n_estimators\n",
        "max_roc_auc = roc_auc_scores[max_roc_auc_index]\n",
        "best_n_estimators_roc_auc = max_roc_auc_index + 1  # Adding 1 to convert index to n_estimators value\n",
        "\n",
        "# Print the results\n",
        "print(\"Maximum ROC AUC:\", max_roc_auc, \"at n_estimators =\", best_n_estimators_roc_auc)\n",
        "\n",
        "# The model shows there is a lot of variety in which estimator is best\n",
        "# But since it is best to use a more simple model (with the same results)\n",
        "# We choose n_estimators = 15\n",
        "\n",
        "# Define cv and RF classifier\n",
        "cv_RF = 7\n",
        "RF_model = RandomForestClassifier(n_estimators=15)\n",
        "\n",
        "# Define the parameter grid\n",
        "param_grid_RF = {\n",
        "    'bootstrap': [True, False],\n",
        "    'min_samples_leaf': list(range(1, 7, 2))\n",
        "}\n",
        "\n",
        "# Create the grid search object with ROC AUC scoring\n",
        "grid_search_RF = GridSearchCV(RF_model, param_grid_RF, cv=cv_RF, scoring='roc_auc', error_score='raise')\n",
        "\n",
        "# Fit the grid search to the data\n",
        "grid_search_RF.fit(X_train_fs, Y_train)\n",
        "\n",
        "# Print the best parameters\n",
        "print(\"Best parameters found: \", grid_search_RF.best_params_)\n",
        "\n",
        "# Get the best estimator\n",
        "best_RF_model = grid_search_RF.best_estimator_\n",
        "print(best_RF_model)\n",
        "\n",
        "# See how well model works on train data:\n",
        "pred_RF_train = best_RF_model.predict(X_train_fs)\n",
        "pred_proba_RF_train = best_RF_model.predict_proba(X_train_fs)[:,1]\n",
        "\n",
        "roc_auc_RF_train = roc_auc_score(Y_train, pred_proba_RF_train)\n",
        "print('ROC AUC train=', roc_auc_RF_train)\n",
        "accuracy_RF_train = accuracy_score(Y_train, pred_RF_train)\n",
        "print('Accuracy train=', accuracy_RF_train)\n",
        "\n",
        "# See how well model works on test data:\n",
        "pred_RF_test = best_RF_model.predict(X_test_fs)\n",
        "pred_proba_RF_test = best_RF_model.predict_proba(X_test_fs)[:,1]\n",
        "\n",
        "roc_auc_RF_test = roc_auc_score(Y_test, pred_proba_RF_test)\n",
        "print('ROC AUC test=', roc_auc_RF_test)\n",
        "accuracy_RF_test = accuracy_score(Y_test, pred_RF_test)\n",
        "print('Accuracy test=', accuracy_RF_test)"
      ],
      "metadata": {
        "id": "KJxj9a1sT3In",
        "outputId": "cdd12154-20e3-443d-fac1-7f8e140a9d72",
        "colab": {
          "base_uri": "https://localhost:8080/"
        }
      },
      "execution_count": null,
      "outputs": [
        {
          "output_type": "stream",
          "name": "stdout",
          "text": [
            "Best parameters found:  {'bootstrap': True, 'min_samples_leaf': 3}\n",
            "RandomForestClassifier(min_samples_leaf=3)\n",
            "              precision    recall  f1-score   support\n",
            "\n",
            "           0       0.91      0.91      0.91        46\n",
            "           1       0.91      0.91      0.91        46\n",
            "\n",
            "    accuracy                           0.91        92\n",
            "   macro avg       0.91      0.91      0.91        92\n",
            "weighted avg       0.91      0.91      0.91        92\n",
            "\n",
            "ROC AUC = 0.9130434782608697\n",
            "Accuracy = 0.9130434782608695\n",
            "              precision    recall  f1-score   support\n",
            "\n",
            "           0       0.73      0.73      0.73        11\n",
            "           1       0.75      0.75      0.75        12\n",
            "\n",
            "    accuracy                           0.74        23\n",
            "   macro avg       0.74      0.74      0.74        23\n",
            "weighted avg       0.74      0.74      0.74        23\n",
            "\n",
            "ROC AUC = 0.7386363636363636\n",
            "Accuracy = 0.7391304347826086\n"
          ]
        }
      ]
    },
    {
      "cell_type": "markdown",
      "source": [
        "### Support Vector Machine"
      ],
      "metadata": {
        "id": "k0LOVQXyUA-W"
      }
    },
    {
      "cell_type": "code",
      "source": [
        "# Define cv and SVM classifier\n",
        "cv_svm = 5\n",
        "svm_model = svm.SVC(probability=True)\n",
        "\n",
        "# Define the parameter grid for SVM\n",
        "param_grid_svm = {\n",
        "    'C': [0.001, 0.01, 0.1, 1, 10],  # Regularization parameter\n",
        "    'gamma': ['scale', 'auto', 0.001, 0.01, 0.1, 1],  # Kernel coefficient\n",
        "    'kernel': ['rbf', 'linear', 'poly'] # Kernel type\n",
        "}\n",
        "\n",
        "# Create the grid search object with ROC AUC scoring\n",
        "grid_search_svm = GridSearchCV(svm_model, param_grid_svm, cv=cv_svm, scoring='roc_auc', error_score='raise')\n",
        "\n",
        "# Fit the grid search to the data\n",
        "grid_search_svm.fit(X_train_fs, Y_train)\n",
        "\n",
        "# Print the best parameters\n",
        "print(\"Best parameters found: \", grid_search_svm.best_params_)\n",
        "\n",
        "# Get the best estimator\n",
        "best_svm_model = grid_search_svm.best_estimator_\n",
        "print(best_svm_model)\n",
        "\n",
        "# See how well model works on train data\n",
        "pred_svm_train = best_svm_model.predict(X_train_fs)\n",
        "pred_proba_svm_train = best_svm_model.decision_function(X_train_fs)\n",
        "\n",
        "roc_auc_svm_train = roc_auc_score(Y_train, pred_proba_svm_train)\n",
        "print('ROC AUC train=', roc_auc_svm_train)\n",
        "accuracy_svm_train = accuracy_score(Y_train, pred_svm_train)\n",
        "print('Accuracy train=', accuracy_svm_train)\n",
        "\n",
        "# See how well model works on test data\n",
        "pred_svm_test = best_svm_model.predict(X_test_fs)\n",
        "pred_proba_svm_test = best_svm_model.decision_function(X_test_fs)\n",
        "\n",
        "roc_auc_svm_test = roc_auc_score(Y_test, pred_proba_svm_test)\n",
        "print('ROC AUC test=', roc_auc_svm_test)\n",
        "accuracy_svm_test = accuracy_score(Y_test, pred_svm_test)\n",
        "print('Accuracy test=', accuracy_svm_test)"
      ],
      "metadata": {
        "id": "2AzjJ9b-UDhW",
        "outputId": "4c3121b2-3727-45ac-ede7-4bf5cc30b57b",
        "colab": {
          "base_uri": "https://localhost:8080/"
        }
      },
      "execution_count": null,
      "outputs": [
        {
          "output_type": "stream",
          "name": "stdout",
          "text": [
            "Best parameters found:  {'C': 1, 'gamma': 'scale'}\n",
            "SVC(C=1, probability=True)\n",
            "              precision    recall  f1-score   support\n",
            "\n",
            "           0       0.76      0.85      0.80        46\n",
            "           1       0.83      0.74      0.78        46\n",
            "\n",
            "    accuracy                           0.79        92\n",
            "   macro avg       0.80      0.79      0.79        92\n",
            "weighted avg       0.80      0.79      0.79        92\n",
            "\n",
            "ROC AUC = 0.7934782608695652\n",
            "Accuracy = 0.7934782608695652\n",
            "              precision    recall  f1-score   support\n",
            "\n",
            "           0       0.67      0.73      0.70        11\n",
            "           1       0.73      0.67      0.70        12\n",
            "\n",
            "    accuracy                           0.70        23\n",
            "   macro avg       0.70      0.70      0.70        23\n",
            "weighted avg       0.70      0.70      0.70        23\n",
            "\n",
            "ROC AUC = 0.696969696969697\n",
            "Accuracy = 0.6956521739130435\n"
          ]
        }
      ]
    },
    {
      "cell_type": "markdown",
      "source": [
        "# Visualisatie"
      ],
      "metadata": {
        "id": "VL4gP1HNg5Tx"
      }
    },
    {
      "cell_type": "markdown",
      "source": [
        "## Receiver Operating Curve"
      ],
      "metadata": {
        "id": "ZHkb7w9rhCCM"
      }
    },
    {
      "cell_type": "code",
      "source": [
        "# Plot the ROC curve of the different classifiers\n",
        "plt.figure()\n",
        "lw = 2\n",
        "plt.plot([0, 1], [0, 1], lw=lw, linestyle='--')\n",
        "plt.xlim([0.0, 1.0])\n",
        "plt.ylim([0.0, 1.05])\n",
        "plt.xlabel('False Positive Rate')\n",
        "plt.ylabel('True Positive Rate')\n",
        "plt.title('Receiver Operating Curve')\n",
        "\n",
        "# knn\n",
        "fpr_knn, tpr_knn, _ = roc_curve(Y_test, pred_proba_knn_test)\n",
        "roc_auc_knn = auc(fpr_knn, tpr_knn)\n",
        "plt.plot(fpr_knn, tpr_knn, lw=lw, label='knn (AUC = %0.2f)' % roc_auc_knn)\n",
        "\n",
        "# RF\n",
        "fpr_RF, tpr_RF, _ = roc_curve(Y_test, pred_proba_RF_test)\n",
        "roc_auc_RF = auc(fpr_RF, tpr_RF)\n",
        "plt.plot(fpr_RF, tpr_RF, lw=lw, label='RF (AUC = %0.2f)' % roc_auc_RF)\n",
        "\n",
        "# svm\n",
        "fpr_svm, tpr_svm, _ = roc_curve(Y_test, pred_proba_svm_test)\n",
        "roc_auc_svm = auc(fpr_svm, tpr_svm)\n",
        "plt.plot(fpr_svm, tpr_svm, lw=lw, label='svm (AUC = %0.2f)' % roc_auc_svm)\n",
        "\n",
        "plt.legend(loc=\"lower right\")\n",
        "plt.show()"
      ],
      "metadata": {
        "id": "h5u6TbRYg7qg"
      },
      "execution_count": null,
      "outputs": []
    },
    {
      "cell_type": "markdown",
      "source": [
        "## Learning curves"
      ],
      "metadata": {
        "id": "8667zPI_hJeU"
      }
    },
    {
      "cell_type": "code",
      "source": [
        "fig = plt.figure(figsize=(15,4))\n",
        "\n",
        "# knn\n",
        "ax = fig.add_subplot(1, 3, 1)\n",
        "plot_learning_curve(best_knn_model, 'KNN classifier', X_train_fs, Y_train, ax, ylim=(0.3, 1.03), cv=cv_knn)\n",
        "\n",
        "# RF\n",
        "ax = fig.add_subplot(1, 3, 2)\n",
        "plot_learning_curve(best_RF_model, 'RF classifier', X_train_fs, Y_train, ax, ylim=(0.3, 1.03), cv=cv_RF)\n",
        "\n",
        "# CVM\n",
        "ax = fig.add_subplot(1, 3, 3)\n",
        "plot_learning_curve(best_svm_model, 'SVM classifier', X_train_fs, Y_train, ax, ylim=(0.3, 1.03), cv=cv_svm)"
      ],
      "metadata": {
        "id": "C1EjhRQOhLrp"
      },
      "execution_count": null,
      "outputs": []
    }
  ],
  "metadata": {
    "colab": {
      "name": "assignment.ipynb",
      "provenance": []
    },
    "kernelspec": {
      "display_name": "Python 3",
      "language": "python",
      "name": "python3"
    },
    "language_info": {
      "codemirror_mode": {
        "name": "ipython",
        "version": 3
      },
      "file_extension": ".py",
      "mimetype": "text/x-python",
      "name": "python",
      "nbconvert_exporter": "python",
      "pygments_lexer": "ipython3",
      "version": "3.8.5"
    }
  },
  "nbformat": 4,
  "nbformat_minor": 0
}