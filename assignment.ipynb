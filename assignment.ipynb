{
  "cells": [
    {
      "cell_type": "markdown",
      "metadata": {
        "id": "7SXpaKwwGe5x"
      },
      "source": [
        "# TM10007 Assignment template"
      ]
    },
    {
      "cell_type": "code",
      "execution_count": 1,
      "metadata": {
        "id": "CiDn2Sk-VWqE",
        "outputId": "857b2f6b-45c1-4c33-802f-ddfb9695de98",
        "colab": {
          "base_uri": "https://localhost:8080/"
        }
      },
      "outputs": [
        {
          "output_type": "stream",
          "name": "stdout",
          "text": [
            "  Preparing metadata (setup.py) ... \u001b[?25l\u001b[?25hdone\n",
            "  Building wheel for ktml (setup.py) ... \u001b[?25l\u001b[?25hdone\n"
          ]
        }
      ],
      "source": [
        "# Run this to use from colab environment\n",
        "!pip install -q --upgrade git+https://github.com/jveenland/tm10007_ml.git"
      ]
    },
    {
      "cell_type": "markdown",
      "source": [
        "# Importing packages"
      ],
      "metadata": {
        "id": "g1cum_GWnJzM"
      }
    },
    {
      "cell_type": "code",
      "source": [
        "# General packages\n",
        "import numpy as np\n",
        "import pandas as pd\n",
        "import matplotlib.pyplot as plt\n",
        "from sklearn import datasets as ds\n",
        "import seaborn\n",
        "\n",
        "# Classifiers\n",
        "from sklearn import model_selection\n",
        "from sklearn import metrics\n",
        "from sklearn.ensemble import RandomForestClassifier\n",
        "from sklearn.neighbors import KNeighborsClassifier\n",
        "from sklearn import svm\n",
        "\n",
        "# Scoring methods\n",
        "from sklearn.model_selection import GridSearchCV, cross_val_score\n",
        "from sklearn.metrics import roc_auc_score, accuracy_score, classification_report\n",
        "\n",
        "# Preprocessing steps\n",
        "from sklearn.impute import SimpleImputer\n",
        "from sklearn.decomposition import PCA\n",
        "from sklearn.pipeline import Pipeline\n",
        "from scipy.stats import shapiro\n",
        "from sklearn.preprocessing import StandardScaler\n",
        "from sklearn.preprocessing import MinMaxScaler\n",
        "from sklearn.preprocessing import RobustScaler\n",
        "\n",
        "# Feature selection\n",
        "from sklearn.feature_selection import SelectKBest, f_classif, VarianceThreshold\n",
        "from sklearn.linear_model import LogisticRegression\n",
        "from sklearn.model_selection import StratifiedKFold\n",
        "from sklearn import decomposition"
      ],
      "metadata": {
        "id": "RPltM9lAmbIn"
      },
      "execution_count": 2,
      "outputs": []
    },
    {
      "cell_type": "markdown",
      "metadata": {
        "id": "bXiW521Kl09k"
      },
      "source": [
        "# Data loading and cleaning\n",
        "\n",
        "Below are functions to load the dataset of your choice. After that, it is all up to you to create and evaluate a classification method. Beware, there may be missing values in these datasets. Good luck!"
      ]
    },
    {
      "cell_type": "code",
      "execution_count": 3,
      "metadata": {
        "colab": {
          "base_uri": "https://localhost:8080/"
        },
        "id": "-NE_fTbKGe5z",
        "outputId": "f036757e-b168-4530-c727-1570c9f7ff29"
      },
      "outputs": [
        {
          "output_type": "stream",
          "name": "stdout",
          "text": [
            "The number of samples: 115\n",
            "The number of columns: 494\n"
          ]
        }
      ],
      "source": [
        "## Data loading functions. Uncomment the one you want to use\n",
        "from worclipo.load_data import load_data\n",
        "\n",
        "data = load_data()\n",
        "print(f'The number of samples: {len(data.index)}')\n",
        "print(f'The number of columns: {len(data.columns)}')\n",
        "\n",
        "\n",
        "\n"
      ]
    },
    {
      "cell_type": "markdown",
      "source": [
        "## Creating a split in the data\n",
        "\n",
        "A training and test set are created. The training set will be used to fit the classifier, while the test set is remained untouched until it is used for testing the trained classifier.\n",
        "\n",
        "Split is stratified so labels are present in both sets in same proportions."
      ],
      "metadata": {
        "id": "EnN20JHuvvaq"
      }
    },
    {
      "cell_type": "code",
      "source": [
        "# Extract columns with labels\n",
        "Y = data.pop('label').replace({'lipoma':0, 'liposarcoma':1}) #moeten we misschien nog ook de ID poppen?\n",
        "print(f'The proportion of the labels is: {sum(Y)/len(Y)}')\n",
        "\n",
        "# Extract the rest of the data (without the labels)\n",
        "X = data\n",
        "X_train, X_test, Y_train, Y_test = model_selection.train_test_split(X, Y, test_size=0.2, stratify=Y)\n",
        "\n",
        "print(f'Size of training set: {X_train.shape}')\n",
        "print(f'Size of test set: {X_test.shape}')"
      ],
      "metadata": {
        "id": "qTjJAJ-7vtzg",
        "outputId": "3b3c38e2-af4b-472e-8e42-7de84ef1c58a",
        "colab": {
          "base_uri": "https://localhost:8080/"
        }
      },
      "execution_count": 4,
      "outputs": [
        {
          "output_type": "stream",
          "name": "stdout",
          "text": [
            "The proportion of the labels is: 0.5043478260869565\n",
            "Size of training set: (92, 493)\n",
            "Size of test set: (23, 493)\n"
          ]
        }
      ]
    },
    {
      "cell_type": "markdown",
      "source": [
        "## Inspecting distribution of features\n",
        "To determine data distribution of train set"
      ],
      "metadata": {
        "id": "pJBR7ywnn50T"
      }
    },
    {
      "cell_type": "markdown",
      "source": [
        "### Visually inspect distribution of features"
      ],
      "metadata": {
        "id": "q7JVrtMS2mih"
      }
    },
    {
      "cell_type": "code",
      "source": [
        "## UITEINDELIJK WEGHALEN DIT!!\n",
        "\n",
        "#Check if Gaussian distribution per column\n",
        "# if Gaussian distribution, take mean for filling empty cells (later in script)\n",
        "# if not Gaussion distribution (and outliers or skewed), take median for filling empty cells (later in script)\n",
        "\n",
        "# plt.hist(X_train.iloc[:, 15], bins=30, edgecolor='k') # Change number of colum to see distribution (between width dataframe)\n",
        "plt.hist(X_train['PREDICT_original_tf_Gabor_entropy_F0.2_A1.57'], bins=30, edgecolor='k') # Change number of colum to see distribution (between width dataframe)\n",
        "\n",
        "\n",
        "plt.title('Distribution of Feature')\n",
        "plt.xlabel('Value')\n",
        "plt.ylabel('Frequency')\n",
        "plt.show()\n",
        "\n",
        "# print(X_train.head())"
      ],
      "metadata": {
        "colab": {
          "base_uri": "https://localhost:8080/",
          "height": 472
        },
        "id": "Llz2aPWlneOo",
        "outputId": "d85d8860-5337-43fc-c266-6d6e60046102"
      },
      "execution_count": 5,
      "outputs": [
        {
          "output_type": "display_data",
          "data": {
            "text/plain": [
              "<Figure size 640x480 with 1 Axes>"
            ],
            "image/png": "[encoded data removed]"
          },
          "metadata": {}
        }
      ]
    },
    {
      "cell_type": "markdown",
      "source": [
        "## Preprocessing Data"
      ],
      "metadata": {
        "id": "cL18MbR93P-I"
      }
    },
    {
      "cell_type": "markdown",
      "source": [
        "### Missing Values\n",
        "Determining cells with missing values and filling these"
      ],
      "metadata": {
        "id": "U8-WunWt4Q6p"
      }
    },
    {
      "cell_type": "code",
      "source": [
        "# Filling missing values with correct value based on type of distribution per column\n",
        "\n",
        "# Definieer alpha voor de significantietest BEARGUMENTEREN WAAROM DEZE TEST IN REPORT + WAARDE\n",
        "alpha = 0.05\n",
        "\n",
        "# Initialiseer een teller voor normaal verdeelde kolommen\n",
        "normal_distributed_columns_count = 0\n",
        "not_normal_distributed_columns_count = 0\n",
        "nans_found_in_column_count = 0\n",
        "\n",
        "# Loop door elke kolom in de DataFrame en voer Shapiro-Wilk test uit\n",
        "for column in X_train:\n",
        "    stat, p = shapiro(X_train[column])\n",
        "    if p > alpha:\n",
        "        # print(column)\n",
        "        normal_distributed_columns_count += 1  # Tel kolom als normaal verdeeld\n",
        "        if X_train[column].isna().sum() > 0:\n",
        "            X_train[column].fillna(X_train[column].mean)\n",
        "            nans_found_in_column_count += 1\n",
        "    else:\n",
        "        not_normal_distributed_columns_count += 1  # Tel kolom als normaal verdeeld\n",
        "        if X_train[column].isna().sum() > 0:\n",
        "            X_train[column].fillna(X_train[column].median)\n",
        "            nans_found_in_column_count += 1\n",
        "\n",
        "print(f'The number of normal distributed columns is: {normal_distributed_columns_count}')\n",
        "print(f'The number of not normal distributed columns is: {not_normal_distributed_columns_count}')\n",
        "print(f'The number of columns where nans were filled: {nans_found_in_column_count}')"
      ],
      "metadata": {
        "id": "CpaHZZda6SE1",
        "outputId": "815c221d-1435-4528-f06b-473e62a4635a",
        "colab": {
          "base_uri": "https://localhost:8080/"
        }
      },
      "execution_count": 6,
      "outputs": [
        {
          "output_type": "stream",
          "name": "stderr",
          "text": [
            "/usr/local/lib/python3.10/dist-packages/scipy/stats/_morestats.py:1879: UserWarning: Input data for shapiro has range zero. The results may not be accurate.\n",
            "  warnings.warn(\"Input data for shapiro has range zero. The results \"\n"
          ]
        },
        {
          "output_type": "stream",
          "name": "stdout",
          "text": [
            "The number of normal distributed columns is: 82\n",
            "The number of not normal distributed columns is: 411\n",
            "The number of columns where nans were filled: 0\n"
          ]
        }
      ]
    },
    {
      "cell_type": "markdown",
      "source": [
        "### Feature Scaling\n",
        "Scale features in Train set"
      ],
      "metadata": {
        "id": "ZB1ABL14902-"
      }
    },
    {
      "cell_type": "markdown",
      "source": [
        "#### Motivation of chosen scaler"
      ],
      "metadata": {
        "id": "fAtSOQHKkYAE"
      }
    },
    {
      "cell_type": "code",
      "source": [
        "# Define counter for columns with many outliers\n",
        "columns_with_many_outliers_count = 0\n",
        "\n",
        "for column in X_train:\n",
        "    Q1 = X_train[column].quantile(0.25)\n",
        "    Q3 = X_train[column].quantile(0.75)\n",
        "    IQR = Q3 - Q1\n",
        "\n",
        "    # Calculate number of outliers\n",
        "    outliers = X_train[(X_train[column] < (Q1 - 1.5 * IQR)) | (X_train[column] > (Q3 + 1.5 * IQR))]\n",
        "    outliers_count = outliers.shape[0]\n",
        "\n",
        "    # Define what 'many' outliers mean\n",
        "    if outliers_count > 0.05 * X_train.shape[0]:\n",
        "        columns_with_many_outliers_count += 1\n",
        "        # print(f\"{column} has many outliers: {outliers_count} outliers\")\n",
        "\n",
        "print(f\"Number of columns with many outliers: {columns_with_many_outliers_count}/{len(X_train.columns)}\")\n"
      ],
      "metadata": {
        "id": "L5ePShRwmJrY",
        "outputId": "12182cf5-6ec0-4cbf-8227-96b4643cef1a",
        "colab": {
          "base_uri": "https://localhost:8080/"
        }
      },
      "execution_count": 7,
      "outputs": [
        {
          "output_type": "stream",
          "name": "stdout",
          "text": [
            "Number of columns with many outliers: 224/493\n"
          ]
        }
      ]
    },
    {
      "cell_type": "markdown",
      "source": [
        "#### Scaling the data"
      ],
      "metadata": {
        "id": "oS7Re7CSkiMx"
      }
    },
    {
      "cell_type": "code",
      "source": [
        "# Initialize a RobustScaler object\n",
        "scaler = RobustScaler()\n",
        "\n",
        "# Fit the scaler on the training data\n",
        "scaler.fit(X_train)\n",
        "\n",
        "# Transform both training and testing data using the scaler\n",
        "X_train_sc = (scaler.transform(X_train))\n",
        "X_test_sc = scaler.transform(X_test)\n",
        "\n",
        "X_train_sc = pd.DataFrame(X_train_sc)\n",
        "X_test_sc = pd.DataFrame(X_test_sc)"
      ],
      "metadata": {
        "id": "vR4vx1oJoZBn"
      },
      "execution_count": 8,
      "outputs": []
    },
    {
      "cell_type": "markdown",
      "source": [
        "# Inspecting data"
      ],
      "metadata": {
        "id": "7afe2lGEowDL"
      }
    },
    {
      "cell_type": "markdown",
      "source": [
        "### Feature selection and extraction"
      ],
      "metadata": {
        "id": "bTxLT12kH1u5"
      }
    },
    {
      "cell_type": "code",
      "source": [
        "# Zero variance\n",
        "selector = VarianceThreshold(threshold=0)\n",
        "vs_fit = selector.fit(X_train_sc)\n",
        "\n",
        "X_train_zv = vs_fit.transform(X_train_sc)\n",
        "X_test_zv = vs_fit.transform(X_test_sc)\n",
        "\n",
        "# Willen we dit nou van train of test set weten?\n",
        "print(f'Amount of features with zero variance: {X_train_sc.shape[1]-X_train_zv.shape[1]}')\n",
        "print(f'Amount of features after removing features with zero variance: {X_train_zv.shape[1]}')"
      ],
      "metadata": {
        "id": "isFVugQAoGXH",
        "outputId": "afd7069c-887a-4d42-ed7c-e50b564cb6ff",
        "colab": {
          "base_uri": "https://localhost:8080/"
        }
      },
      "execution_count": 9,
      "outputs": [
        {
          "output_type": "stream",
          "name": "stdout",
          "text": [
            "Amount of features with zero variance: 19\n",
            "Amount of features after removing features with zero variance: 474\n"
          ]
        }
      ]
    },
    {
      "cell_type": "code",
      "source": [
        "# Stel de KFold cross-validation in\n",
        "kf = StratifiedKFold(n_splits=10, shuffle=True, random_state=42)\n",
        "\n",
        "# Voor elke k-waarde van 1 tot 10\n",
        "for k in range(1, 11):\n",
        "    print(f\"\\nEvaluating SelectKBest with k={k}\")\n",
        "\n",
        "    # Selecteer de k beste features\n",
        "    selector = SelectKBest(f_classif, k=k)\n",
        "    X_train_selected = selector.fit_transform(X_train_zv, Y_train)\n",
        "    X_test_selected = selector.transform(X_test_zv)\n",
        "\n",
        "    # Initialiseer de lijst om de nauwkeurigheden voor elke fold op te slaan\n",
        "    accuracies = []\n",
        "\n",
        "    # 10-fold cross-validation\n",
        "    for train_index, test_index in kf.split(X_train_selected, Y_train):\n",
        "        # Maak de subsets voor deze fold\n",
        "        X_fold_train, X_fold_test = X_train_selected[train_index], X_train_selected[test_index]\n",
        "        y_fold_train, y_fold_test = Y_train.iloc[train_index], Y_train.iloc[test_index]\n",
        "\n",
        "        # Train het kNN-model\n",
        "        knn_model = KNeighborsClassifier()\n",
        "        knn_model.fit(X_fold_train, y_fold_train)\n",
        "\n",
        "        # Voorspel en evalueer de nauwkeurigheid\n",
        "        predictions = knn_model.predict(X_fold_test)\n",
        "        accuracy = accuracy_score(y_fold_test, predictions)\n",
        "        accuracies.append(accuracy)\n",
        "\n",
        "    # Print de gemiddelde nauwkeurigheid voor deze k\n",
        "    average_accuracy = np.mean(accuracies)\n",
        "    print(f\"Average accuracy for k={k}: {average_accuracy}\")"
      ],
      "metadata": {
        "id": "ARVOZKZSQYps",
        "outputId": "bbea70f4-407b-4163-f7ec-4d8e876bce19",
        "colab": {
          "base_uri": "https://localhost:8080/"
        }
      },
      "execution_count": 14,
      "outputs": [
        {
          "output_type": "stream",
          "name": "stdout",
          "text": [
            "\n",
            "Evaluating SelectKBest with k=1\n",
            "Average accuracy for k=1: 0.7411111111111112\n",
            "\n",
            "Evaluating SelectKBest with k=2\n",
            "Average accuracy for k=2: 0.7966666666666666\n",
            "\n",
            "Evaluating SelectKBest with k=3\n",
            "Average accuracy for k=3: 0.7633333333333333\n",
            "\n",
            "Evaluating SelectKBest with k=4\n",
            "Average accuracy for k=4: 0.7077777777777777\n",
            "\n",
            "Evaluating SelectKBest with k=5\n",
            "Average accuracy for k=5: 0.6977777777777778\n",
            "\n",
            "Evaluating SelectKBest with k=6\n",
            "Average accuracy for k=6: 0.6311111111111111\n",
            "\n",
            "Evaluating SelectKBest with k=7\n",
            "Average accuracy for k=7: 0.6955555555555555\n",
            "\n",
            "Evaluating SelectKBest with k=8\n",
            "Average accuracy for k=8: 0.6855555555555556\n",
            "\n",
            "Evaluating SelectKBest with k=9\n",
            "Average accuracy for k=9: 0.6733333333333335\n",
            "\n",
            "Evaluating SelectKBest with k=10\n",
            "Average accuracy for k=10: 0.6622222222222222\n"
          ]
        }
      ]
    },
    {
      "cell_type": "code",
      "source": [
        "# Stel de StratifiedKFold cross-validation in\n",
        "skf = StratifiedKFold(n_splits=10, shuffle=True, random_state=42)\n",
        "\n",
        "# Lijst om de gemiddelde nauwkeurigheid en standaarddeviatie voor elk aantal componenten op te slaan\n",
        "results = []\n",
        "\n",
        "max_components = min(X_train_zv.shape[1], X_train_zv.shape[0] - 1)\n",
        "for n_components in range(1, max_components + 1):\n",
        "    pca = PCA(n_components=n_components)\n",
        "    X_train_pca = pca.fit_transform(X_train_zv)\n",
        "\n",
        "    accuracies = []\n",
        "\n",
        "    for train_index, test_index in skf.split(X_train_pca, Y_train):\n",
        "        X_fold_train, X_fold_test = X_train_pca[train_index], X_train_pca[test_index]\n",
        "        y_fold_train, y_fold_test = Y_train.iloc[train_index], Y_train.iloc[test_index]\n",
        "\n",
        "        knn_model = KNeighborsClassifier()\n",
        "        knn_model.fit(X_fold_train, y_fold_train)\n",
        "\n",
        "        predictions = knn_model.predict(X_fold_test)\n",
        "        accuracy = accuracy_score(y_fold_test, predictions)\n",
        "        accuracies.append(accuracy)\n",
        "\n",
        "    average_accuracy = np.mean(accuracies)\n",
        "    std_dev = np.std(accuracies)\n",
        "    results.append((n_components, average_accuracy, std_dev))\n",
        "\n",
        "# Sorteer de resultaten op nauwkeurigheid en print de top 5 met hun standaarddeviatie\n",
        "top_results = sorted(results, key=lambda x: x[1], reverse=True)[:5]\n",
        "for n_components, accuracy, std_dev in top_results:\n",
        "    print(f\"Top n_components={n_components}: Average accuracy = {accuracy} with std dev = {std_dev}\")"
      ],
      "metadata": {
        "id": "vyIV1QIxWbJq",
        "outputId": "2b3f6301-22ad-466e-c9e1-227eb84e449d",
        "colab": {
          "base_uri": "https://localhost:8080/"
        }
      },
      "execution_count": 17,
      "outputs": [
        {
          "output_type": "stream",
          "name": "stdout",
          "text": [
            "Top n_components=1: Average accuracy = 0.6655555555555556 with std dev = 0.1879355024640628\n",
            "Top n_components=4: Average accuracy = 0.6611111111111111 with std dev = 0.22636417724706517\n",
            "Top n_components=6: Average accuracy = 0.6311111111111111 with std dev = 0.17103894582127874\n",
            "Top n_components=3: Average accuracy = 0.63 with std dev = 0.1661510542834627\n",
            "Top n_components=10: Average accuracy = 0.6288888888888888 with std dev = 0.20075167388567705\n"
          ]
        }
      ]
    },
    {
      "cell_type": "code",
      "source": [
        "# Feature selection using K best - ANOVA squared test\n",
        "cv = StratifiedKfold(n_splits=10)\n",
        "\n",
        "average_accuracies = []\n",
        "\n",
        "fold_accuracies = []\n",
        "\n",
        "for k in range(1,11):\n",
        "    filter = SelectKBest(f_classif, k)\n",
        "\n",
        "    for train_i, validatie_i\n",
        "    X_train_fs = fs_chi.transform(X_train_zv)\n",
        "\n",
        "    neigh = KNeighborsClassifier(n_neighbors=3)\n",
        "    neigh.fit(X, y)\n",
        "\n",
        "X_train_fs = fs_chi.transform(X_train_zv)\n",
        "# X_test_fs = fs_chi.transform(X_test_zv)\n",
        "\n",
        "\n",
        "\n",
        "print(X_train_fs.shape)\n",
        "print(X_test_fs.shape)\n"
      ],
      "metadata": {
        "id": "pY2smu5SH9NH",
        "colab": {
          "base_uri": "https://localhost:8080/"
        },
        "outputId": "0cfda03c-0c1d-4e53-c6a1-9b9094bb570e"
      },
      "execution_count": null,
      "outputs": [
        {
          "output_type": "stream",
          "name": "stdout",
          "text": [
            "(92, 5)\n",
            "(23, 5)\n"
          ]
        }
      ]
    },
    {
      "cell_type": "code",
      "source": [
        "# # PCA\n",
        "# # If there are more samples than features left after RFECV then perform PCA\n",
        "# pca = decomposition.PCA(n_components=0.95)\n",
        "# pca.fit(X_train_zv)\n",
        "# X_train_fs = pca.transform(X_train_zv)\n",
        "# X_test_fs = pca.transform(X_test_zv)"
      ],
      "metadata": {
        "id": "1HlXchplsHTo"
      },
      "execution_count": null,
      "outputs": []
    },
    {
      "cell_type": "markdown",
      "source": [
        "# Classifiers"
      ],
      "metadata": {
        "id": "NqoGUPrpTjMS"
      }
    },
    {
      "cell_type": "code",
      "source": [
        "# General variables for classifiers\n",
        "cv = 5"
      ],
      "metadata": {
        "id": "dyhJmXgJydQW"
      },
      "execution_count": null,
      "outputs": []
    },
    {
      "cell_type": "markdown",
      "source": [
        "### KNN"
      ],
      "metadata": {
        "id": "9pY9Z5AwTk4w"
      }
    },
    {
      "cell_type": "code",
      "source": [
        "knn_model = KNeighborsClassifier()\n",
        "\n",
        "# Define the parameter grid - WAAROM DEZE\n",
        "param_grid_knn = {\n",
        "    'n_neighbors': list(range(1, 60, 2)),\n",
        "    'weights': ['uniform', 'distance'],\n",
        "    'p': [1, 2]  # p=1 for Manhattan distance, p=2 for Euclidean distance\n",
        "}\n",
        "\n",
        "# Create the grid search object with ROC AUC scoring\n",
        "grid_search_knn = GridSearchCV(knn_model, param_grid_knn, cv=cv, scoring='roc_auc')\n",
        "\n",
        "# Fit the grid search to the data\n",
        "grid_search_knn.fit(X_train_fs, Y_train)\n",
        "\n",
        "# Print the best parameters\n",
        "print(\"Best parameters found: \", grid_search_knn.best_params_)\n",
        "\n",
        "# Get the best estimator\n",
        "best_knn_model = grid_search_knn.best_estimator_\n",
        "print(f'Best estimator: {best_knn_model}')\n",
        "\n",
        "# see how well model works on train and test data:\n",
        "predictions_knn_train = best_knn_model.predict(X_train_fs)\n",
        "print(classification_report(Y_train, predictions_knn_train))\n",
        "\n",
        "roc_auc_knn_train = roc_auc_score(Y_train, predictions_knn_train)\n",
        "print('ROC AUC =', roc_auc_knn_train)\n",
        "accuracy_knn_train = accuracy_score(Y_train, predictions_knn_train)\n",
        "print('Accuracy =', accuracy_knn_train)\n",
        "\n",
        "predictions_knn_test = best_knn_model.predict(X_test_fs)\n",
        "print(classification_report(Y_test, predictions_knn_test))\n",
        "\n",
        "roc_auc_knn_test = roc_auc_score(Y_test, predictions_knn_test)\n",
        "print('ROC AUC =', roc_auc_knn_test)\n",
        "accuracy_knn_test = accuracy_score(Y_test, predictions_knn_test)\n",
        "print('Accuracy =', accuracy_knn_test)"
      ],
      "metadata": {
        "id": "KSjGJIfWTmUX",
        "outputId": "d902697e-1dc5-44b3-b096-91e3e5ab6d59",
        "colab": {
          "base_uri": "https://localhost:8080/"
        }
      },
      "execution_count": null,
      "outputs": [
        {
          "output_type": "stream",
          "name": "stdout",
          "text": [
            "Best parameters found:  {'n_neighbors': 5, 'p': 2, 'weights': 'distance'}\n",
            "Best estimator: KNeighborsClassifier(weights='distance')\n",
            "              precision    recall  f1-score   support\n",
            "\n",
            "           0       1.00      1.00      1.00        46\n",
            "           1       1.00      1.00      1.00        46\n",
            "\n",
            "    accuracy                           1.00        92\n",
            "   macro avg       1.00      1.00      1.00        92\n",
            "weighted avg       1.00      1.00      1.00        92\n",
            "\n",
            "ROC AUC = 1.0\n",
            "Accuracy = 1.0\n",
            "              precision    recall  f1-score   support\n",
            "\n",
            "           0       0.64      0.64      0.64        11\n",
            "           1       0.67      0.67      0.67        12\n",
            "\n",
            "    accuracy                           0.65        23\n",
            "   macro avg       0.65      0.65      0.65        23\n",
            "weighted avg       0.65      0.65      0.65        23\n",
            "\n",
            "ROC AUC = 0.6515151515151515\n",
            "Accuracy = 0.6521739130434783\n"
          ]
        }
      ]
    },
    {
      "cell_type": "markdown",
      "source": [
        "### Random forest"
      ],
      "metadata": {
        "id": "Czr39UJNT1l-"
      }
    },
    {
      "cell_type": "code",
      "source": [
        "#NB: runnen duurt lang door lijst aan n_estimators!\n",
        "\n",
        "RF_model = RandomForestClassifier()\n",
        "\n",
        "# Define the parameter grid - WAAROM DEZE\n",
        "param_grid_RF = {\n",
        "    #'n_estimators': list(range(1, 100, 10)), # more estimators probably better result but also more computationally expensive!\n",
        "    'bootstrap': [True, False],\n",
        "    'min_samples_leaf': list(range(1, 7, 2))\n",
        "}\n",
        "\n",
        "# Create the grid search object with ROC AUC scoring\n",
        "grid_search_RF = GridSearchCV(RF_model, param_grid_RF, cv=cv, scoring='roc_auc', error_score='raise')\n",
        "\n",
        "# Fit the grid search to the data\n",
        "grid_search_RF.fit(X_train_fs, Y_train)\n",
        "\n",
        "# Print the best parameters\n",
        "print(\"Best parameters found: \", grid_search_RF.best_params_)\n",
        "\n",
        "# Get the best estimator\n",
        "best_RF_model = grid_search_RF.best_estimator_\n",
        "\n",
        "print(best_RF_model)\n",
        "\n",
        "# See how well model works on train and test data:\n",
        "predictions_RF_train = best_RF_model.predict(X_train_fs)\n",
        "print(classification_report(Y_train, predictions_RF_train))\n",
        "\n",
        "roc_auc_RF_train = roc_auc_score(Y_train, predictions_RF_train)\n",
        "print('ROC AUC =', roc_auc_RF_train)\n",
        "accuracy_RF_train = accuracy_score(Y_train, predictions_RF_train)\n",
        "print('Accuracy =', accuracy_RF_train)\n",
        "\n",
        "predictions_RF_test = best_RF_model.predict(X_test_fs)\n",
        "print(classification_report(Y_test, predictions_RF_test))\n",
        "\n",
        "roc_auc_RF_test = roc_auc_score(Y_test, predictions_RF_test)\n",
        "print('ROC AUC =', roc_auc_RF_test)\n",
        "accuracy_RF_test = accuracy_score(Y_test, predictions_RF_test)\n",
        "print('Accuracy =', accuracy_RF_test)"
      ],
      "metadata": {
        "id": "KJxj9a1sT3In",
        "outputId": "cdd12154-20e3-443d-fac1-7f8e140a9d72",
        "colab": {
          "base_uri": "https://localhost:8080/"
        }
      },
      "execution_count": null,
      "outputs": [
        {
          "output_type": "stream",
          "name": "stdout",
          "text": [
            "Best parameters found:  {'bootstrap': True, 'min_samples_leaf': 3}\n",
            "RandomForestClassifier(min_samples_leaf=3)\n",
            "              precision    recall  f1-score   support\n",
            "\n",
            "           0       0.91      0.91      0.91        46\n",
            "           1       0.91      0.91      0.91        46\n",
            "\n",
            "    accuracy                           0.91        92\n",
            "   macro avg       0.91      0.91      0.91        92\n",
            "weighted avg       0.91      0.91      0.91        92\n",
            "\n",
            "ROC AUC = 0.9130434782608697\n",
            "Accuracy = 0.9130434782608695\n",
            "              precision    recall  f1-score   support\n",
            "\n",
            "           0       0.73      0.73      0.73        11\n",
            "           1       0.75      0.75      0.75        12\n",
            "\n",
            "    accuracy                           0.74        23\n",
            "   macro avg       0.74      0.74      0.74        23\n",
            "weighted avg       0.74      0.74      0.74        23\n",
            "\n",
            "ROC AUC = 0.7386363636363636\n",
            "Accuracy = 0.7391304347826086\n"
          ]
        }
      ]
    },
    {
      "cell_type": "markdown",
      "source": [
        "### Support Vector Machine"
      ],
      "metadata": {
        "id": "k0LOVQXyUA-W"
      }
    },
    {
      "cell_type": "code",
      "source": [
        "# Define the SVM model\n",
        "svm_model = svm.SVC(probability=True)\n",
        "\n",
        "# Define the parameter grid for SVM\n",
        "param_grid_svm = {\n",
        "    'C': [0.01, 0.5, 1 ],  # Regularization parameter\n",
        "    'gamma': ['scale', 'auto']  # Kernel coefficient\n",
        "}\n",
        "\n",
        "# Create the grid search object with ROC AUC scoring\n",
        "grid_search_svm = GridSearchCV(svm_model, param_grid_svm, cv=cv, scoring='roc_auc', error_score='raise')\n",
        "\n",
        "# Fit the grid search to the data\n",
        "grid_search_svm.fit(X_train_fs, Y_train)\n",
        "\n",
        "# Print the best parameters\n",
        "print(\"Best parameters found: \", grid_search_svm.best_params_)\n",
        "\n",
        "# Get the best estimator\n",
        "best_svm_model = grid_search_svm.best_estimator_\n",
        "\n",
        "print(best_svm_model)\n",
        "\n",
        "# See how well model works on train and test data\n",
        "predictions_svm_train = best_svm_model.predict(X_train_fs)\n",
        "print(classification_report(Y_train, predictions_svm_train))\n",
        "\n",
        "roc_auc_svm_train = roc_auc_score(Y_train, predictions_svm_train)\n",
        "print('ROC AUC =', roc_auc_svm_train)\n",
        "accuracy_svm_train = accuracy_score(Y_train, predictions_svm_train)\n",
        "print('Accuracy =', accuracy_svm_train)\n",
        "\n",
        "predictions_svm_test = best_svm_model.predict(X_test_fs)\n",
        "print(classification_report(Y_test, predictions_svm_test))\n",
        "\n",
        "roc_auc_svm_test = roc_auc_score(Y_test, predictions_svm_test)\n",
        "print('ROC AUC =', roc_auc_svm_test)\n",
        "accuracy_svm_test = accuracy_score(Y_test, predictions_svm_test)\n",
        "print('Accuracy =', accuracy_svm_test)"
      ],
      "metadata": {
        "id": "2AzjJ9b-UDhW",
        "outputId": "4c3121b2-3727-45ac-ede7-4bf5cc30b57b",
        "colab": {
          "base_uri": "https://localhost:8080/"
        }
      },
      "execution_count": null,
      "outputs": [
        {
          "output_type": "stream",
          "name": "stdout",
          "text": [
            "Best parameters found:  {'C': 1, 'gamma': 'scale'}\n",
            "SVC(C=1, probability=True)\n",
            "              precision    recall  f1-score   support\n",
            "\n",
            "           0       0.76      0.85      0.80        46\n",
            "           1       0.83      0.74      0.78        46\n",
            "\n",
            "    accuracy                           0.79        92\n",
            "   macro avg       0.80      0.79      0.79        92\n",
            "weighted avg       0.80      0.79      0.79        92\n",
            "\n",
            "ROC AUC = 0.7934782608695652\n",
            "Accuracy = 0.7934782608695652\n",
            "              precision    recall  f1-score   support\n",
            "\n",
            "           0       0.67      0.73      0.70        11\n",
            "           1       0.73      0.67      0.70        12\n",
            "\n",
            "    accuracy                           0.70        23\n",
            "   macro avg       0.70      0.70      0.70        23\n",
            "weighted avg       0.70      0.70      0.70        23\n",
            "\n",
            "ROC AUC = 0.696969696969697\n",
            "Accuracy = 0.6956521739130435\n"
          ]
        }
      ]
    }
  ],
  "metadata": {
    "colab": {
      "name": "assignment.ipynb",
      "provenance": []
    },
    "kernelspec": {
      "display_name": "Python 3",
      "language": "python",
      "name": "python3"
    },
    "language_info": {
      "codemirror_mode": {
        "name": "ipython",
        "version": 3
      },
      "file_extension": ".py",
      "mimetype": "text/x-python",
      "name": "python",
      "nbconvert_exporter": "python",
      "pygments_lexer": "ipython3",
      "version": "3.8.5"
    }
  },
  "nbformat": 4,
  "nbformat_minor": 0
}