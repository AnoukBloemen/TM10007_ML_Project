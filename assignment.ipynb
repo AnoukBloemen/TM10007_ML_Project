{
  "cells": [
    {
      "cell_type": "markdown",
      "metadata": {
        "id": "7SXpaKwwGe5x"
      },
      "source": [
        "# TM10007 Assignment template"
      ]
    },
    {
      "cell_type": "code",
      "execution_count": 1,
      "metadata": {
        "id": "CiDn2Sk-VWqE",
        "colab": {
          "base_uri": "https://localhost:8080/"
        },
        "outputId": "881fb3e8-59c1-49e1-ced3-0b3a8ed97d8d"
      },
      "outputs": [
        {
          "output_type": "stream",
          "name": "stdout",
          "text": [
            "  Preparing metadata (setup.py) ... \u001b[?25l\u001b[?25hdone\n",
            "  Building wheel for ktml (setup.py) ... \u001b[?25l\u001b[?25hdone\n"
          ]
        }
      ],
      "source": [
        "# Run this to use from colab environment\n",
        "!pip install -q --upgrade git+https://github.com/jveenland/tm10007_ml.git"
      ]
    },
    {
      "cell_type": "markdown",
      "source": [
        "# Importing packages"
      ],
      "metadata": {
        "id": "g1cum_GWnJzM"
      }
    },
    {
      "cell_type": "code",
      "source": [
        "# General packages\n",
        "import numpy as np\n",
        "import pandas as pd\n",
        "import matplotlib.pyplot as plt\n",
        "from sklearn import datasets as ds\n",
        "from statistics import mode, mean\n",
        "\n",
        "# Classifiers\n",
        "from sklearn import model_selection\n",
        "from sklearn import metrics\n",
        "from sklearn.ensemble import RandomForestClassifier\n",
        "from sklearn.neighbors import KNeighborsClassifier\n",
        "from sklearn import svm\n",
        "\n",
        "# Scoring methods\n",
        "from sklearn.model_selection import GridSearchCV, cross_val_score, KFold\n",
        "from sklearn.metrics import roc_auc_score, accuracy_score, classification_report\n",
        "\n",
        "# Preprocessing steps\n",
        "from sklearn.impute import SimpleImputer\n",
        "from sklearn.decomposition import PCA\n",
        "from sklearn.pipeline import Pipeline\n",
        "from scipy.stats import shapiro\n",
        "from sklearn.preprocessing import StandardScaler\n",
        "from sklearn.preprocessing import MinMaxScaler\n",
        "from sklearn.preprocessing import RobustScaler\n",
        "\n",
        "# Feature selection\n",
        "from sklearn.feature_selection import SelectKBest, f_classif, VarianceThreshold\n",
        "from sklearn.linear_model import LogisticRegression\n",
        "from sklearn.model_selection import StratifiedKFold\n",
        "from sklearn import decomposition\n",
        "\n",
        "# Visualisation\n",
        "from sklearn.metrics import roc_curve, auc\n",
        "from sklearn.model_selection import learning_curve"
      ],
      "metadata": {
        "id": "RPltM9lAmbIn"
      },
      "execution_count": 2,
      "outputs": []
    },
    {
      "cell_type": "markdown",
      "metadata": {
        "id": "bXiW521Kl09k"
      },
      "source": [
        "# Data loading and cleaning\n",
        "\n",
        "Below are functions to load the dataset of your choice. After that, it is all up to you to create and evaluate a classification method. Beware, there may be missing values in these datasets. Good luck!"
      ]
    },
    {
      "cell_type": "code",
      "execution_count": 3,
      "metadata": {
        "colab": {
          "base_uri": "https://localhost:8080/"
        },
        "id": "-NE_fTbKGe5z",
        "outputId": "db78da70-b8be-4d43-949d-cb86d3c42b7d"
      },
      "outputs": [
        {
          "output_type": "stream",
          "name": "stdout",
          "text": [
            "The number of samples: 115\n",
            "The number of columns: 494\n"
          ]
        }
      ],
      "source": [
        "## Data loading functions. Uncomment the one you want to use\n",
        "from worclipo.load_data import load_data\n",
        "\n",
        "data = load_data()\n",
        "print(f'The number of samples: {len(data.index)}')\n",
        "print(f'The number of columns: {len(data.columns)}')"
      ]
    },
    {
      "cell_type": "markdown",
      "source": [
        "## Creating a split in the data\n",
        "\n",
        "A training and test set are created. The training set will be used to fit the classifier, while the test set is remained untouched until it is used for testing the trained classifier.\n",
        "\n",
        "Split is stratified so labels are present in both sets in same proportions."
      ],
      "metadata": {
        "id": "EnN20JHuvvaq"
      }
    },
    {
      "cell_type": "code",
      "source": [
        "# Extract columns with labels\n",
        "Y = data.pop('label').replace({'lipoma':0, 'liposarcoma':1}) #moeten we misschien nog ook de ID poppen?\n",
        "print(f'The proportion of the labels is: {sum(Y)/len(Y)}')\n",
        "\n",
        "# Extract the rest of the data (without the labels)\n",
        "X = data\n",
        "X_train, X_test, Y_train, Y_test = model_selection.train_test_split(X, Y, test_size=0.2, stratify=Y)\n",
        "\n",
        "print(f'Size of training set: {X_train.shape}')\n",
        "print(f'Size of test set: {X_test.shape}')"
      ],
      "metadata": {
        "id": "qTjJAJ-7vtzg",
        "outputId": "6c16f031-b744-4080-83f5-6c62f5edda6b",
        "colab": {
          "base_uri": "https://localhost:8080/"
        }
      },
      "execution_count": 4,
      "outputs": [
        {
          "output_type": "stream",
          "name": "stdout",
          "text": [
            "The proportion of the labels is: 0.5043478260869565\n",
            "Size of training set: (92, 493)\n",
            "Size of test set: (23, 493)\n"
          ]
        }
      ]
    },
    {
      "cell_type": "markdown",
      "source": [
        "## Inspecting distribution of features\n",
        "To determine data distribution of train set"
      ],
      "metadata": {
        "id": "pJBR7ywnn50T"
      }
    },
    {
      "cell_type": "markdown",
      "source": [
        "### Visually inspect distribution of features"
      ],
      "metadata": {
        "id": "q7JVrtMS2mih"
      }
    },
    {
      "cell_type": "code",
      "source": [
        "## UITEINDELIJK WEGHALEN DIT!!\n",
        "\n",
        "#Check if Gaussian distribution per column\n",
        "# if Gaussian distribution, take mean for filling empty cells (later in script)\n",
        "# if not Gaussion distribution (and outliers or skewed), take median for filling empty cells (later in script)\n",
        "\n",
        "# plt.hist(X_train.iloc[:, 15], bins=30, edgecolor='k') # Change number of colum to see distribution (between width dataframe)\n",
        "plt.hist(X_train['PREDICT_original_tf_Gabor_entropy_F0.2_A1.57'], bins=30, edgecolor='k') # Change number of colum to see distribution (between width dataframe)\n",
        "\n",
        "\n",
        "plt.title('Distribution of Feature')\n",
        "plt.xlabel('Value')\n",
        "plt.ylabel('Frequency')\n",
        "plt.show()\n",
        "\n",
        "# print(X_train.head())"
      ],
      "metadata": {
        "colab": {
          "base_uri": "https://localhost:8080/",
          "height": 472
        },
        "id": "Llz2aPWlneOo",
        "outputId": "5ce00044-c8cb-4fc9-9c45-49137fe4d8b5"
      },
      "execution_count": 5,
      "outputs": [
        {
          "output_type": "display_data",
          "data": {
            "text/plain": [
              "<Figure size 640x480 with 1 Axes>"
            ],
            "image/png": "[encoded data removed]"
          },
          "metadata": {}
        }
      ]
    },
    {
      "cell_type": "markdown",
      "source": [
        "## Preprocessing Data"
      ],
      "metadata": {
        "id": "cL18MbR93P-I"
      }
    },
    {
      "cell_type": "markdown",
      "source": [
        "### Missing Values\n",
        "Determining cells with missing values and filling these"
      ],
      "metadata": {
        "id": "U8-WunWt4Q6p"
      }
    },
    {
      "cell_type": "code",
      "source": [
        "# Filling missing values with correct value based on type of distribution per column\n",
        "\n",
        "alpha = 0.05\n",
        "normal_distributed_columns_count_train = 0\n",
        "not_normal_distributed_columns_count_train = 0\n",
        "nans_found_in_column_count_train = 0\n",
        "\n",
        "\n",
        "# Checking and filling missing for train\n",
        "for column in X_train:\n",
        "    if X_train[column].min() != X_train[column].max():\n",
        "        stat, p = shapiro(X_train[column].dropna())\n",
        "        if p > alpha:\n",
        "            normal_distributed_columns_count_train += 1\n",
        "            if X_train[column].isna().sum() > 0:\n",
        "                X_train[column].fillna(X_train[column].mean(), inplace=True)\n",
        "                nans_found_in_column_count_train += 1\n",
        "        else:\n",
        "            not_normal_distributed_columns_count_train += 1\n",
        "            if X_train[column].isna().sum() > 0:\n",
        "                X_train[column].fillna(X_train[column].median(), inplace=True)\n",
        "                nans_found_in_column_count_train += 1\n",
        "\n",
        "print(f'The number of normal distributed columns in train set is : {normal_distributed_columns_count_train}')\n",
        "print(f'The number of not normal distributed columns in train set is: {not_normal_distributed_columns_count_train}')\n",
        "print(f'The number of columns in train set where nans were filled: {nans_found_in_column_count_train}')\n",
        "print()\n",
        "\n",
        "# Checking and filling missing for test set\n",
        "normal_distributed_columns_count_test = 0\n",
        "not_normal_distributed_columns_count_test = 0\n",
        "nans_found_in_column_count_test = 0\n",
        "\n",
        "for column in X_test:\n",
        "    if X_test[column].min() != X_test[column].max():\n",
        "        stat, p = shapiro(X_test[column].dropna())\n",
        "        if p > alpha:\n",
        "            normal_distributed_columns_count_test += 1\n",
        "            if X_test[column].isna().sum() > 0:\n",
        "                X_test[column].fillna(X_train[column].mean(), inplace=True)\n",
        "                nans_found_in_column_count_test += 1\n",
        "        else:\n",
        "            not_normal_distributed_columns_count_test += 1\n",
        "            if X_test[column].isna().sum() > 0:\n",
        "                X_test[column].fillna(X_train[column].median(), inplace=True)\n",
        "                nans_found_in_column_count_test += 1\n",
        "\n",
        "print(f'The number of normal distributed columns in test set is : {normal_distributed_columns_count_test}')\n",
        "print(f'The number of not normal distributed columns in test set is: {not_normal_distributed_columns_count_test}')\n",
        "print(f'The number of columns in test set where nans were filled: {nans_found_in_column_count_test}')"
      ],
      "metadata": {
        "id": "CpaHZZda6SE1",
        "outputId": "7660c2d3-9639-40f1-8991-329c81bfecf4",
        "colab": {
          "base_uri": "https://localhost:8080/"
        }
      },
      "execution_count": 6,
      "outputs": [
        {
          "output_type": "stream",
          "name": "stdout",
          "text": [
            "The number of normal distributed columns in train set is : 66\n",
            "The number of not normal distributed columns in train set is: 408\n",
            "The number of columns in train set where nans were filled: 0\n",
            "\n",
            "The number of normal distributed columns in test set is : 170\n",
            "The number of not normal distributed columns in test set is: 297\n",
            "The number of columns in test set where nans were filled: 0\n"
          ]
        }
      ]
    },
    {
      "cell_type": "markdown",
      "source": [
        "### Feature Scaling\n",
        "Scale features in Train set"
      ],
      "metadata": {
        "id": "ZB1ABL14902-"
      }
    },
    {
      "cell_type": "markdown",
      "source": [
        "#### Motivation of chosen scaler"
      ],
      "metadata": {
        "id": "fAtSOQHKkYAE"
      }
    },
    {
      "cell_type": "code",
      "source": [
        "# Calculating prescence and number of outliers\n",
        "columns_many_outliers_count = 0\n",
        "\n",
        "for column in X_train:\n",
        "    Q1 = X_train[column].quantile(0.25)\n",
        "    Q3 = X_train[column].quantile(0.75)\n",
        "    IQR = Q3 - Q1\n",
        "\n",
        "    outliers = X_train[(X_train[column] < (Q1 - 1.5 * IQR)) | (X_train[column] > (Q3 + 1.5 * IQR))]\n",
        "    outliers_count = outliers.shape[0]\n",
        "\n",
        "    if outliers_count > 0.05 * X_train.shape[0]:\n",
        "        columns_many_outliers_count += 1\n",
        "\n",
        "perc_columns_many_outliers = (columns_many_outliers_count / len(X_train.columns))*100\n",
        "print(f\"Number of columns with many outliers: {columns_many_outliers_count}/{len(X_train.columns)} = {perc_columns_many_outliers:.2f}%\")"
      ],
      "metadata": {
        "id": "L5ePShRwmJrY",
        "outputId": "a10c967c-f660-4c3e-803b-9fa0f0145184",
        "colab": {
          "base_uri": "https://localhost:8080/"
        }
      },
      "execution_count": 7,
      "outputs": [
        {
          "output_type": "stream",
          "name": "stdout",
          "text": [
            "Number of columns with many outliers: 195/493 = 39.55%\n"
          ]
        }
      ]
    },
    {
      "cell_type": "markdown",
      "source": [
        "#### Scaling the data"
      ],
      "metadata": {
        "id": "oS7Re7CSkiMx"
      }
    },
    {
      "cell_type": "code",
      "source": [
        "scaler = RobustScaler()\n",
        "scaler.fit(X_train) # Fit scaler on training set\n",
        "\n",
        "# Transform train and test set using scaler\n",
        "X_train_sc = (scaler.transform(X_train))\n",
        "X_test_sc = scaler.transform(X_test)\n",
        "\n",
        "X_train_sc = pd.DataFrame(X_train_sc)\n",
        "X_test_sc = pd.DataFrame(X_test_sc)"
      ],
      "metadata": {
        "id": "vR4vx1oJoZBn"
      },
      "execution_count": 8,
      "outputs": []
    },
    {
      "cell_type": "markdown",
      "source": [
        "# Inspecting data"
      ],
      "metadata": {
        "id": "7afe2lGEowDL"
      }
    },
    {
      "cell_type": "markdown",
      "source": [
        "### Feature selection and extraction"
      ],
      "metadata": {
        "id": "bTxLT12kH1u5"
      }
    },
    {
      "cell_type": "code",
      "source": [
        "# Determining features with zero variance and removing these\n",
        "selector = VarianceThreshold(threshold=0)\n",
        "vs_fit = selector.fit(X_train_sc)\n",
        "\n",
        "X_train_zv = vs_fit.transform(X_train_sc)\n",
        "X_test_zv = vs_fit.transform(X_test_sc)\n",
        "\n",
        "# Willen we dit nou van train of test set weten?\n",
        "print(f'Amount of features with zero variance: {X_train_sc.shape[1]-X_train_zv.shape[1]}')\n",
        "print(f'Amount of features after removing features with zero variance: {X_train_zv.shape[1]}')"
      ],
      "metadata": {
        "id": "isFVugQAoGXH",
        "outputId": "2ef60085-08a6-4c23-f8b4-7939394a836c",
        "colab": {
          "base_uri": "https://localhost:8080/"
        }
      },
      "execution_count": 9,
      "outputs": [
        {
          "output_type": "stream",
          "name": "stdout",
          "text": [
            "Amount of features with zero variance: 19\n",
            "Amount of features after removing features with zero variance: 474\n"
          ]
        }
      ]
    },
    {
      "cell_type": "code",
      "source": [
        "# Evaluating performance of selectkbest feature selection on data set\n",
        "\n",
        "kf = StratifiedKFold(n_splits=10)\n",
        "k_values = range(1, 11)\n",
        "average_accuracies = []\n",
        "std_accuracies = []\n",
        "\n",
        "for k in k_values:\n",
        "\n",
        "    # Select K-best features\n",
        "    selector = SelectKBest(f_classif, k=k)\n",
        "    X_train_select = selector.fit_transform(X_train_zv, Y_train)\n",
        "    accuracies = []\n",
        "\n",
        "    # 10-fold cross-validation\n",
        "    for train_index, test_index in kf.split(X_train_select, Y_train):\n",
        "\n",
        "        X_fold_train, X_fold_test = X_train_select[train_index], X_train_select[test_index]\n",
        "        y_fold_train, y_fold_test = Y_train.iloc[train_index], Y_train.iloc[test_index]\n",
        "\n",
        "        # Train kNN-model\n",
        "        knn_model = KNeighborsClassifier()\n",
        "        knn_model.fit(X_fold_train, y_fold_train)\n",
        "\n",
        "        # Predict and evaluate accuracy\n",
        "        predictions = knn_model.predict(X_fold_test)\n",
        "        accuracy = accuracy_score(y_fold_test, predictions)\n",
        "        accuracies.append(accuracy)\n",
        "\n",
        "    # Calculating average accuracy for current k-number\n",
        "    average_accuracy = np.mean(accuracies)\n",
        "    average_accuracies.append(average_accuracy)\n",
        "\n",
        "    # Calculating standard deviation accuracy for current k-number\n",
        "    std_accuracy = np.std(accuracies)\n",
        "    std_accuracies.append(std_accuracy)\n",
        "\n",
        "    print(f\"For k={k} average accuracy is {average_accuracy:.3f} and standard deviation is {std_accuracy:.3f}\")\n",
        "\n",
        "upper_bound = np.array(average_accuracies) + np.array(std_accuracies)\n",
        "lower_bound = np.array(average_accuracies) - np.array(std_accuracies)\n",
        "\n",
        "plt.figure(figsize=(10,6))\n",
        "plt.plot(list(k_values), average_accuracies, marker='o', linestyle='-', color='blue', label='Average accuracy')\n",
        "plt.fill_between(list(k_values), upper_bound, lower_bound, label='Standard deviation of accuracy')\n",
        "plt.title('Average accuracy vs no. of K-features for K-Best')\n",
        "plt.xlabel('No. of features')\n",
        "plt.ylabel('Average accuracy')\n",
        "plt.grid(True)\n",
        "plt.xticks(list(k_values))\n",
        "plt.legend()\n",
        "plt.show()\n"
      ],
      "metadata": {
        "id": "pY2smu5SH9NH",
        "colab": {
          "base_uri": "https://localhost:8080/",
          "height": 746
        },
        "outputId": "e7856de1-9cb1-4e8e-dbc5-fb8be8c3aea9"
      },
      "execution_count": 10,
      "outputs": [
        {
          "output_type": "stream",
          "name": "stdout",
          "text": [
            "For k=1 average accuracy is 0.693 and standard deviation is 0.140\n",
            "For k=2 average accuracy is 0.684 and standard deviation is 0.105\n",
            "For k=3 average accuracy is 0.664 and standard deviation is 0.110\n",
            "For k=4 average accuracy is 0.630 and standard deviation is 0.151\n",
            "For k=5 average accuracy is 0.651 and standard deviation is 0.122\n",
            "For k=6 average accuracy is 0.631 and standard deviation is 0.139\n",
            "For k=7 average accuracy is 0.663 and standard deviation is 0.089\n",
            "For k=8 average accuracy is 0.696 and standard deviation is 0.129\n",
            "For k=9 average accuracy is 0.706 and standard deviation is 0.101\n",
            "For k=10 average accuracy is 0.682 and standard deviation is 0.107\n"
          ]
        },
        {
          "output_type": "display_data",
          "data": {
            "text/plain": [
              "<Figure size 1000x600 with 1 Axes>"
            ],
            "image/png": "[encoded data removed]"
          },
          "metadata": {}
        }
      ]
    },
    {
      "cell_type": "code",
      "source": [
        "# Evaluating performance of PCA on dataset\n",
        "\n",
        "skf = StratifiedKFold(n_splits=10, shuffle=True, random_state=42)\n",
        "components = range(1, 11)\n",
        "average_accuracies = []\n",
        "std_accuracies = []\n",
        "plot_proberen = []\n",
        "\n",
        "for n_components in components:\n",
        "    pca = PCA(n_components=n_components)\n",
        "    X_train_pca = pca.fit_transform(X_train_zv)\n",
        "    variance = pca.explained_variance_ratio_\n",
        "\n",
        "    if n_components == 2:\n",
        "        plot_proberen.append(X_train_pca)\n",
        "\n",
        "    accuracies = []\n",
        "\n",
        "    for train_index, test_index in skf.split(X_train_pca, Y_train):\n",
        "        X_fold_train, X_fold_test = X_train_pca[train_index], X_train_pca[test_index]\n",
        "        y_fold_train, y_fold_test = Y_train.iloc[train_index], Y_train.iloc[test_index]\n",
        "\n",
        "        knn_model = KNeighborsClassifier()\n",
        "        knn_model.fit(X_fold_train, y_fold_train)\n",
        "\n",
        "        predictions = knn_model.predict(X_fold_test)\n",
        "        accuracy = accuracy_score(y_fold_test, predictions)\n",
        "        accuracies.append(accuracy)\n",
        "\n",
        "    average_accuracy = np.mean(accuracies)\n",
        "    average_accuracies.append(average_accuracy)\n",
        "    std_dev = np.std(accuracies)\n",
        "    std_accuracies.append(std_dev)\n",
        "\n",
        "    print(f\"n-components = {n_components}, average accuracy = {average_accuracy:.3f} with std dev = {std_dev:.3f}\")\n",
        "\n",
        "print(f'Explained variance for the first element {variance[0]}')\n",
        "\n",
        "upper_bound = np.array(average_accuracies) + np.array(std_accuracies)\n",
        "lower_bound = np.array(average_accuracies) - np.array(std_accuracies)\n",
        "\n",
        "plt.figure(figsize=(10, 6))\n",
        "plt.plot(list(components), average_accuracies, marker='o', linestyle='-', color='blue', label='Average accuracy')\n",
        "plt.fill_between(list(components), upper_bound, lower_bound, label='Standard deviation')\n",
        "plt.title('Average accuracy vs no. of components for PCA')\n",
        "plt.xlabel('No. of components')\n",
        "plt.ylabel('Average accuracy')\n",
        "plt.grid(True)\n",
        "plt.xticks(list(components))\n",
        "plt.legend()\n",
        "plt.show()"
      ],
      "metadata": {
        "id": "1HlXchplsHTo",
        "colab": {
          "base_uri": "https://localhost:8080/",
          "height": 765
        },
        "outputId": "f455ab61-d1d7-4910-935f-03c43e01dc44"
      },
      "execution_count": 13,
      "outputs": [
        {
          "output_type": "stream",
          "name": "stdout",
          "text": [
            "n-components = 1, average accuracy = 0.621 with std dev = 0.116\n",
            "n-components = 2, average accuracy = 0.587 with std dev = 0.096\n",
            "n-components = 3, average accuracy = 0.651 with std dev = 0.149\n",
            "n-components = 4, average accuracy = 0.718 with std dev = 0.097\n",
            "n-components = 5, average accuracy = 0.683 with std dev = 0.107\n",
            "n-components = 6, average accuracy = 0.566 with std dev = 0.138\n",
            "n-components = 7, average accuracy = 0.576 with std dev = 0.105\n",
            "n-components = 8, average accuracy = 0.587 with std dev = 0.119\n",
            "n-components = 9, average accuracy = 0.619 with std dev = 0.114\n",
            "n-components = 10, average accuracy = 0.608 with std dev = 0.125\n",
            "Explained variance for the first element 0.9958544360660981\n"
          ]
        },
        {
          "output_type": "display_data",
          "data": {
            "text/plain": [
              "<Figure size 1000x600 with 1 Axes>"
            ],
            "image/png": "[encoded data removed]"
          },
          "metadata": {}
        }
      ]
    },
    {
      "cell_type": "code",
      "source": [
        "# print(X_train_zv.shape)\n",
        "# print(X_test_zv.shape)\n",
        "\n",
        "# best_k_index = np.argmax(average_accuracies)\n",
        "# best_k = k_values[best_k_index]\n",
        "# best_accuracy = average_accuracies[best_k_index]\n",
        "\n",
        "# selector_fs = SelectKBest(f_classif, k=best_k) #dit veranderen ahv plot\n",
        "# fitted_kbest = selector_fs.fit(X_train_zv, Y_train)\n",
        "\n",
        "# X_train_fs = fitted_kbest.transform(X_train_zv)\n",
        "# X_test_fs = fitted_kbest.transform(X_test_zv)\n",
        "\n",
        "\n",
        "# print(X_train_fs.shape)\n",
        "# print(X_test_fs.shape)\n",
        "# print()\n",
        "\n",
        "# print(f\"Best k is k = {best_k} with accuracy of {best_accuracy:.3f}\")\n",
        "# print(f\"Selected features for k={best_k} are: {selected_feature_names}\")\n",
        "# print()\n",
        "\n",
        "# if len(selected_feature_names) ==2:\n",
        "#   seaborn.scatterplot(x=selected_feature_names[0], y=selected_feature_names[1], hue = Y, data = data)\n",
        "# if len(selected_feature_names) == 3:\n",
        "#     fig = plt.figure(figsize=(8, 6))\n",
        "#     ax = fig.add_subplot(111, projection='3d')\n",
        "\n",
        "#     # Extract the features for plotting\n",
        "#     feature1 = X_train_fs[:, 0]\n",
        "#     feature2 = X_train_fs[:, 1]\n",
        "#     feature3 = X_train_fs[:, 2]\n",
        "\n",
        "#     # Scatter plot\n",
        "#     scatter = ax.scatter(feature1, feature2, feature3, c=Y_train, cmap='viridis', alpha=0.7)\n",
        "\n",
        "#     # Labeling\n",
        "#     ax.set_xlabel(selected_feature_names[0])\n",
        "#     ax.set_ylabel(selected_feature_names[1])\n",
        "#     ax.set_zlabel(selected_feature_names[2])\n",
        "\n",
        "#     # Color bar\n",
        "#     cbar = plt.colorbar(scatter, ax=ax)\n",
        "#     cbar.set_label('Target')\n",
        "\n",
        "#     plt.title('3D Scatter Plot of Selected Features')\n",
        "#     plt.show()\n",
        "\n",
        "# elif len(selected_feature_names) == 1 :\n",
        "#   print(\"Visualization of a 2D scatterplot is not possible for k = {best_k}\")"
      ],
      "metadata": {
        "id": "faErTr4ro3BA"
      },
      "execution_count": 15,
      "outputs": []
    },
    {
      "cell_type": "markdown",
      "source": [
        "# Classifiers"
      ],
      "metadata": {
        "id": "NqoGUPrpTjMS"
      }
    },
    {
      "cell_type": "code",
      "source": [
        "# Define outer cross validation\n",
        "outer_cv = KFold(n_splits=5, shuffle=True)"
      ],
      "metadata": {
        "id": "RKn4Kt6zjDjV"
      },
      "execution_count": 16,
      "outputs": []
    },
    {
      "cell_type": "markdown",
      "source": [
        "### KNN"
      ],
      "metadata": {
        "id": "9pY9Z5AwTk4w"
      }
    },
    {
      "cell_type": "code",
      "source": [
        "results = {\n",
        "    'best_estimators': [],\n",
        "    'training_scores': [],\n",
        "    'test_scores': [],\n",
        "    'params': []\n",
        "}\n",
        "\n",
        "max_n_neighbors = len(X_train_fs) // outer_cv.get_n_splits(X_train_fs) - 1\n",
        "print(\"Max number of neighbors:\", max_n_neighbors)\n",
        "\n",
        "# Outer cross-validation loop\n",
        "for train_index, test_index in outer_cv.split(X_train_fs, Y_train):\n",
        "    X_train_outer, X_test_outer = X_train_fs[train_index], X_train_fs[test_index]\n",
        "    Y_train_outer, Y_test_outer = Y_train[train_index], Y_train[test_index]\n",
        "\n",
        "    # Define the inner cross-validation strategy\n",
        "    inner_cv = KFold(n_splits=3, shuffle=True)\n",
        "\n",
        "    # Define the parameter grid\n",
        "    param_grid_KNN = {\n",
        "        'n_neighbors': list(range(1, max_n_neighbors, 2)),\n",
        "        'weights': ['uniform', 'distance'],\n",
        "        'p': [1, 2]  # p=1 for Manhattan distance, p=2 for Euclidean distance\n",
        "    }\n",
        "\n",
        "    # Initialize the grid search object\n",
        "    grid_search_KNN = GridSearchCV(KNeighborsClassifier(), param_grid_KNN, cv=inner_cv, scoring='roc_auc')\n",
        "\n",
        "    # Fit the grid search object to the training data\n",
        "    grid_search_KNN.fit(X_train_outer, Y_train_outer)\n",
        "\n",
        "    # Get the best estimator from the inner loop\n",
        "    best_estimator = grid_search_KNN.best_estimator_\n",
        "    best_params = best_estimator.get_params()\n",
        "    print('Best estimator:', best_estimator)\n",
        "\n",
        "    # Store the best estimator\n",
        "    results['best_estimators'].append(best_estimator)\n",
        "    results['params'].append(best_params)\n",
        "\n",
        "    # Get train and test score\n",
        "    pred_proba_KNN_train_loop = best_estimator.predict_proba(X_train_outer)[:,1]\n",
        "    results['training_scores'].append(roc_auc_score(Y_train_outer, pred_proba_KNN_train_loop))\n",
        "\n",
        "    pred_proba_KNN_test_loop = best_estimator.predict_proba(X_test_outer)[:,1]\n",
        "    results['test_scores'].append(roc_auc_score(Y_test_outer, pred_proba_KNN_test_loop))\n",
        "\n",
        "# Find optimal hyperparameters using median or mode (for boolean)\n",
        "n_neighbors_list = [params['n_neighbors'] for params in results['params']]\n",
        "weights_list = [params['weights'] for params in results['params']]\n",
        "p_list = [params['p'] for params in results['params']]\n",
        "\n",
        "# Calculate median or mode\n",
        "n_neighbors = int(np.median(n_neighbors_list))\n",
        "weights = mode(weights_list)\n",
        "p = mode(p_list)\n",
        "best_params = [n_neighbors, weights, p]\n",
        "\n",
        "final_KNN_model = KNeighborsClassifier(n_neighbors=n_neighbors, weights=weights, p=p)\n",
        "\n",
        "# Fit the final model to the entire training data\n",
        "final_KNN_model.fit(X_train_fs, Y_train)\n",
        "\n",
        "# See how well final model works on entire train set:\n",
        "pred_KNN_train = final_KNN_model.predict(X_train_fs)\n",
        "pred_proba_KNN_train = final_KNN_model.predict_proba(X_train_fs)[:,1]\n",
        "\n",
        "roc_auc_KNN_train = roc_auc_score(Y_train, pred_proba_KNN_train)\n",
        "print('ROC AUC train=', roc_auc_KNN_train)\n",
        "accuracy_KNN_train = accuracy_score(Y_train, pred_KNN_train)\n",
        "print('Accuracy train=', accuracy_KNN_train)\n",
        "\n",
        "# See how well model works on entire test set:\n",
        "pred_KNN_test = final_KNN_model.predict(X_test_fs)\n",
        "pred_proba_KNN_test = final_KNN_model.predict_proba(X_test_fs)[:,1]\n",
        "\n",
        "roc_auc_KNN_test = roc_auc_score(Y_test, pred_proba_KNN_test)\n",
        "print('ROC AUC test=', roc_auc_KNN_test)\n",
        "accuracy_KNN_test = accuracy_score(Y_test, pred_KNN_test)\n",
        "print('Accuracy test=', accuracy_KNN_test)\n",
        "\n",
        "results_KNN = {\n",
        "    'Best hyperparameters': best_params,\n",
        "    'Avarage train score': mean(results['training_scores']),\n",
        "    'Avarage test score': mean(results['test_scores'])\n",
        "}\n",
        "\n",
        "# Printing the dictionary in a clear format\n",
        "print(\"Results for K Nearest Neighbor Model:\")\n",
        "print(\"---------------------------------\")\n",
        "for key, value in results_KNN.items():\n",
        "    print(f\"{key}: {value}\")"
      ],
      "metadata": {
        "id": "KSjGJIfWTmUX",
        "outputId": "2c381105-8df4-4650-9fb6-37ecf318dd55",
        "colab": {
          "base_uri": "https://localhost:8080/"
        }
      },
      "execution_count": 17,
      "outputs": [
        {
          "output_type": "stream",
          "name": "stdout",
          "text": [
            "Max number of neighbors: 17\n",
            "Best estimator: KNeighborsClassifier(n_neighbors=15, p=1)\n",
            "Best estimator: KNeighborsClassifier(n_neighbors=11, p=1)\n",
            "Best estimator: KNeighborsClassifier(n_neighbors=15, p=1)\n",
            "Best estimator: KNeighborsClassifier(n_neighbors=13, p=1)\n",
            "Best estimator: KNeighborsClassifier(n_neighbors=11, p=1)\n",
            "ROC AUC train= 0.8400283553875235\n",
            "Accuracy train= 0.7391304347826086\n",
            "ROC AUC test= 0.7575757575757576\n",
            "Accuracy test= 0.8260869565217391\n",
            "Results for K Nearest Neighbor Model:\n",
            "---------------------------------\n",
            "Best hyperparameters: [13, 'uniform', 1]\n",
            "Avarage train score: 0.847562529060207\n",
            "Avarage test score: 0.8512445887445887\n"
          ]
        }
      ]
    },
    {
      "cell_type": "markdown",
      "source": [
        "### Random forest"
      ],
      "metadata": {
        "id": "Czr39UJNT1l-"
      }
    },
    {
      "cell_type": "code",
      "source": [
        "# Initialize lists to store results\n",
        "results = {\n",
        "    'best_estimators': [],\n",
        "    'training_scores': [],\n",
        "    'test_scores': [],\n",
        "    'params': []\n",
        "}\n",
        "\n",
        "# Outer cross-validation loop\n",
        "for train_index, test_index in outer_cv.split(X_train_fs, Y_train):\n",
        "    X_train_outer, X_test_outer = X_train_fs[train_index], X_train_fs[test_index]\n",
        "    Y_train_outer, Y_test_outer = Y_train[train_index], Y_train[test_index]\n",
        "\n",
        "    # Define the inner cross-validation strategy\n",
        "    inner_cv = KFold(n_splits=3, shuffle=True)\n",
        "\n",
        "    # Define the parameter grid\n",
        "    param_grid_RF = {\n",
        "        'n_estimators': list(range(1, 100, 1)),\n",
        "        'bootstrap': [True, False],\n",
        "        'min_samples_leaf': list(range(1, 9, 2))\n",
        "    }\n",
        "\n",
        "    # Initialize the grid search object\n",
        "    grid_search_RF = GridSearchCV(RandomForestClassifier(), param_grid_RF, cv=inner_cv, scoring='roc_auc')\n",
        "\n",
        "    # Fit the grid search object to the training data\n",
        "    grid_search_RF.fit(X_train_outer, Y_train_outer)\n",
        "\n",
        "    # Get the best estimator from the inner loop\n",
        "    best_estimator = grid_search_RF.best_estimator_\n",
        "    best_params = best_estimator.get_params()\n",
        "    print('Best estimator:', best_estimator)\n",
        "\n",
        "    # Store the best estimator\n",
        "    results['best_estimators'].append(best_estimator)\n",
        "    results['params'].append(best_params)\n",
        "\n",
        "    # Get train and test score\n",
        "    pred_proba_RF_train_loop = best_estimator.predict_proba(X_train_outer)[:,1]\n",
        "    results['training_scores'].append(roc_auc_score(Y_train_outer, pred_proba_RF_train_loop))\n",
        "\n",
        "    pred_proba_RF_test_loop = best_estimator.predict_proba(X_test_outer)[:,1]\n",
        "    results['test_scores'].append(roc_auc_score(Y_test_outer, pred_proba_RF_test_loop))\n",
        "\n",
        "# Find optimal hyperparameters using median or mode (for boolean)\n",
        "n_estimators_list = [params['n_estimators'] for params in results['params']]\n",
        "bootstrap_list = [params['bootstrap'] for params in results['params']]\n",
        "min_samples_leaf_list = [params['min_samples_leaf'] for params in results['params']]\n",
        "\n",
        "# Calculate median or mode\n",
        "n_estimators = int(np.median(n_estimators_list))\n",
        "bootstrap = mode(bootstrap_list)\n",
        "min_samples_leaf = int(np.median(min_samples_leaf_list))\n",
        "best_params = [n_estimators, bootstrap, min_samples_leaf]\n",
        "\n",
        "final_RF_model = RandomForestClassifier(n_estimators=n_estimators, bootstrap=bootstrap, min_samples_leaf=min_samples_leaf)\n",
        "\n",
        "# Fit the final model to the entire training data\n",
        "final_RF_model.fit(X_train_fs, Y_train)\n",
        "\n",
        "# See how well final model works on entire train set:\n",
        "pred_RF_train = final_RF_model.predict(X_train_fs)\n",
        "pred_proba_RF_train = final_RF_model.predict_proba(X_train_fs)[:,1]\n",
        "\n",
        "roc_auc_RF_train = roc_auc_score(Y_train, pred_proba_RF_train)\n",
        "print('ROC AUC train=', roc_auc_RF_train)\n",
        "accuracy_RF_train = accuracy_score(Y_train, pred_RF_train)\n",
        "print('Accuracy train=', accuracy_RF_train)\n",
        "\n",
        "# See how well model works on entire test set:\n",
        "pred_RF_test = final_RF_model.predict(X_test_fs)\n",
        "pred_proba_RF_test = final_RF_model.predict_proba(X_test_fs)[:,1]\n",
        "\n",
        "roc_auc_RF_test = roc_auc_score(Y_test, pred_proba_RF_test)\n",
        "print('ROC AUC test=', roc_auc_RF_test)\n",
        "accuracy_RF_test = accuracy_score(Y_test, pred_RF_test)\n",
        "print('Accuracy test=', accuracy_RF_test)\n",
        "\n",
        "results_RF = {\n",
        "    'Best hyperparameters': best_params,\n",
        "    'Avarage train score': mean(results['training_scores']),\n",
        "    'Avarage test score': mean(results['test_scores'])\n",
        "}\n",
        "\n",
        "# Printing the dictionary in a clear format\n",
        "print(\"Results for Random Forest Model:\")\n",
        "print(\"---------------------------------\")\n",
        "for key, value in results_RF.items():\n",
        "    print(f\"{key}: {value}\")"
      ],
      "metadata": {
        "id": "KJxj9a1sT3In"
      },
      "execution_count": null,
      "outputs": []
    },
    {
      "cell_type": "markdown",
      "source": [
        "### Support Vector Machine"
      ],
      "metadata": {
        "id": "k0LOVQXyUA-W"
      }
    },
    {
      "cell_type": "code",
      "source": [
        "results = {\n",
        "    'best_estimators': [],\n",
        "    'training_scores': [],\n",
        "    'test_scores': [],\n",
        "    'params': []\n",
        "}\n",
        "\n",
        "# Outer cross-validation loop\n",
        "for train_index, test_index in outer_cv.split(X_train_fs, Y_train):\n",
        "    X_train_outer, X_test_outer = X_train_fs[train_index], X_train_fs[test_index]\n",
        "    Y_train_outer, Y_test_outer = Y_train[train_index], Y_train[test_index]\n",
        "\n",
        "    # Define the inner cross-validation strategy\n",
        "    inner_cv = KFold(n_splits=3, shuffle=True)\n",
        "\n",
        "    # Define the parameter grid\n",
        "    param_grid_SVM = {\n",
        "        'C': [0.001, 0.01, 0.1, 1, 10],  # Regularization parameter\n",
        "        'gamma': ['scale', 'auto', 0.001, 0.01, 0.1, 1],  # Kernel coefficient\n",
        "        'kernel': ['rbf', 'linear', 'poly'] # Kernel type\n",
        "    }\n",
        "\n",
        "    # Initialize the grid search object\n",
        "    grid_search_SVM = GridSearchCV(svm.SVC(probability=True), param_grid_SVM, cv=inner_cv, scoring='roc_auc')\n",
        "\n",
        "    # Fit the grid search object to the training data\n",
        "    grid_search_SVM.fit(X_train_outer, Y_train_outer)\n",
        "\n",
        "    # Get the best estimator from the inner loop\n",
        "    best_estimator = grid_search_SVM.best_estimator_\n",
        "    best_params = best_estimator.get_params()\n",
        "    print('Best estimator:', best_estimator)\n",
        "\n",
        "    # Store the best estimator\n",
        "    results['best_estimators'].append(best_estimator)\n",
        "    results['params'].append(best_params)\n",
        "\n",
        "    # Get train and test score\n",
        "    pred_proba_SVM_train_loop = best_estimator.predict_proba(X_train_outer)[:,1]\n",
        "    results['training_scores'].append(roc_auc_score(Y_train_outer, pred_proba_SVM_train_loop))\n",
        "\n",
        "    pred_proba_SVM_test_loop = best_estimator.predict_proba(X_test_outer)[:,1]\n",
        "    results['test_scores'].append(roc_auc_score(Y_test_outer, pred_proba_SVM_test_loop))\n",
        "\n",
        "# Find optimal hyperparameters using median or mode (for boolean)\n",
        "C_list = [params['C'] for params in results['params']]\n",
        "gamma_list = [params['gamma'] for params in results['params']]\n",
        "kernel_list = [params['kernel'] for params in results['params']]\n",
        "\n",
        "# Calculate median or mode\n",
        "C = mode(C_list)\n",
        "gamma = mode(gamma_list)\n",
        "kernel = mode(kernel_list)\n",
        "best_params = [C, gamma, kernel]\n",
        "\n",
        "final_SVM_model = svm.SVC(probability=True, C=C, gamma=gamma, kernel=kernel)\n",
        "print('Final SVM model:', final_SVM_model)\n",
        "\n",
        "# Fit the final model to the entire training data\n",
        "final_SVM_model.fit(X_train_fs, Y_train)\n",
        "\n",
        "# See how well final model works on entire train set:\n",
        "pred_SVM_train = final_SVM_model.predict(X_train_fs)\n",
        "pred_proba_SVM_train = final_SVM_model.predict_proba(X_train_fs)[:,1]\n",
        "\n",
        "roc_auc_SVM_train = roc_auc_score(Y_train, pred_proba_SVM_train)\n",
        "print('ROC AUC train=', roc_auc_SVM_train)\n",
        "accuracy_SVM_train = accuracy_score(Y_train, pred_SVM_train)\n",
        "print('Accuracy train=', accuracy_SVM_train)\n",
        "\n",
        "# See how well model works on entire test set:\n",
        "pred_SVM_test = final_SVM_model.predict(X_test_fs)\n",
        "pred_proba_SVM_test = final_SVM_model.predict_proba(X_test_fs)[:,1]\n",
        "\n",
        "roc_auc_SVM_test = roc_auc_score(Y_test, pred_proba_SVM_test)\n",
        "print('ROC AUC test=', roc_auc_SVM_test)\n",
        "accuracy_SVM_test = accuracy_score(Y_test, pred_SVM_test)\n",
        "print('Accuracy test=', accuracy_SVM_test)\n",
        "\n",
        "results_SVM = {\n",
        "    'Best hyperparameters': best_params,\n",
        "    'Avarage train score': mean(results['training_scores']),\n",
        "    'Avarage test score': mean(results['test_scores'])\n",
        "}\n",
        "\n",
        "# Printing the dictionary in a clear format\n",
        "print(\"Results for Support Vector Machine:\")\n",
        "print(\"---------------------------------\")\n",
        "for key, value in results_SVM.items():\n",
        "    print(f\"{key}: {value}\")"
      ],
      "metadata": {
        "id": "2AzjJ9b-UDhW",
        "outputId": "51ceba67-c097-4342-c84d-45cbec76d2bb",
        "colab": {
          "base_uri": "https://localhost:8080/"
        }
      },
      "execution_count": 19,
      "outputs": [
        {
          "output_type": "stream",
          "name": "stdout",
          "text": [
            "Best estimator: SVC(C=10, gamma=0.01, probability=True)\n",
            "Best estimator: SVC(C=0.001, gamma=0.001, kernel='poly', probability=True)\n",
            "Best estimator: SVC(C=1, gamma='auto', kernel='poly', probability=True)\n",
            "Best estimator: SVC(C=0.1, gamma='auto', kernel='poly', probability=True)\n",
            "Best estimator: SVC(C=10, kernel='poly', probability=True)\n",
            "Final SVM model: SVC(C=10, gamma='auto', kernel='poly', probability=True)\n",
            "ROC AUC train= 0.8223062381852551\n",
            "Accuracy train= 0.7065217391304348\n",
            "ROC AUC test= 0.8409090909090909\n",
            "Accuracy test= 0.6086956521739131\n",
            "Results for Support Vector Machine:\n",
            "---------------------------------\n",
            "Best hyperparameters: [10, 'auto', 'poly']\n",
            "Avarage train score: 0.7078068753104315\n",
            "Avarage test score: 0.6386884720218053\n"
          ]
        }
      ]
    },
    {
      "cell_type": "markdown",
      "source": [
        "# Visualisatie"
      ],
      "metadata": {
        "id": "VL4gP1HNg5Tx"
      }
    },
    {
      "cell_type": "code",
      "source": [
        "def plot_learning_curve(estimator, title, X, Y, axes, ylim=None, cv=None,\n",
        "                        n_jobs=None, train_sizes=np.linspace(.1, 1.0, 5)):\n",
        "    '''plotting learning curve'''\n",
        "\n",
        "    axes.set_title(title)\n",
        "    if ylim is not None:\n",
        "        axes.set_ylim(*ylim)\n",
        "    axes.set_xlabel(\"Training examples\")\n",
        "    axes.set_ylabel(\"Score\")\n",
        "\n",
        "    train_sizes, train_scores, test_scores  = \\\n",
        "        learning_curve(estimator, X, Y, cv=cv, n_jobs=n_jobs,\n",
        "                       train_sizes=train_sizes, scoring = 'roc_auc')\n",
        "    train_scores_mean = np.mean(train_scores, axis=1)\n",
        "    train_scores_std = np.std(train_scores, axis=1)\n",
        "    test_scores_mean = np.mean(test_scores, axis=1)\n",
        "    test_scores_std = np.std(test_scores, axis=1)\n",
        "\n",
        "    # Plot learning curve\n",
        "    axes.grid()\n",
        "    axes.fill_between(train_sizes, train_scores_mean - train_scores_std,\n",
        "                         train_scores_mean + train_scores_std, alpha=0.1,\n",
        "                         color=\"r\")\n",
        "    axes.fill_between(train_sizes, test_scores_mean - test_scores_std,\n",
        "                         test_scores_mean + test_scores_std, alpha=0.1,\n",
        "                         color=\"g\")\n",
        "    axes.plot(train_sizes, train_scores_mean, 'o-', color=\"r\",\n",
        "                 label=\"Training score\")\n",
        "    axes.plot(train_sizes, test_scores_mean, 'o-', color=\"g\",\n",
        "                 label=\"Cross-validation score\")\n",
        "    axes.legend(loc=\"lower center\")\n",
        "\n",
        "    return plt"
      ],
      "metadata": {
        "id": "jSiBeiRcxPa5"
      },
      "execution_count": 20,
      "outputs": []
    },
    {
      "cell_type": "markdown",
      "source": [
        "## Learning curves"
      ],
      "metadata": {
        "id": "8667zPI_hJeU"
      }
    },
    {
      "cell_type": "code",
      "source": [
        "fig = plt.figure(figsize=(15,4))\n",
        "\n",
        "# knn\n",
        "ax = fig.add_subplot(1, 3, 1)\n",
        "plot_learning_curve(final_KNN_model, 'KNN classifier', X_train_fs, Y_train, ax, ylim=(0.3, 1.03), cv=outer_cv)\n",
        "\n",
        "# RF\n",
        "ax = fig.add_subplot(1, 3, 2)\n",
        "plot_learning_curve(final_RF_model, 'RF classifier', X_train_fs, Y_train, ax, ylim=(0.3, 1.03), cv=outer_cv)\n",
        "\n",
        "# CVM\n",
        "ax = fig.add_subplot(1, 3, 3)\n",
        "plot_learning_curve(final_SVM_model, 'SVM classifier', X_train_fs, Y_train, ax, ylim=(0.3, 1.03), cv=outer_cv)"
      ],
      "metadata": {
        "colab": {
          "base_uri": "https://localhost:8080/",
          "height": 1000
        },
        "id": "C1EjhRQOhLrp",
        "outputId": "bb6121aa-eea4-4499-8d6d-e306435e74e9"
      },
      "execution_count": 21,
      "outputs": [
        {
          "output_type": "stream",
          "name": "stderr",
          "text": [
            "/usr/local/lib/python3.10/dist-packages/sklearn/model_selection/_validation.py:778: UserWarning: Scoring failed. The score on this train-test partition for these parameters will be set to nan. Details: \n",
            "Traceback (most recent call last):\n",
            "  File \"/usr/local/lib/python3.10/dist-packages/sklearn/metrics/_scorer.py\", line 373, in _score\n",
            "    y_pred = method_caller(clf, \"decision_function\", X)\n",
            "  File \"/usr/local/lib/python3.10/dist-packages/sklearn/metrics/_scorer.py\", line 73, in _cached_call\n",
            "    return getattr(estimator, method)(*args, **kwargs)\n",
            "AttributeError: 'KNeighborsClassifier' object has no attribute 'decision_function'\n",
            "\n",
            "During handling of the above exception, another exception occurred:\n",
            "\n",
            "Traceback (most recent call last):\n",
            "  File \"/usr/local/lib/python3.10/dist-packages/sklearn/model_selection/_validation.py\", line 767, in _score\n",
            "    scores = scorer(estimator, X_test, y_test)\n",
            "  File \"/usr/local/lib/python3.10/dist-packages/sklearn/metrics/_scorer.py\", line 234, in __call__\n",
            "    return self._score(\n",
            "  File \"/usr/local/lib/python3.10/dist-packages/sklearn/metrics/_scorer.py\", line 387, in _score\n",
            "    y_pred = method_caller(clf, \"predict_proba\", X)\n",
            "  File \"/usr/local/lib/python3.10/dist-packages/sklearn/metrics/_scorer.py\", line 73, in _cached_call\n",
            "    return getattr(estimator, method)(*args, **kwargs)\n",
            "  File \"/usr/local/lib/python3.10/dist-packages/sklearn/neighbors/_classification.py\", line 283, in predict_proba\n",
            "    neigh_ind = self.kneighbors(X, return_distance=False)\n",
            "  File \"/usr/local/lib/python3.10/dist-packages/sklearn/neighbors/_base.py\", line 810, in kneighbors\n",
            "    raise ValueError(\n",
            "ValueError: Expected n_neighbors <= n_samples,  but n_samples = 7, n_neighbors = 13\n",
            "\n",
            "  warnings.warn(\n",
            "/usr/local/lib/python3.10/dist-packages/sklearn/model_selection/_validation.py:778: UserWarning: Scoring failed. The score on this train-test partition for these parameters will be set to nan. Details: \n",
            "Traceback (most recent call last):\n",
            "  File \"/usr/local/lib/python3.10/dist-packages/sklearn/metrics/_scorer.py\", line 373, in _score\n",
            "    y_pred = method_caller(clf, \"decision_function\", X)\n",
            "  File \"/usr/local/lib/python3.10/dist-packages/sklearn/metrics/_scorer.py\", line 73, in _cached_call\n",
            "    return getattr(estimator, method)(*args, **kwargs)\n",
            "AttributeError: 'KNeighborsClassifier' object has no attribute 'decision_function'\n",
            "\n",
            "During handling of the above exception, another exception occurred:\n",
            "\n",
            "Traceback (most recent call last):\n",
            "  File \"/usr/local/lib/python3.10/dist-packages/sklearn/model_selection/_validation.py\", line 767, in _score\n",
            "    scores = scorer(estimator, X_test, y_test)\n",
            "  File \"/usr/local/lib/python3.10/dist-packages/sklearn/metrics/_scorer.py\", line 234, in __call__\n",
            "    return self._score(\n",
            "  File \"/usr/local/lib/python3.10/dist-packages/sklearn/metrics/_scorer.py\", line 387, in _score\n",
            "    y_pred = method_caller(clf, \"predict_proba\", X)\n",
            "  File \"/usr/local/lib/python3.10/dist-packages/sklearn/metrics/_scorer.py\", line 73, in _cached_call\n",
            "    return getattr(estimator, method)(*args, **kwargs)\n",
            "  File \"/usr/local/lib/python3.10/dist-packages/sklearn/neighbors/_classification.py\", line 283, in predict_proba\n",
            "    neigh_ind = self.kneighbors(X, return_distance=False)\n",
            "  File \"/usr/local/lib/python3.10/dist-packages/sklearn/neighbors/_base.py\", line 810, in kneighbors\n",
            "    raise ValueError(\n",
            "ValueError: Expected n_neighbors <= n_samples,  but n_samples = 7, n_neighbors = 13\n",
            "\n",
            "  warnings.warn(\n",
            "/usr/local/lib/python3.10/dist-packages/sklearn/model_selection/_validation.py:778: UserWarning: Scoring failed. The score on this train-test partition for these parameters will be set to nan. Details: \n",
            "Traceback (most recent call last):\n",
            "  File \"/usr/local/lib/python3.10/dist-packages/sklearn/metrics/_scorer.py\", line 373, in _score\n",
            "    y_pred = method_caller(clf, \"decision_function\", X)\n",
            "  File \"/usr/local/lib/python3.10/dist-packages/sklearn/metrics/_scorer.py\", line 73, in _cached_call\n",
            "    return getattr(estimator, method)(*args, **kwargs)\n",
            "AttributeError: 'KNeighborsClassifier' object has no attribute 'decision_function'\n",
            "\n",
            "During handling of the above exception, another exception occurred:\n",
            "\n",
            "Traceback (most recent call last):\n",
            "  File \"/usr/local/lib/python3.10/dist-packages/sklearn/model_selection/_validation.py\", line 767, in _score\n",
            "    scores = scorer(estimator, X_test, y_test)\n",
            "  File \"/usr/local/lib/python3.10/dist-packages/sklearn/metrics/_scorer.py\", line 234, in __call__\n",
            "    return self._score(\n",
            "  File \"/usr/local/lib/python3.10/dist-packages/sklearn/metrics/_scorer.py\", line 387, in _score\n",
            "    y_pred = method_caller(clf, \"predict_proba\", X)\n",
            "  File \"/usr/local/lib/python3.10/dist-packages/sklearn/metrics/_scorer.py\", line 73, in _cached_call\n",
            "    return getattr(estimator, method)(*args, **kwargs)\n",
            "  File \"/usr/local/lib/python3.10/dist-packages/sklearn/neighbors/_classification.py\", line 283, in predict_proba\n",
            "    neigh_ind = self.kneighbors(X, return_distance=False)\n",
            "  File \"/usr/local/lib/python3.10/dist-packages/sklearn/neighbors/_base.py\", line 810, in kneighbors\n",
            "    raise ValueError(\n",
            "ValueError: Expected n_neighbors <= n_samples,  but n_samples = 7, n_neighbors = 13\n",
            "\n",
            "  warnings.warn(\n",
            "/usr/local/lib/python3.10/dist-packages/sklearn/model_selection/_validation.py:778: UserWarning: Scoring failed. The score on this train-test partition for these parameters will be set to nan. Details: \n",
            "Traceback (most recent call last):\n",
            "  File \"/usr/local/lib/python3.10/dist-packages/sklearn/metrics/_scorer.py\", line 373, in _score\n",
            "    y_pred = method_caller(clf, \"decision_function\", X)\n",
            "  File \"/usr/local/lib/python3.10/dist-packages/sklearn/metrics/_scorer.py\", line 73, in _cached_call\n",
            "    return getattr(estimator, method)(*args, **kwargs)\n",
            "AttributeError: 'KNeighborsClassifier' object has no attribute 'decision_function'\n",
            "\n",
            "During handling of the above exception, another exception occurred:\n",
            "\n",
            "Traceback (most recent call last):\n",
            "  File \"/usr/local/lib/python3.10/dist-packages/sklearn/model_selection/_validation.py\", line 767, in _score\n",
            "    scores = scorer(estimator, X_test, y_test)\n",
            "  File \"/usr/local/lib/python3.10/dist-packages/sklearn/metrics/_scorer.py\", line 234, in __call__\n",
            "    return self._score(\n",
            "  File \"/usr/local/lib/python3.10/dist-packages/sklearn/metrics/_scorer.py\", line 387, in _score\n",
            "    y_pred = method_caller(clf, \"predict_proba\", X)\n",
            "  File \"/usr/local/lib/python3.10/dist-packages/sklearn/metrics/_scorer.py\", line 73, in _cached_call\n",
            "    return getattr(estimator, method)(*args, **kwargs)\n",
            "  File \"/usr/local/lib/python3.10/dist-packages/sklearn/neighbors/_classification.py\", line 283, in predict_proba\n",
            "    neigh_ind = self.kneighbors(X, return_distance=False)\n",
            "  File \"/usr/local/lib/python3.10/dist-packages/sklearn/neighbors/_base.py\", line 810, in kneighbors\n",
            "    raise ValueError(\n",
            "ValueError: Expected n_neighbors <= n_samples,  but n_samples = 7, n_neighbors = 13\n",
            "\n",
            "  warnings.warn(\n",
            "/usr/local/lib/python3.10/dist-packages/sklearn/model_selection/_validation.py:778: UserWarning: Scoring failed. The score on this train-test partition for these parameters will be set to nan. Details: \n",
            "Traceback (most recent call last):\n",
            "  File \"/usr/local/lib/python3.10/dist-packages/sklearn/metrics/_scorer.py\", line 373, in _score\n",
            "    y_pred = method_caller(clf, \"decision_function\", X)\n",
            "  File \"/usr/local/lib/python3.10/dist-packages/sklearn/metrics/_scorer.py\", line 73, in _cached_call\n",
            "    return getattr(estimator, method)(*args, **kwargs)\n",
            "AttributeError: 'KNeighborsClassifier' object has no attribute 'decision_function'\n",
            "\n",
            "During handling of the above exception, another exception occurred:\n",
            "\n",
            "Traceback (most recent call last):\n",
            "  File \"/usr/local/lib/python3.10/dist-packages/sklearn/model_selection/_validation.py\", line 767, in _score\n",
            "    scores = scorer(estimator, X_test, y_test)\n",
            "  File \"/usr/local/lib/python3.10/dist-packages/sklearn/metrics/_scorer.py\", line 234, in __call__\n",
            "    return self._score(\n",
            "  File \"/usr/local/lib/python3.10/dist-packages/sklearn/metrics/_scorer.py\", line 387, in _score\n",
            "    y_pred = method_caller(clf, \"predict_proba\", X)\n",
            "  File \"/usr/local/lib/python3.10/dist-packages/sklearn/metrics/_scorer.py\", line 73, in _cached_call\n",
            "    return getattr(estimator, method)(*args, **kwargs)\n",
            "  File \"/usr/local/lib/python3.10/dist-packages/sklearn/neighbors/_classification.py\", line 283, in predict_proba\n",
            "    neigh_ind = self.kneighbors(X, return_distance=False)\n",
            "  File \"/usr/local/lib/python3.10/dist-packages/sklearn/neighbors/_base.py\", line 810, in kneighbors\n",
            "    raise ValueError(\n",
            "ValueError: Expected n_neighbors <= n_samples,  but n_samples = 7, n_neighbors = 13\n",
            "\n",
            "  warnings.warn(\n",
            "/usr/local/lib/python3.10/dist-packages/sklearn/model_selection/_validation.py:778: UserWarning: Scoring failed. The score on this train-test partition for these parameters will be set to nan. Details: \n",
            "Traceback (most recent call last):\n",
            "  File \"/usr/local/lib/python3.10/dist-packages/sklearn/metrics/_scorer.py\", line 373, in _score\n",
            "    y_pred = method_caller(clf, \"decision_function\", X)\n",
            "  File \"/usr/local/lib/python3.10/dist-packages/sklearn/metrics/_scorer.py\", line 73, in _cached_call\n",
            "    return getattr(estimator, method)(*args, **kwargs)\n",
            "AttributeError: 'KNeighborsClassifier' object has no attribute 'decision_function'\n",
            "\n",
            "During handling of the above exception, another exception occurred:\n",
            "\n",
            "Traceback (most recent call last):\n",
            "  File \"/usr/local/lib/python3.10/dist-packages/sklearn/model_selection/_validation.py\", line 767, in _score\n",
            "    scores = scorer(estimator, X_test, y_test)\n",
            "  File \"/usr/local/lib/python3.10/dist-packages/sklearn/metrics/_scorer.py\", line 234, in __call__\n",
            "    return self._score(\n",
            "  File \"/usr/local/lib/python3.10/dist-packages/sklearn/metrics/_scorer.py\", line 387, in _score\n",
            "    y_pred = method_caller(clf, \"predict_proba\", X)\n",
            "  File \"/usr/local/lib/python3.10/dist-packages/sklearn/metrics/_scorer.py\", line 73, in _cached_call\n",
            "    return getattr(estimator, method)(*args, **kwargs)\n",
            "  File \"/usr/local/lib/python3.10/dist-packages/sklearn/neighbors/_classification.py\", line 283, in predict_proba\n",
            "    neigh_ind = self.kneighbors(X, return_distance=False)\n",
            "  File \"/usr/local/lib/python3.10/dist-packages/sklearn/neighbors/_base.py\", line 810, in kneighbors\n",
            "    raise ValueError(\n",
            "ValueError: Expected n_neighbors <= n_samples,  but n_samples = 7, n_neighbors = 13\n",
            "\n",
            "  warnings.warn(\n",
            "/usr/local/lib/python3.10/dist-packages/sklearn/model_selection/_validation.py:778: UserWarning: Scoring failed. The score on this train-test partition for these parameters will be set to nan. Details: \n",
            "Traceback (most recent call last):\n",
            "  File \"/usr/local/lib/python3.10/dist-packages/sklearn/metrics/_scorer.py\", line 373, in _score\n",
            "    y_pred = method_caller(clf, \"decision_function\", X)\n",
            "  File \"/usr/local/lib/python3.10/dist-packages/sklearn/metrics/_scorer.py\", line 73, in _cached_call\n",
            "    return getattr(estimator, method)(*args, **kwargs)\n",
            "AttributeError: 'KNeighborsClassifier' object has no attribute 'decision_function'\n",
            "\n",
            "During handling of the above exception, another exception occurred:\n",
            "\n",
            "Traceback (most recent call last):\n",
            "  File \"/usr/local/lib/python3.10/dist-packages/sklearn/model_selection/_validation.py\", line 767, in _score\n",
            "    scores = scorer(estimator, X_test, y_test)\n",
            "  File \"/usr/local/lib/python3.10/dist-packages/sklearn/metrics/_scorer.py\", line 234, in __call__\n",
            "    return self._score(\n",
            "  File \"/usr/local/lib/python3.10/dist-packages/sklearn/metrics/_scorer.py\", line 387, in _score\n",
            "    y_pred = method_caller(clf, \"predict_proba\", X)\n",
            "  File \"/usr/local/lib/python3.10/dist-packages/sklearn/metrics/_scorer.py\", line 73, in _cached_call\n",
            "    return getattr(estimator, method)(*args, **kwargs)\n",
            "  File \"/usr/local/lib/python3.10/dist-packages/sklearn/neighbors/_classification.py\", line 283, in predict_proba\n",
            "    neigh_ind = self.kneighbors(X, return_distance=False)\n",
            "  File \"/usr/local/lib/python3.10/dist-packages/sklearn/neighbors/_base.py\", line 810, in kneighbors\n",
            "    raise ValueError(\n",
            "ValueError: Expected n_neighbors <= n_samples,  but n_samples = 7, n_neighbors = 13\n",
            "\n",
            "  warnings.warn(\n",
            "/usr/local/lib/python3.10/dist-packages/sklearn/model_selection/_validation.py:778: UserWarning: Scoring failed. The score on this train-test partition for these parameters will be set to nan. Details: \n",
            "Traceback (most recent call last):\n",
            "  File \"/usr/local/lib/python3.10/dist-packages/sklearn/metrics/_scorer.py\", line 373, in _score\n",
            "    y_pred = method_caller(clf, \"decision_function\", X)\n",
            "  File \"/usr/local/lib/python3.10/dist-packages/sklearn/metrics/_scorer.py\", line 73, in _cached_call\n",
            "    return getattr(estimator, method)(*args, **kwargs)\n",
            "AttributeError: 'KNeighborsClassifier' object has no attribute 'decision_function'\n",
            "\n",
            "During handling of the above exception, another exception occurred:\n",
            "\n",
            "Traceback (most recent call last):\n",
            "  File \"/usr/local/lib/python3.10/dist-packages/sklearn/model_selection/_validation.py\", line 767, in _score\n",
            "    scores = scorer(estimator, X_test, y_test)\n",
            "  File \"/usr/local/lib/python3.10/dist-packages/sklearn/metrics/_scorer.py\", line 234, in __call__\n",
            "    return self._score(\n",
            "  File \"/usr/local/lib/python3.10/dist-packages/sklearn/metrics/_scorer.py\", line 387, in _score\n",
            "    y_pred = method_caller(clf, \"predict_proba\", X)\n",
            "  File \"/usr/local/lib/python3.10/dist-packages/sklearn/metrics/_scorer.py\", line 73, in _cached_call\n",
            "    return getattr(estimator, method)(*args, **kwargs)\n",
            "  File \"/usr/local/lib/python3.10/dist-packages/sklearn/neighbors/_classification.py\", line 283, in predict_proba\n",
            "    neigh_ind = self.kneighbors(X, return_distance=False)\n",
            "  File \"/usr/local/lib/python3.10/dist-packages/sklearn/neighbors/_base.py\", line 810, in kneighbors\n",
            "    raise ValueError(\n",
            "ValueError: Expected n_neighbors <= n_samples,  but n_samples = 7, n_neighbors = 13\n",
            "\n",
            "  warnings.warn(\n",
            "/usr/local/lib/python3.10/dist-packages/sklearn/model_selection/_validation.py:778: UserWarning: Scoring failed. The score on this train-test partition for these parameters will be set to nan. Details: \n",
            "Traceback (most recent call last):\n",
            "  File \"/usr/local/lib/python3.10/dist-packages/sklearn/metrics/_scorer.py\", line 373, in _score\n",
            "    y_pred = method_caller(clf, \"decision_function\", X)\n",
            "  File \"/usr/local/lib/python3.10/dist-packages/sklearn/metrics/_scorer.py\", line 73, in _cached_call\n",
            "    return getattr(estimator, method)(*args, **kwargs)\n",
            "AttributeError: 'KNeighborsClassifier' object has no attribute 'decision_function'\n",
            "\n",
            "During handling of the above exception, another exception occurred:\n",
            "\n",
            "Traceback (most recent call last):\n",
            "  File \"/usr/local/lib/python3.10/dist-packages/sklearn/model_selection/_validation.py\", line 767, in _score\n",
            "    scores = scorer(estimator, X_test, y_test)\n",
            "  File \"/usr/local/lib/python3.10/dist-packages/sklearn/metrics/_scorer.py\", line 234, in __call__\n",
            "    return self._score(\n",
            "  File \"/usr/local/lib/python3.10/dist-packages/sklearn/metrics/_scorer.py\", line 387, in _score\n",
            "    y_pred = method_caller(clf, \"predict_proba\", X)\n",
            "  File \"/usr/local/lib/python3.10/dist-packages/sklearn/metrics/_scorer.py\", line 73, in _cached_call\n",
            "    return getattr(estimator, method)(*args, **kwargs)\n",
            "  File \"/usr/local/lib/python3.10/dist-packages/sklearn/neighbors/_classification.py\", line 283, in predict_proba\n",
            "    neigh_ind = self.kneighbors(X, return_distance=False)\n",
            "  File \"/usr/local/lib/python3.10/dist-packages/sklearn/neighbors/_base.py\", line 810, in kneighbors\n",
            "    raise ValueError(\n",
            "ValueError: Expected n_neighbors <= n_samples,  but n_samples = 7, n_neighbors = 13\n",
            "\n",
            "  warnings.warn(\n",
            "/usr/local/lib/python3.10/dist-packages/sklearn/model_selection/_validation.py:778: UserWarning: Scoring failed. The score on this train-test partition for these parameters will be set to nan. Details: \n",
            "Traceback (most recent call last):\n",
            "  File \"/usr/local/lib/python3.10/dist-packages/sklearn/metrics/_scorer.py\", line 373, in _score\n",
            "    y_pred = method_caller(clf, \"decision_function\", X)\n",
            "  File \"/usr/local/lib/python3.10/dist-packages/sklearn/metrics/_scorer.py\", line 73, in _cached_call\n",
            "    return getattr(estimator, method)(*args, **kwargs)\n",
            "AttributeError: 'KNeighborsClassifier' object has no attribute 'decision_function'\n",
            "\n",
            "During handling of the above exception, another exception occurred:\n",
            "\n",
            "Traceback (most recent call last):\n",
            "  File \"/usr/local/lib/python3.10/dist-packages/sklearn/model_selection/_validation.py\", line 767, in _score\n",
            "    scores = scorer(estimator, X_test, y_test)\n",
            "  File \"/usr/local/lib/python3.10/dist-packages/sklearn/metrics/_scorer.py\", line 234, in __call__\n",
            "    return self._score(\n",
            "  File \"/usr/local/lib/python3.10/dist-packages/sklearn/metrics/_scorer.py\", line 387, in _score\n",
            "    y_pred = method_caller(clf, \"predict_proba\", X)\n",
            "  File \"/usr/local/lib/python3.10/dist-packages/sklearn/metrics/_scorer.py\", line 73, in _cached_call\n",
            "    return getattr(estimator, method)(*args, **kwargs)\n",
            "  File \"/usr/local/lib/python3.10/dist-packages/sklearn/neighbors/_classification.py\", line 283, in predict_proba\n",
            "    neigh_ind = self.kneighbors(X, return_distance=False)\n",
            "  File \"/usr/local/lib/python3.10/dist-packages/sklearn/neighbors/_base.py\", line 810, in kneighbors\n",
            "    raise ValueError(\n",
            "ValueError: Expected n_neighbors <= n_samples,  but n_samples = 7, n_neighbors = 13\n",
            "\n",
            "  warnings.warn(\n"
          ]
        },
        {
          "output_type": "error",
          "ename": "NameError",
          "evalue": "name 'final_RF_model' is not defined",
          "traceback": [
            "\u001b[0;31m---------------------------------------------------------------------------\u001b[0m",
            "\u001b[0;31mNameError\u001b[0m                                 Traceback (most recent call last)",
            "\u001b[0;32m<ipython-input-21-c9b06c6f4d4d>\u001b[0m in \u001b[0;36m<cell line: 9>\u001b[0;34m()\u001b[0m\n\u001b[1;32m      7\u001b[0m \u001b[0;31m# RF\u001b[0m\u001b[0;34m\u001b[0m\u001b[0;34m\u001b[0m\u001b[0m\n\u001b[1;32m      8\u001b[0m \u001b[0max\u001b[0m \u001b[0;34m=\u001b[0m \u001b[0mfig\u001b[0m\u001b[0;34m.\u001b[0m\u001b[0madd_subplot\u001b[0m\u001b[0;34m(\u001b[0m\u001b[0;36m1\u001b[0m\u001b[0;34m,\u001b[0m \u001b[0;36m3\u001b[0m\u001b[0;34m,\u001b[0m \u001b[0;36m2\u001b[0m\u001b[0;34m)\u001b[0m\u001b[0;34m\u001b[0m\u001b[0;34m\u001b[0m\u001b[0m\n\u001b[0;32m----> 9\u001b[0;31m \u001b[0mplot_learning_curve\u001b[0m\u001b[0;34m(\u001b[0m\u001b[0mfinal_RF_model\u001b[0m\u001b[0;34m,\u001b[0m \u001b[0;34m'RF classifier'\u001b[0m\u001b[0;34m,\u001b[0m \u001b[0mX_train_fs\u001b[0m\u001b[0;34m,\u001b[0m \u001b[0mY_train\u001b[0m\u001b[0;34m,\u001b[0m \u001b[0max\u001b[0m\u001b[0;34m,\u001b[0m \u001b[0mylim\u001b[0m\u001b[0;34m=\u001b[0m\u001b[0;34m(\u001b[0m\u001b[0;36m0.3\u001b[0m\u001b[0;34m,\u001b[0m \u001b[0;36m1.03\u001b[0m\u001b[0;34m)\u001b[0m\u001b[0;34m,\u001b[0m \u001b[0mcv\u001b[0m\u001b[0;34m=\u001b[0m\u001b[0mouter_cv\u001b[0m\u001b[0;34m)\u001b[0m\u001b[0;34m\u001b[0m\u001b[0;34m\u001b[0m\u001b[0m\n\u001b[0m\u001b[1;32m     10\u001b[0m \u001b[0;34m\u001b[0m\u001b[0m\n\u001b[1;32m     11\u001b[0m \u001b[0;31m# CVM\u001b[0m\u001b[0;34m\u001b[0m\u001b[0;34m\u001b[0m\u001b[0m\n",
            "\u001b[0;31mNameError\u001b[0m: name 'final_RF_model' is not defined"
          ]
        },
        {
          "output_type": "display_data",
          "data": {
            "text/plain": [
              "<Figure size 1500x400 with 2 Axes>"
            ],
            "image/png": "[encoded data removed]"
          },
          "metadata": {}
        }
      ]
    },
    {
      "cell_type": "markdown",
      "source": [
        "## Receiver Operating Curve"
      ],
      "metadata": {
        "id": "ZHkb7w9rhCCM"
      }
    },
    {
      "cell_type": "code",
      "source": [
        "plt.figure()\n",
        "lw = 2\n",
        "plt.plot([0, 1], [0, 1], lw=lw, linestyle='--')\n",
        "plt.xlim([0.0, 1.0])\n",
        "plt.ylim([0.0, 1.05])\n",
        "plt.xlabel('False Positive Rate')\n",
        "plt.ylabel('True Positive Rate')\n",
        "plt.title('Receiver Operating Curve')\n",
        "\n",
        "# KNN\n",
        "fpr_KNN, tpr_KNN, _ = roc_curve(Y_test, pred_proba_KNN_test)\n",
        "roc_auc_KNN = auc(fpr_KNN, tpr_KNN)\n",
        "plt.plot(fpr_KNN, tpr_KNN, lw=lw, label='KNN (AUC = %0.2f)' % roc_auc_KNN)\n",
        "\n",
        "# RF\n",
        "fpr_RF, tpr_RF, _ = roc_curve(Y_test, pred_proba_RF_test)\n",
        "roc_auc_RF = auc(fpr_RF, tpr_RF)\n",
        "plt.plot(fpr_RF, tpr_RF, lw=lw, label='RF (AUC = %0.2f)' % roc_auc_RF)\n",
        "\n",
        "# SVM\n",
        "fpr_SVM, tpr_SVM, _ = roc_curve(Y_test, pred_proba_SVM_test)\n",
        "roc_auc_SVM = auc(fpr_SVM, tpr_SVM)\n",
        "plt.plot(fpr_SVM, tpr_SVM, lw=lw, label='SVM (AUC = %0.2f)' % roc_auc_SVM)\n",
        "\n",
        "plt.legend(loc=\"lower right\")\n",
        "plt.show()"
      ],
      "metadata": {
        "id": "h5u6TbRYg7qg"
      },
      "execution_count": null,
      "outputs": []
    }
  ],
  "metadata": {
    "colab": {
      "name": "assignment.ipynb",
      "provenance": []
    },
    "kernelspec": {
      "display_name": "Python 3",
      "language": "python",
      "name": "python3"
    },
    "language_info": {
      "codemirror_mode": {
        "name": "ipython",
        "version": 3
      },
      "file_extension": ".py",
      "mimetype": "text/x-python",
      "name": "python",
      "nbconvert_exporter": "python",
      "pygments_lexer": "ipython3",
      "version": "3.8.5"
    }
  },
  "nbformat": 4,
  "nbformat_minor": 0
}