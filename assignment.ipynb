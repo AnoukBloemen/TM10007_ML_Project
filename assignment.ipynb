{
  "cells": [
    {
      "cell_type": "markdown",
      "metadata": {
        "id": "7SXpaKwwGe5x"
      },
      "source": [
        "# TM10007 Assignment template"
      ]
    },
    {
      "cell_type": "code",
      "execution_count": 214,
      "metadata": {
        "id": "CiDn2Sk-VWqE"
      },
      "outputs": [],
      "source": [
        "## Run this to use from colab environment\n",
        "# !pip install -q --upgrade git+https://github.com/jveenland/tm10007_ml.git"
      ]
    },
    {
      "cell_type": "markdown",
      "source": [
        "# Importing packages"
      ],
      "metadata": {
        "id": "g1cum_GWnJzM"
      }
    },
    {
      "cell_type": "code",
      "source": [
        "# General packages\n",
        "import numpy as np\n",
        "import pandas as pd\n",
        "import matplotlib.pyplot as plt\n",
        "from sklearn import datasets as ds\n",
        "import seaborn\n",
        "\n",
        "# Classifiers\n",
        "from sklearn import model_selection\n",
        "from sklearn import metrics\n",
        "from sklearn.ensemble import RandomForestClassifier\n",
        "from sklearn.neighbors import KNeighborsClassifier\n",
        "from sklearn import svm\n",
        "\n",
        "# Scoring methods\n",
        "from sklearn.model_selection import GridSearchCV, cross_val_score\n",
        "from sklearn.metrics import roc_auc_score, accuracy_score, classification_report\n",
        "\n",
        "# Preprocessing steps\n",
        "from sklearn.impute import SimpleImputer\n",
        "from sklearn.decomposition import PCA\n",
        "from sklearn.pipeline import Pipeline\n",
        "from scipy.stats import shapiro\n",
        "from sklearn.preprocessing import StandardScaler\n",
        "from sklearn.preprocessing import MinMaxScaler\n",
        "from sklearn.preprocessing import RobustScaler\n",
        "\n",
        "# Feature selection\n",
        "from sklearn.feature_selection import SelectKBest, f_classif, VarianceThreshold\n",
        "from sklearn.linear_model import LogisticRegression\n",
        "from sklearn.model_selection import StratifiedKFold\n",
        "from sklearn import decomposition"
      ],
      "metadata": {
        "id": "RPltM9lAmbIn"
      },
      "execution_count": 215,
      "outputs": []
    },
    {
      "cell_type": "markdown",
      "metadata": {
        "id": "bXiW521Kl09k"
      },
      "source": [
        "# Data loading and cleaning\n",
        "\n",
        "Below are functions to load the dataset of your choice. After that, it is all up to you to create and evaluate a classification method. Beware, there may be missing values in these datasets. Good luck!"
      ]
    },
    {
      "cell_type": "code",
      "execution_count": 216,
      "metadata": {
        "colab": {
          "base_uri": "https://localhost:8080/"
        },
        "id": "-NE_fTbKGe5z",
        "outputId": "53aab831-bbda-428b-f71e-19e7320bd84e"
      },
      "outputs": [
        {
          "output_type": "stream",
          "name": "stdout",
          "text": [
            "The number of samples: 115\n",
            "The number of columns: 494\n"
          ]
        }
      ],
      "source": [
        "# Data loading\n",
        "from worclipo.load_data import load_data\n",
        "\n",
        "data = load_data()\n",
        "print(f'The number of samples: {len(data.index)}')\n",
        "print(f'The number of columns: {len(data.columns)}')\n",
        "\n",
        "\n",
        "\n"
      ]
    },
    {
      "cell_type": "markdown",
      "source": [
        "## Creating a split in the data\n",
        "\n",
        "A training and test set are created. The training set will be used to fit the classifier, while the test set is remained untouched until it is used for testing the trained classifier.\n",
        "\n",
        "Split is stratified so labels are present in both sets in same proportions."
      ],
      "metadata": {
        "id": "EnN20JHuvvaq"
      }
    },
    {
      "cell_type": "code",
      "source": [
        "# Extract columns with labels\n",
        "Y = data.pop('label').replace({'lipoma':0, 'liposarcoma':1}) #moeten we misschien nog ook de ID poppen?\n",
        "print(f'Proportion of the labels: {sum(Y)/len(Y)}')\n",
        "\n",
        "# Extract the rest of the data (without the labels)\n",
        "X = data\n",
        "X_train, X_test, Y_train, Y_test = model_selection.train_test_split(X, Y, test_size=0.2, stratify=Y)\n",
        "\n",
        "print(f'Size of training set: {X_train.shape}')\n",
        "print(f'Size of test set: {X_test.shape}')"
      ],
      "metadata": {
        "id": "qTjJAJ-7vtzg",
        "outputId": "b8c5e184-468e-4e86-bb2d-ca6d51d27a06",
        "colab": {
          "base_uri": "https://localhost:8080/"
        }
      },
      "execution_count": 217,
      "outputs": [
        {
          "output_type": "stream",
          "name": "stdout",
          "text": [
            "Proportion of the labels: 0.5043478260869565\n",
            "Size of training set: (92, 493)\n",
            "Size of test set: (23, 493)\n"
          ]
        }
      ]
    },
    {
      "cell_type": "markdown",
      "source": [
        "## Preprocessing Data"
      ],
      "metadata": {
        "id": "cL18MbR93P-I"
      }
    },
    {
      "cell_type": "markdown",
      "source": [
        "### Missing Values\n",
        "Determining cells with missing values and distribution per column. Filling missing cells with mean or median, depending on the distribution of corresponding column.\n"
      ],
      "metadata": {
        "id": "U8-WunWt4Q6p"
      }
    },
    {
      "cell_type": "code",
      "source": [
        "# Filling missing values with correct value based on type of distribution per column\n",
        "\n",
        "alpha = 0.05\n",
        "normal_distributed_columns_count_train = 0\n",
        "not_normal_distributed_columns_count_train = 0\n",
        "nans_found_in_column_count_train = 0\n",
        "\n",
        "\n",
        "# Checking and filling missing for train\n",
        "for column in X_train:\n",
        "    # if X_train[column].min() != X_train[column].max():\n",
        "    #     stat, p = shapiro(X_train[column].dropna())\n",
        "        if p > alpha:\n",
        "            normal_distributed_columns_count_train += 1\n",
        "            if X_train[column].isna().sum() > 0:\n",
        "                X_train[column].fillna(X_train[column].mean(), inplace=True)\n",
        "                nans_found_in_column_count_train += 1\n",
        "        else:\n",
        "            not_normal_distributed_columns_count_train += 1\n",
        "            if X_train[column].isna().sum() > 0:\n",
        "                X_train[column].fillna(X_train[column].median(), inplace=True)\n",
        "                nans_found_in_column_count_train += 1\n",
        "\n",
        "print(f'The number of normal distributed columns in train set is : {normal_distributed_columns_count_train}')\n",
        "print(f'The number of not normal distributed columns in train set is: {not_normal_distributed_columns_count_train}')\n",
        "print(f'The number of columns in train set where nans were filled: {nans_found_in_column_count_train}')\n",
        "print()\n",
        "\n",
        "# Checking and filling missing for test set\n",
        "normal_distributed_columns_count_test = 0\n",
        "not_normal_distributed_columns_count_test = 0\n",
        "nans_found_in_column_count_test = 0\n",
        "\n",
        "for column in X_test:\n",
        "    # if X_test[column].min() != X_test[column].max():\n",
        "    #     stat, p = shapiro(X_test[column].dropna())\n",
        "        if p > alpha:\n",
        "            normal_distributed_columns_count_test += 1\n",
        "            if X_test[column].isna().sum() > 0:\n",
        "                X_test[column].fillna(X_train[column].mean(), inplace=True)\n",
        "                nans_found_in_column_count_test += 1\n",
        "        else:\n",
        "            not_normal_distributed_columns_count_test += 1\n",
        "            if X_test[column].isna().sum() > 0:\n",
        "                X_test[column].fillna(X_train[column].median(), inplace=True)\n",
        "                nans_found_in_column_count_test += 1\n",
        "\n",
        "print(f'The number of normal distributed columns in test set is : {normal_distributed_columns_count_test}')\n",
        "print(f'The number of not normal distributed columns in test set is: {not_normal_distributed_columns_count_test}')\n",
        "print(f'The number of columns in test set where nans were filled: {nans_found_in_column_count_test}')"
      ],
      "metadata": {
        "id": "CpaHZZda6SE1",
        "outputId": "96ccfcbe-ae42-441f-9891-09ad8428d0b1",
        "colab": {
          "base_uri": "https://localhost:8080/"
        }
      },
      "execution_count": 218,
      "outputs": [
        {
          "output_type": "stream",
          "name": "stdout",
          "text": [
            "The number of normal distributed columns in train set is : 0\n",
            "The number of not normal distributed columns in train set is: 493\n",
            "The number of columns in train set where nans were filled: 0\n",
            "\n",
            "The number of normal distributed columns in test set is : 0\n",
            "The number of not normal distributed columns in test set is: 493\n",
            "The number of columns in test set where nans were filled: 0\n"
          ]
        }
      ]
    },
    {
      "cell_type": "markdown",
      "source": [
        "### Feature Scaling\n",
        "Scale features in train set"
      ],
      "metadata": {
        "id": "ZB1ABL14902-"
      }
    },
    {
      "cell_type": "markdown",
      "source": [
        "#### Motivation of chosen scaler"
      ],
      "metadata": {
        "id": "fAtSOQHKkYAE"
      }
    },
    {
      "cell_type": "code",
      "source": [
        "# Calculating prescence and number of outliers\n",
        "columns_many_outliers_count = 0\n",
        "\n",
        "for column in X_train:\n",
        "    Q1 = X_train[column].quantile(0.25)\n",
        "    Q3 = X_train[column].quantile(0.75)\n",
        "    IQR = Q3 - Q1\n",
        "\n",
        "    outliers = X_train[(X_train[column] < (Q1 - 1.5 * IQR)) | (X_train[column] > (Q3 + 1.5 * IQR))]\n",
        "    outliers_count = outliers.shape[0]\n",
        "\n",
        "    if outliers_count > 0.05 * X_train.shape[0]:\n",
        "        columns_many_outliers_count += 1\n",
        "\n",
        "perc_columns_many_outliers = (columns_many_outliers_count / len(X_train.columns))*100\n",
        "print(f\"Number of columns with many outliers: {columns_many_outliers_count}/{len(X_train.columns)} = {perc_columns_many_outliers:.2f}%\")"
      ],
      "metadata": {
        "id": "L5ePShRwmJrY",
        "outputId": "ab166217-02f7-41ea-9dfe-3f7be57bd54c",
        "colab": {
          "base_uri": "https://localhost:8080/"
        }
      },
      "execution_count": 219,
      "outputs": [
        {
          "output_type": "stream",
          "name": "stdout",
          "text": [
            "Number of columns with many outliers: 196/493 = 39.76%\n"
          ]
        }
      ]
    },
    {
      "cell_type": "markdown",
      "source": [
        "#### Scaling the data"
      ],
      "metadata": {
        "id": "oS7Re7CSkiMx"
      }
    },
    {
      "cell_type": "code",
      "source": [
        "scaler = RobustScaler()\n",
        "scaler.fit(X_train) # Fit scaler on training set\n",
        "\n",
        "# Transform train and test set using scaler\n",
        "X_train_sc = (scaler.transform(X_train))\n",
        "X_test_sc = scaler.transform(X_test)\n",
        "\n",
        "X_train_sc = pd.DataFrame(X_train_sc)\n",
        "X_test_sc = pd.DataFrame(X_test_sc)"
      ],
      "metadata": {
        "id": "vR4vx1oJoZBn"
      },
      "execution_count": 220,
      "outputs": []
    },
    {
      "cell_type": "markdown",
      "source": [
        "# Inspecting data"
      ],
      "metadata": {
        "id": "7afe2lGEowDL"
      }
    },
    {
      "cell_type": "markdown",
      "source": [
        "### Feature selection and extraction"
      ],
      "metadata": {
        "id": "bTxLT12kH1u5"
      }
    },
    {
      "cell_type": "code",
      "source": [
        "# Determining features with zerovariance and removing these\n",
        "selector = VarianceThreshold(threshold=0)\n",
        "vs_fit = selector.fit(X_train_sc)\n",
        "\n",
        "X_train_zv = vs_fit.transform(X_train_sc)\n",
        "X_test_zv = vs_fit.transform(X_test_sc)\n",
        "\n",
        "# Willen we dit nou van train of test set weten?\n",
        "print(f'Amount of features with zero variance: {X_train_sc.shape[1]-X_train_zv.shape[1]}')\n",
        "print(f'Amount of features after removing features with zero variance: {X_train_zv.shape[1]}')"
      ],
      "metadata": {
        "id": "isFVugQAoGXH",
        "outputId": "5656e662-351f-40e1-f344-26cac4122c58",
        "colab": {
          "base_uri": "https://localhost:8080/"
        }
      },
      "execution_count": 221,
      "outputs": [
        {
          "output_type": "stream",
          "name": "stdout",
          "text": [
            "Amount of features with zero variance: 19\n",
            "Amount of features after removing features with zero variance: 474\n"
          ]
        }
      ]
    },
    {
      "cell_type": "code",
      "source": [
        "kf = StratifiedKFold(n_splits=10, shuffle=True, random_state=42)\n",
        "k_values = range(1, 11)\n",
        "average_accuracies = []\n",
        "\n",
        "for k in k_values:\n",
        "\n",
        "    # Select K-best features\n",
        "    selector = SelectKBest(f_classif, k=k)\n",
        "    X_train_select = selector.fit_transform(X_train_zv, Y_train)\n",
        "    accuracies = []\n",
        "\n",
        "    # 10-fold cross-validation\n",
        "    for train_index, test_index in kf.split(X_train_select, Y_train):\n",
        "\n",
        "        X_fold_train, X_fold_test = X_train_select[train_index], X_train_select[test_index]\n",
        "        y_fold_train, y_fold_test = Y_train.iloc[train_index], Y_train.iloc[test_index]\n",
        "\n",
        "        # Train kNN-model\n",
        "        knn_model = KNeighborsClassifier()\n",
        "        knn_model.fit(X_fold_train, y_fold_train)\n",
        "\n",
        "        # Predict and evaluate accuracy\n",
        "        predictions = knn_model.predict(X_fold_test)\n",
        "        accuracy = accuracy_score(y_fold_test, predictions)\n",
        "        accuracies.append(accuracy)\n",
        "\n",
        "        # Calculating average accuracy for current k-number\n",
        "    average_accuracy = np.mean(accuracies)\n",
        "    average_accuracies.append(average_accuracy)\n",
        "    print(f\"Average accuracy for k={k}: {average_accuracy:.5f}\")\n",
        "\n",
        "plt.figure(figsize=(10,6))\n",
        "plt.plot(list(k_values), average_accuracies, marker='o', linestyle='-', color='blue', linewidth=15, alpha=0.3, zorder=1)\n",
        "plt.plot(list(k_values), average_accuracies, marker='o', linestyle='-', color='blue')\n",
        "plt.title('Average accuracy vs no. of K-features for K-Best')\n",
        "plt.xlabel('No. of features')\n",
        "plt.ylabel('Average accuracy')\n",
        "plt.grid(True)\n",
        "plt.xticks(list(k_values))\n",
        "plt.show()"
      ],
      "metadata": {
        "id": "ARVOZKZSQYps",
        "outputId": "cb499595-c90a-4091-e94b-7d8a922a2375",
        "colab": {
          "base_uri": "https://localhost:8080/",
          "height": 738
        }
      },
      "execution_count": 225,
      "outputs": [
        {
          "output_type": "stream",
          "name": "stdout",
          "text": [
            "Average accuracy for k=1: 0.75000\n",
            "Average accuracy for k=2: 0.70778\n",
            "Average accuracy for k=3: 0.71556\n",
            "Average accuracy for k=4: 0.70444\n",
            "Average accuracy for k=5: 0.65889\n",
            "Average accuracy for k=6: 0.69333\n",
            "Average accuracy for k=7: 0.73556\n",
            "Average accuracy for k=8: 0.74667\n",
            "Average accuracy for k=9: 0.72444\n",
            "Average accuracy for k=10: 0.75778\n"
          ]
        },
        {
          "output_type": "display_data",
          "data": {
            "text/plain": [
              "<Figure size 1000x600 with 1 Axes>"
            ],
            "image/png": "[encoded data removed]"
          },
          "metadata": {}
        }
      ]
    },
    {
      "cell_type": "code",
      "source": [
        "skf = StratifiedKFold(n_splits=10, shuffle=True, random_state=42)\n",
        "results = []\n",
        "max_components = min(X_train_zv.shape[1], X_train_zv.shape[0] - 1)\n",
        "\n",
        "for n_components in range(1, max_components + 1) :\n",
        "    pca = PCA(n_components=n_components)\n",
        "    X_train_pca = pca.fit_transform(X_train_zv)\n",
        "\n",
        "    accuracies = []\n",
        "\n",
        "    for train_index, test_index in skf.split(X_train_pca, Y_train):\n",
        "        X_fold_train, X_fold_test = X_train_pca[train_index], X_train_pca[test_index]\n",
        "        y_fold_train, y_fold_test = Y_train.iloc[train_index], Y_train.iloc[test_index]\n",
        "\n",
        "        # Train kNN-model\n",
        "        knn_model = KNeighborsClassifier()\n",
        "        knn_model.fit(X_fold_train, y_fold_train)\n",
        "\n",
        "        # Predict and evaluate accuracy\n",
        "        predictions = knn_model.predict(X_fold_test)\n",
        "        accuracy = accuracy_score(y_fold_test, predictions)\n",
        "        accuracies.append(accuracy)\n",
        "\n",
        "    average_accuracy = np.mean(accuracies)\n",
        "    std_dev = np.std(accuracies)\n",
        "    results.append((n_components, average_accuracy, std_dev))\n",
        "\n",
        "# Sort results on accuracy, print top 5 with SD\n",
        "top_results = sorted(results, key=lambda x: x[1], reverse=True)[:5]\n",
        "n_values_top = [result[0] for result in top_results]\n",
        "accuracies_top = [result[1] for result in top_results]\n",
        "\n",
        "for n_components, accuracy, std_dev in top_results:\n",
        "    print(f\"n-components = {n_components}, average accuracy = {accuracy:.5f} with std dev = {std_dev:.5f}\")\n",
        "\n",
        "\n",
        "\n",
        "plt.figure(figsize=(10,6))\n",
        "plt.plot(list(n_values_top), accuracies_top, marker='o', linestyle='-', color='blue', linewidth=15, alpha=0.3, zorder=1)\n",
        "plt.plot(list(n_values_top), accuracies_top, marker='o', linestyle='-', color='blue')\n",
        "plt.title('Average accuracy vs no. of components for PCA')\n",
        "plt.xlabel('No. of components')\n",
        "plt.ylabel('Average accuracy')\n",
        "plt.grid(True)\n",
        "plt.xticks(list(n_values_top))\n",
        "plt.show()"
      ],
      "metadata": {
        "id": "vyIV1QIxWbJq",
        "outputId": "d3e17164-2845-4af3-db5b-81bb1e86d513",
        "colab": {
          "base_uri": "https://localhost:8080/",
          "height": 651
        }
      },
      "execution_count": 234,
      "outputs": [
        {
          "output_type": "stream",
          "name": "stdout",
          "text": [
            "n-components = 3, average accuracy = 0.71556 with std dev = 0.10282\n",
            "n-components = 5, average accuracy = 0.69444 with std dev = 0.11058\n",
            "n-components = 4, average accuracy = 0.68222 with std dev = 0.12998\n",
            "n-components = 1, average accuracy = 0.66111 with std dev = 0.15518\n",
            "n-components = 15, average accuracy = 0.66111 with std dev = 0.11918\n"
          ]
        },
        {
          "output_type": "display_data",
          "data": {
            "text/plain": [
              "<Figure size 1000x600 with 1 Axes>"
            ],
            "image/png": "[encoded data removed]"
          },
          "metadata": {}
        }
      ]
    },
    {
      "cell_type": "code",
      "source": [
        "# Feature selection using K best - ANOVA squared test\n",
        "cv = StratifiedKfold(n_splits=10)\n",
        "\n",
        "average_accuracies = []\n",
        "\n",
        "fold_accuracies = []\n",
        "\n",
        "for k in range(1,11):\n",
        "    filter = SelectKBest(f_classif, k)\n",
        "\n",
        "    for train_i, validatie_i\n",
        "    X_train_fs = fs_chi.transform(X_train_zv)\n",
        "\n",
        "    neigh = KNeighborsClassifier(n_neighbors=3)\n",
        "    neigh.fit(X, y)\n",
        "\n",
        "X_train_fs = fs_chi.transform(X_train_zv)\n",
        "# X_test_fs = fs_chi.transform(X_test_zv)\n",
        "\n",
        "\n",
        "\n",
        "print(X_train_fs.shape)\n",
        "print(X_test_fs.shape)\n"
      ],
      "metadata": {
        "id": "pY2smu5SH9NH",
        "colab": {
          "base_uri": "https://localhost:8080/",
          "height": 106
        },
        "outputId": "4ef8dc8d-1baa-4813-a081-9d1f44266336"
      },
      "execution_count": 235,
      "outputs": [
        {
          "output_type": "error",
          "ename": "SyntaxError",
          "evalue": "invalid syntax (<ipython-input-235-0cf865008204>, line 11)",
          "traceback": [
            "\u001b[0;36m  File \u001b[0;32m\"<ipython-input-235-0cf865008204>\"\u001b[0;36m, line \u001b[0;32m11\u001b[0m\n\u001b[0;31m    for train_i, validatie_i\u001b[0m\n\u001b[0m                            ^\u001b[0m\n\u001b[0;31mSyntaxError\u001b[0m\u001b[0;31m:\u001b[0m invalid syntax\n"
          ]
        }
      ]
    },
    {
      "cell_type": "code",
      "source": [
        "# # PCA\n",
        "# # If there are more samples than features left after RFECV then perform PCA\n",
        "# pca = decomposition.PCA(n_components=0.95)\n",
        "# pca.fit(X_train_zv)\n",
        "# X_train_fs = pca.transform(X_train_zv)\n",
        "# X_test_fs = pca.transform(X_test_zv)"
      ],
      "metadata": {
        "id": "1HlXchplsHTo"
      },
      "execution_count": null,
      "outputs": []
    },
    {
      "cell_type": "markdown",
      "source": [
        "# Classifiers"
      ],
      "metadata": {
        "id": "NqoGUPrpTjMS"
      }
    },
    {
      "cell_type": "code",
      "source": [
        "# General variables for classifiers\n",
        "cv = 5"
      ],
      "metadata": {
        "id": "dyhJmXgJydQW"
      },
      "execution_count": null,
      "outputs": []
    },
    {
      "cell_type": "markdown",
      "source": [
        "### KNN"
      ],
      "metadata": {
        "id": "9pY9Z5AwTk4w"
      }
    },
    {
      "cell_type": "code",
      "source": [
        "knn_model = KNeighborsClassifier()\n",
        "\n",
        "# Define the parameter grid - WAAROM DEZE\n",
        "param_grid_knn = {\n",
        "    'n_neighbors': list(range(1, 60, 2)),\n",
        "    'weights': ['uniform', 'distance'],\n",
        "    'p': [1, 2]  # p=1 for Manhattan distance, p=2 for Euclidean distance\n",
        "}\n",
        "\n",
        "# Create the grid search object with ROC AUC scoring\n",
        "grid_search_knn = GridSearchCV(knn_model, param_grid_knn, cv=cv, scoring='roc_auc')\n",
        "\n",
        "# Fit the grid search to the data\n",
        "grid_search_knn.fit(X_train_fs, Y_train)\n",
        "\n",
        "# Print the best parameters\n",
        "print(\"Best parameters found: \", grid_search_knn.best_params_)\n",
        "\n",
        "# Get the best estimator\n",
        "best_knn_model = grid_search_knn.best_estimator_\n",
        "print(f'Best estimator: {best_knn_model}')\n",
        "\n",
        "# see how well model works on train and test data:\n",
        "predictions_knn_train = best_knn_model.predict(X_train_fs)\n",
        "print(classification_report(Y_train, predictions_knn_train))\n",
        "\n",
        "roc_auc_knn_train = roc_auc_score(Y_train, predictions_knn_train)\n",
        "print('ROC AUC =', roc_auc_knn_train)\n",
        "accuracy_knn_train = accuracy_score(Y_train, predictions_knn_train)\n",
        "print('Accuracy =', accuracy_knn_train)\n",
        "\n",
        "predictions_knn_test = best_knn_model.predict(X_test_fs)\n",
        "print(classification_report(Y_test, predictions_knn_test))\n",
        "\n",
        "roc_auc_knn_test = roc_auc_score(Y_test, predictions_knn_test)\n",
        "print('ROC AUC =', roc_auc_knn_test)\n",
        "accuracy_knn_test = accuracy_score(Y_test, predictions_knn_test)\n",
        "print('Accuracy =', accuracy_knn_test)"
      ],
      "metadata": {
        "id": "KSjGJIfWTmUX"
      },
      "execution_count": null,
      "outputs": []
    },
    {
      "cell_type": "markdown",
      "source": [
        "### Random forest"
      ],
      "metadata": {
        "id": "Czr39UJNT1l-"
      }
    },
    {
      "cell_type": "code",
      "source": [
        "#NB: runnen duurt lang door lijst aan n_estimators!\n",
        "\n",
        "RF_model = RandomForestClassifier()\n",
        "\n",
        "# Define the parameter grid - WAAROM DEZE\n",
        "param_grid_RF = {\n",
        "    #'n_estimators': list(range(1, 100, 10)), # more estimators probably better result but also more computationally expensive!\n",
        "    'bootstrap': [True, False],\n",
        "    'min_samples_leaf': list(range(1, 7, 2))\n",
        "}\n",
        "\n",
        "# Create the grid search object with ROC AUC scoring\n",
        "grid_search_RF = GridSearchCV(RF_model, param_grid_RF, cv=cv, scoring='roc_auc', error_score='raise')\n",
        "\n",
        "# Fit the grid search to the data\n",
        "grid_search_RF.fit(X_train_fs, Y_train)\n",
        "\n",
        "# Print the best parameters\n",
        "print(\"Best parameters found: \", grid_search_RF.best_params_)\n",
        "\n",
        "# Get the best estimator\n",
        "best_RF_model = grid_search_RF.best_estimator_\n",
        "\n",
        "print(best_RF_model)\n",
        "\n",
        "# See how well model works on train and test data:\n",
        "predictions_RF_train = best_RF_model.predict(X_train_fs)\n",
        "print(classification_report(Y_train, predictions_RF_train))\n",
        "\n",
        "roc_auc_RF_train = roc_auc_score(Y_train, predictions_RF_train)\n",
        "print('ROC AUC =', roc_auc_RF_train)\n",
        "accuracy_RF_train = accuracy_score(Y_train, predictions_RF_train)\n",
        "print('Accuracy =', accuracy_RF_train)\n",
        "\n",
        "predictions_RF_test = best_RF_model.predict(X_test_fs)\n",
        "print(classification_report(Y_test, predictions_RF_test))\n",
        "\n",
        "roc_auc_RF_test = roc_auc_score(Y_test, predictions_RF_test)\n",
        "print('ROC AUC =', roc_auc_RF_test)\n",
        "accuracy_RF_test = accuracy_score(Y_test, predictions_RF_test)\n",
        "print('Accuracy =', accuracy_RF_test)"
      ],
      "metadata": {
        "id": "KJxj9a1sT3In"
      },
      "execution_count": null,
      "outputs": []
    },
    {
      "cell_type": "markdown",
      "source": [
        "### Support Vector Machine"
      ],
      "metadata": {
        "id": "k0LOVQXyUA-W"
      }
    },
    {
      "cell_type": "code",
      "source": [
        "# Define the SVM model\n",
        "svm_model = svm.SVC(probability=True)\n",
        "\n",
        "# Define the parameter grid for SVM\n",
        "param_grid_svm = {\n",
        "    'C': [0.01, 0.5, 1 ],  # Regularization parameter\n",
        "    'gamma': ['scale', 'auto']  # Kernel coefficient\n",
        "}\n",
        "\n",
        "# Create the grid search object with ROC AUC scoring\n",
        "grid_search_svm = GridSearchCV(svm_model, param_grid_svm, cv=cv, scoring='roc_auc', error_score='raise')\n",
        "\n",
        "# Fit the grid search to the data\n",
        "grid_search_svm.fit(X_train_fs, Y_train)\n",
        "\n",
        "# Print the best parameters\n",
        "print(\"Best parameters found: \", grid_search_svm.best_params_)\n",
        "\n",
        "# Get the best estimator\n",
        "best_svm_model = grid_search_svm.best_estimator_\n",
        "\n",
        "print(best_svm_model)\n",
        "\n",
        "# See how well model works on train and test data\n",
        "predictions_svm_train = best_svm_model.predict(X_train_fs)\n",
        "print(classification_report(Y_train, predictions_svm_train))\n",
        "\n",
        "roc_auc_svm_train = roc_auc_score(Y_train, predictions_svm_train)\n",
        "print('ROC AUC =', roc_auc_svm_train)\n",
        "accuracy_svm_train = accuracy_score(Y_train, predictions_svm_train)\n",
        "print('Accuracy =', accuracy_svm_train)\n",
        "\n",
        "predictions_svm_test = best_svm_model.predict(X_test_fs)\n",
        "print(classification_report(Y_test, predictions_svm_test))\n",
        "\n",
        "roc_auc_svm_test = roc_auc_score(Y_test, predictions_svm_test)\n",
        "print('ROC AUC =', roc_auc_svm_test)\n",
        "accuracy_svm_test = accuracy_score(Y_test, predictions_svm_test)\n",
        "print('Accuracy =', accuracy_svm_test)"
      ],
      "metadata": {
        "id": "2AzjJ9b-UDhW"
      },
      "execution_count": null,
      "outputs": []
    }
  ],
  "metadata": {
    "colab": {
      "name": "assignment.ipynb",
      "provenance": []
    },
    "kernelspec": {
      "display_name": "Python 3",
      "language": "python",
      "name": "python3"
    },
    "language_info": {
      "codemirror_mode": {
        "name": "ipython",
        "version": 3
      },
      "file_extension": ".py",
      "mimetype": "text/x-python",
      "name": "python",
      "nbconvert_exporter": "python",
      "pygments_lexer": "ipython3",
      "version": "3.8.5"
    }
  },
  "nbformat": 4,
  "nbformat_minor": 0
}