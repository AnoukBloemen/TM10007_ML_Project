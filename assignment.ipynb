{
  "cells": [
    {
      "cell_type": "markdown",
      "metadata": {
        "id": "7SXpaKwwGe5x"
      },
      "source": [
        "# TM10007 Assignment template"
      ]
    },
    {
      "cell_type": "code",
      "execution_count": 6,
      "metadata": {
        "colab": {
          "base_uri": "https://localhost:8080/"
        },
        "id": "CiDn2Sk-VWqE",
        "outputId": "0484c129-1803-4a5a-f8be-3057910771bb"
      },
      "outputs": [
        {
          "output_type": "stream",
          "name": "stdout",
          "text": [
            "  Preparing metadata (setup.py) ... \u001b[?25l\u001b[?25hdone\n",
            "  Building wheel for ktml (setup.py) ... \u001b[?25l\u001b[?25hdone\n"
          ]
        }
      ],
      "source": [
        "# Run this to use from colab environment\n",
        "# !pip install -q --upgrade git+https://github.com/jveenland/tm10007_ml.git"
      ]
    },
    {
      "cell_type": "markdown",
      "source": [
        "## Importing packages"
      ],
      "metadata": {
        "id": "g1cum_GWnJzM"
      }
    },
    {
      "cell_type": "code",
      "source": [
        "# General packages\n",
        "import numpy as np\n",
        "import pandas as pd\n",
        "import matplotlib.pyplot as plt\n",
        "from sklearn import datasets as ds\n",
        "import seaborn\n",
        "\n",
        "# Classifiers\n",
        "from sklearn import model_selection\n",
        "from sklearn import metrics\n",
        "\n",
        "# Preprocessing steps\n",
        "from sklearn.impute import SimpleImputer\n",
        "from sklearn.preprocessing import StandardScaler\n",
        "from sklearn.decomposition import PCA\n",
        "from sklearn.pipeline import Pipeline"
      ],
      "metadata": {
        "id": "RPltM9lAmbIn"
      },
      "execution_count": 7,
      "outputs": []
    },
    {
      "cell_type": "markdown",
      "metadata": {
        "id": "bXiW521Kl09k"
      },
      "source": [
        "## Data loading and cleaning\n",
        "\n",
        "Below are functions to load the dataset of your choice. After that, it is all up to you to create and evaluate a classification method. Beware, there may be missing values in these datasets. Good luck!"
      ]
    },
    {
      "cell_type": "code",
      "execution_count": 8,
      "metadata": {
        "colab": {
          "base_uri": "https://localhost:8080/"
        },
        "id": "-NE_fTbKGe5z",
        "outputId": "1a9c608d-2672-4aac-8085-3bda97ca47cc"
      },
      "outputs": [
        {
          "output_type": "stream",
          "name": "stdout",
          "text": [
            "The number of samples: 115\n",
            "The number of columns: 494\n"
          ]
        }
      ],
      "source": [
        "## Data loading functions. Uncomment the one you want to use\n",
        "# from worcgist.load_data import load_dat\n",
        "from worclipo.load_data import load_data\n",
        "#from worcliver.load_data import load_data\n",
        "#from ecg.load_data import load_data\n",
        "\n",
        "data = load_data()\n",
        "print(f'The number of samples: {len(data.index)}')\n",
        "print(f'The number of columns: {len(data.columns)}')\n",
        "\n"
      ]
    },
    {
      "cell_type": "markdown",
      "source": [
        "# Plotting data in histogram\n",
        "To determine data distribution"
      ],
      "metadata": {
        "id": "pJBR7ywnn50T"
      }
    },
    {
      "cell_type": "code",
      "source": [
        "# if Gaussian distribution, take mean for filling empty cells (later in script)\n",
        "# if not Gaussion distribution (and outliers or skewed), take median for filling empty cells (later in script)\n",
        "\n",
        "plt.hist(data.iloc[:, 15], bins=30, edgecolor='k') # Change number of colum to see distribution\n",
        "plt.title('Distribution of Feature')\n",
        "plt.xlabel('Value')\n",
        "plt.ylabel('Frequency')\n",
        "plt.show()"
      ],
      "metadata": {
        "colab": {
          "base_uri": "https://localhost:8080/",
          "height": 472
        },
        "id": "Llz2aPWlneOo",
        "outputId": "4ed97ccf-2c5e-4808-8790-38fd7ff45f3c"
      },
      "execution_count": 13,
      "outputs": [
        {
          "output_type": "display_data",
          "data": {
            "text/plain": [
              "<Figure size 640x480 with 1 Axes>"
            ],
            "image/png": "[encoded data removed]"
          },
          "metadata": {}
        }
      ]
    },
    {
      "cell_type": "code",
      "source": [
        "print(data.head())"
      ],
      "metadata": {
        "colab": {
          "base_uri": "https://localhost:8080/"
        },
        "id": "oUn0-q7for8E",
        "outputId": "52871fac-c83a-4e65-c59e-2ad36ed896f3"
      },
      "execution_count": 10,
      "outputs": [
        {
          "output_type": "stream",
          "name": "stdout",
          "text": [
            "                  label  PREDICT_original_sf_compactness_avg_2.5D  \\\n",
            "ID                                                                  \n",
            "Lipo-001_0  liposarcoma                                  0.368434   \n",
            "Lipo-002_0  liposarcoma                                  0.660571   \n",
            "Lipo-003_0       lipoma                                  0.365191   \n",
            "Lipo-004_0  liposarcoma                                  0.372210   \n",
            "Lipo-005_0       lipoma                                  0.369120   \n",
            "\n",
            "            PREDICT_original_sf_compactness_std_2.5D  \\\n",
            "ID                                                     \n",
            "Lipo-001_0                                  0.262371   \n",
            "Lipo-002_0                                  0.179013   \n",
            "Lipo-003_0                                  0.157712   \n",
            "Lipo-004_0                                  0.169761   \n",
            "Lipo-005_0                                  0.167485   \n",
            "\n",
            "            PREDICT_original_sf_rad_dist_avg_2.5D  \\\n",
            "ID                                                  \n",
            "Lipo-001_0                              26.200395   \n",
            "Lipo-002_0                              55.155046   \n",
            "Lipo-003_0                              30.577026   \n",
            "Lipo-004_0                              94.006805   \n",
            "Lipo-005_0                              94.612701   \n",
            "\n",
            "            PREDICT_original_sf_rad_dist_std_2.5D  \\\n",
            "ID                                                  \n",
            "Lipo-001_0                               8.174390   \n",
            "Lipo-002_0                               9.318741   \n",
            "Lipo-003_0                               8.963647   \n",
            "Lipo-004_0                              33.512409   \n",
            "Lipo-005_0                              31.250821   \n",
            "\n",
            "            PREDICT_original_sf_roughness_avg_2.5D  \\\n",
            "ID                                                   \n",
            "Lipo-001_0                               20.940000   \n",
            "Lipo-002_0                                9.546044   \n",
            "Lipo-003_0                               17.695139   \n",
            "Lipo-004_0                               21.049148   \n",
            "Lipo-005_0                               17.059573   \n",
            "\n",
            "            PREDICT_original_sf_roughness_std_2.5D  \\\n",
            "ID                                                   \n",
            "Lipo-001_0                               13.551937   \n",
            "Lipo-002_0                                7.051937   \n",
            "Lipo-003_0                               10.772365   \n",
            "Lipo-004_0                               15.928362   \n",
            "Lipo-005_0                               15.239905   \n",
            "\n",
            "            PREDICT_original_sf_convexity_avg_2.5D  \\\n",
            "ID                                                   \n",
            "Lipo-001_0                                0.694139   \n",
            "Lipo-002_0                                0.871182   \n",
            "Lipo-003_0                                0.704710   \n",
            "Lipo-004_0                                0.754497   \n",
            "Lipo-005_0                                0.774545   \n",
            "\n",
            "            PREDICT_original_sf_convexity_std_2.5D  \\\n",
            "ID                                                   \n",
            "Lipo-001_0                                0.227848   \n",
            "Lipo-002_0                                0.125279   \n",
            "Lipo-003_0                                0.137529   \n",
            "Lipo-004_0                                0.186559   \n",
            "Lipo-005_0                                0.192922   \n",
            "\n",
            "            PREDICT_original_sf_cvar_avg_2.5D  ...  \\\n",
            "ID                                             ...   \n",
            "Lipo-001_0                           0.096312  ...   \n",
            "Lipo-002_0                           0.030465  ...   \n",
            "Lipo-003_0                           0.088020  ...   \n",
            "Lipo-004_0                           0.123775  ...   \n",
            "Lipo-005_0                           0.119364  ...   \n",
            "\n",
            "            PREDICT_original_phasef_phasesym_median_WL3_N5  \\\n",
            "ID                                                           \n",
            "Lipo-001_0                                        0.049726   \n",
            "Lipo-002_0                                        0.036186   \n",
            "Lipo-003_0                                        0.128167   \n",
            "Lipo-004_0                                        0.000000   \n",
            "Lipo-005_0                                        0.000000   \n",
            "\n",
            "            PREDICT_original_phasef_phasesym_std_WL3_N5  \\\n",
            "ID                                                        \n",
            "Lipo-001_0                                     0.196019   \n",
            "Lipo-002_0                                     0.167471   \n",
            "Lipo-003_0                                     0.220546   \n",
            "Lipo-004_0                                     0.107987   \n",
            "Lipo-005_0                                     0.087662   \n",
            "\n",
            "            PREDICT_original_phasef_phasesym_skewness_WL3_N5  \\\n",
            "ID                                                             \n",
            "Lipo-001_0                                          0.927821   \n",
            "Lipo-002_0                                          1.137972   \n",
            "Lipo-003_0                                          0.829650   \n",
            "Lipo-004_0                                          3.130011   \n",
            "Lipo-005_0                                          3.284943   \n",
            "\n",
            "            PREDICT_original_phasef_phasesym_kurtosis_WL3_N5  \\\n",
            "ID                                                             \n",
            "Lipo-001_0                                         -0.407270   \n",
            "Lipo-002_0                                          0.411968   \n",
            "Lipo-003_0                                         -0.520344   \n",
            "Lipo-004_0                                         10.399652   \n",
            "Lipo-005_0                                         11.840826   \n",
            "\n",
            "            PREDICT_original_phasef_phasesym_peak_WL3_N5  \\\n",
            "ID                                                         \n",
            "Lipo-001_0                                           0.0   \n",
            "Lipo-002_0                                           0.0   \n",
            "Lipo-003_0                                           0.0   \n",
            "Lipo-004_0                                           0.0   \n",
            "Lipo-005_0                                           0.0   \n",
            "\n",
            "            PREDICT_original_phasef_phasesym_peak_position_WL3_N5  \\\n",
            "ID                                                                  \n",
            "Lipo-001_0                                                  0       \n",
            "Lipo-002_0                                                  0       \n",
            "Lipo-003_0                                                  0       \n",
            "Lipo-004_0                                                  0       \n",
            "Lipo-005_0                                                  0       \n",
            "\n",
            "            PREDICT_original_phasef_phasesym_range_WL3_N5  \\\n",
            "ID                                                          \n",
            "Lipo-001_0                                       0.625304   \n",
            "Lipo-002_0                                       0.563659   \n",
            "Lipo-003_0                                       0.705679   \n",
            "Lipo-004_0                                       0.438399   \n",
            "Lipo-005_0                                       0.356330   \n",
            "\n",
            "            PREDICT_original_phasef_phasesym_energy_WL3_N5  \\\n",
            "ID                                                           \n",
            "Lipo-001_0                                     3238.304991   \n",
            "Lipo-002_0                                    15364.724390   \n",
            "Lipo-003_0                                     3771.798158   \n",
            "Lipo-004_0                                     4707.658397   \n",
            "Lipo-005_0                                     6171.440113   \n",
            "\n",
            "            PREDICT_original_phasef_phasesym_quartile_range_WL3_N5  \\\n",
            "ID                                                                   \n",
            "Lipo-001_0                                           0.315148        \n",
            "Lipo-002_0                                           0.251255        \n",
            "Lipo-003_0                                           0.369366        \n",
            "Lipo-004_0                                           0.000000        \n",
            "Lipo-005_0                                           0.000000        \n",
            "\n",
            "            PREDICT_original_phasef_phasesym_entropy_WL3_N5  \n",
            "ID                                                           \n",
            "Lipo-001_0                                        14.462361  \n",
            "Lipo-002_0                                        17.170274  \n",
            "Lipo-003_0                                        14.394812  \n",
            "Lipo-004_0                                        15.733482  \n",
            "Lipo-005_0                                        16.682154  \n",
            "\n",
            "[5 rows x 494 columns]\n"
          ]
        }
      ]
    },
    {
      "cell_type": "markdown",
      "source": [
        "# Inspecting data"
      ],
      "metadata": {
        "id": "7afe2lGEowDL"
      }
    },
    {
      "cell_type": "code",
      "source": [
        "## uncomment following lines to print different info\n",
        "# print(data.head())\n",
        "# print(data.info())\n",
        "# print(data.describe()) # Gives 8 metrics per column [8x494]\n",
        "\n",
        "# Check missing values\n",
        "missing_values = data.isnull().sum()\n",
        "print(missing_values[missing_values > 0])\n",
        "\n",
        "# Pipeline for numerical features\n",
        "numeric_transformer = Pipeline(steps=[\n",
        "    ('imputer', SimpleImputer(strategy='median')),  # Impute missing values\n",
        "    ('scaler', StandardScaler()),  # Scale features\n",
        "    ('pca', PCA(n_components=0.95))  # Reduce dimensionality (nog kijken welke waarden)\n",
        "])\n",
        "\n",
        "# Apply the transformation to the feature set (excluding the label column)\n",
        "X = data.drop('label', axis=1) # haal kolom van label eraf\n",
        "Y = data['label'] # voor y neem je alleen kolom met label\n",
        "\n",
        "X_preprocessed = numeric_transformer.fit_transform(X)\n",
        "print(X_preprocessed)\n"
      ],
      "metadata": {
        "colab": {
          "base_uri": "https://localhost:8080/"
        },
        "id": "hPPAXQVpovws",
        "outputId": "119630fc-8e38-4a93-86f7-b526e230cf6c"
      },
      "execution_count": 11,
      "outputs": [
        {
          "output_type": "stream",
          "name": "stdout",
          "text": [
            "Series([], dtype: int64)\n",
            "[[  3.69308699  10.49965385   8.12652172 ...  -0.14012688  -0.18474327\n",
            "    1.24139976]\n",
            " [ -4.56127894   2.81882473  -7.840514   ...   1.63287141   1.38134925\n",
            "   -1.52803909]\n",
            " [ -0.74152394   8.56443472   0.86427269 ...   0.10569603   1.22296131\n",
            "   -0.7835249 ]\n",
            " ...\n",
            " [ -4.07252116   3.20510508   7.39819921 ...  -0.56923872  -0.41247159\n",
            "   -2.87638164]\n",
            " [  2.92986516  -5.37845493   7.16185485 ...   1.10432961  -0.65658447\n",
            "    1.31493125]\n",
            " [-11.36513284 -13.00480223  -7.77865287 ...   1.82404703   0.12141449\n",
            "   -1.78605994]]\n"
          ]
        }
      ]
    }
  ],
  "metadata": {
    "colab": {
      "name": "assignment.ipynb",
      "provenance": []
    },
    "kernelspec": {
      "display_name": "Python 3",
      "language": "python",
      "name": "python3"
    },
    "language_info": {
      "codemirror_mode": {
        "name": "ipython",
        "version": 3
      },
      "file_extension": ".py",
      "mimetype": "text/x-python",
      "name": "python",
      "nbconvert_exporter": "python",
      "pygments_lexer": "ipython3",
      "version": "3.8.5"
    }
  },
  "nbformat": 4,
  "nbformat_minor": 0
}