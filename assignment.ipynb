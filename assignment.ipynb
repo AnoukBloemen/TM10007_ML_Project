{
  "cells": [
    {
      "cell_type": "markdown",
      "metadata": {
        "id": "7SXpaKwwGe5x"
      },
      "source": [
        "# TM10007 Assignment template"
      ]
    },
    {
      "cell_type": "code",
      "execution_count": null,
      "metadata": {
        "id": "CiDn2Sk-VWqE",
        "colab": {
          "base_uri": "https://localhost:8080/"
        },
        "outputId": "ce8aa80d-17e2-4b89-8e93-e9c6fa07d60b"
      },
      "outputs": [
        {
          "output_type": "stream",
          "name": "stdout",
          "text": [
            "  Preparing metadata (setup.py) ... \u001b[?25l\u001b[?25hdone\n",
            "  Building wheel for ktml (setup.py) ... \u001b[?25l\u001b[?25hdone\n"
          ]
        }
      ],
      "source": [
        "# Run this to use from colab environment\n",
        "!pip install -q --upgrade git+https://github.com/jveenland/tm10007_ml.git"
      ]
    },
    {
      "cell_type": "markdown",
      "source": [
        "# Importing packages"
      ],
      "metadata": {
        "id": "g1cum_GWnJzM"
      }
    },
    {
      "cell_type": "code",
      "source": [
        "# General packages\n",
        "import numpy as np\n",
        "import pandas as pd\n",
        "import matplotlib.pyplot as plt\n",
        "from sklearn import datasets as ds\n",
        "import seaborn\n",
        "\n",
        "# Classifiers\n",
        "from sklearn import model_selection\n",
        "from sklearn import metrics\n",
        "from sklearn.ensemble import RandomForestClassifier\n",
        "from sklearn.neighbors import KNeighborsClassifier\n",
        "from sklearn import svm\n",
        "\n",
        "# Scoring methods\n",
        "from sklearn.model_selection import GridSearchCV, cross_val_score\n",
        "from sklearn.metrics import roc_auc_score, accuracy_score, classification_report\n",
        "\n",
        "# Preprocessing steps\n",
        "from sklearn.impute import SimpleImputer\n",
        "from sklearn.decomposition import PCA\n",
        "from sklearn.pipeline import Pipeline\n",
        "from scipy.stats import shapiro\n",
        "from sklearn.preprocessing import StandardScaler\n",
        "from sklearn.preprocessing import MinMaxScaler\n",
        "from sklearn.preprocessing import RobustScaler\n",
        "\n",
        "# Feature selection\n",
        "from sklearn.feature_selection import SelectKBest, f_classif, VarianceThreshold\n",
        "from sklearn.linear_model import LogisticRegression\n",
        "from sklearn.model_selection import StratifiedKFold\n",
        "from sklearn import decomposition\n",
        "\n",
        "# Visualisation\n",
        "from sklearn.metrics import roc_curve, auc\n",
        "from sklearn.model_selection import learning_curve"
      ],
      "metadata": {
        "id": "RPltM9lAmbIn"
      },
      "execution_count": null,
      "outputs": []
    },
    {
      "cell_type": "markdown",
      "metadata": {
        "id": "bXiW521Kl09k"
      },
      "source": [
        "# Data loading and cleaning\n",
        "\n",
        "Below are functions to load the dataset of your choice. After that, it is all up to you to create and evaluate a classification method. Beware, there may be missing values in these datasets. Good luck!"
      ]
    },
    {
      "cell_type": "code",
      "execution_count": null,
      "metadata": {
        "colab": {
          "base_uri": "https://localhost:8080/"
        },
        "id": "-NE_fTbKGe5z",
        "outputId": "ce56bc18-10c7-4f3e-882e-9d7d0b9c74dc"
      },
      "outputs": [
        {
          "output_type": "stream",
          "name": "stdout",
          "text": [
            "The number of samples: 115\n",
            "The number of columns: 494\n"
          ]
        }
      ],
      "source": [
        "## Data loading functions. Uncomment the one you want to use\n",
        "from worclipo.load_data import load_data\n",
        "\n",
        "data = load_data()\n",
        "print(f'The number of samples: {len(data.index)}')\n",
        "print(f'The number of columns: {len(data.columns)}')"
      ]
    },
    {
      "cell_type": "markdown",
      "source": [
        "## Creating a split in the data\n",
        "\n",
        "A training and test set are created. The training set will be used to fit the classifier, while the test set is remained untouched until it is used for testing the trained classifier.\n",
        "\n",
        "Split is stratified so labels are present in both sets in same proportions."
      ],
      "metadata": {
        "id": "EnN20JHuvvaq"
      }
    },
    {
      "cell_type": "code",
      "source": [
        "# Extract columns with labels\n",
        "Y = data.pop('label').replace({'lipoma':0, 'liposarcoma':1}) #moeten we misschien nog ook de ID poppen?\n",
        "print(f'The proportion of the labels is: {sum(Y)/len(Y)}')\n",
        "\n",
        "# Extract the rest of the data (without the labels)\n",
        "X = data\n",
        "X_train, X_test, Y_train, Y_test = model_selection.train_test_split(X, Y, test_size=0.2, stratify=Y)\n",
        "\n",
        "print(f'Size of training set: {X_train.shape}')\n",
        "print(f'Size of test set: {X_test.shape}')"
      ],
      "metadata": {
        "id": "qTjJAJ-7vtzg",
        "outputId": "6b56ac12-d27e-4a59-ae33-f8b8f20cb6f2",
        "colab": {
          "base_uri": "https://localhost:8080/"
        }
      },
      "execution_count": null,
      "outputs": [
        {
          "output_type": "stream",
          "name": "stdout",
          "text": [
            "The proportion of the labels is: 0.5043478260869565\n",
            "Size of training set: (92, 493)\n",
            "Size of test set: (23, 493)\n"
          ]
        }
      ]
    },
    {
      "cell_type": "markdown",
      "source": [
        "## Inspecting distribution of features\n",
        "To determine data distribution of train set"
      ],
      "metadata": {
        "id": "pJBR7ywnn50T"
      }
    },
    {
      "cell_type": "markdown",
      "source": [
        "### Visually inspect distribution of features"
      ],
      "metadata": {
        "id": "q7JVrtMS2mih"
      }
    },
    {
      "cell_type": "code",
      "source": [
        "## UITEINDELIJK WEGHALEN DIT!!\n",
        "\n",
        "#Check if Gaussian distribution per column\n",
        "# if Gaussian distribution, take mean for filling empty cells (later in script)\n",
        "# if not Gaussion distribution (and outliers or skewed), take median for filling empty cells (later in script)\n",
        "\n",
        "# plt.hist(X_train.iloc[:, 15], bins=30, edgecolor='k') # Change number of colum to see distribution (between width dataframe)\n",
        "plt.hist(X_train['PREDICT_original_tf_Gabor_entropy_F0.2_A1.57'], bins=30, edgecolor='k') # Change number of colum to see distribution (between width dataframe)\n",
        "\n",
        "\n",
        "plt.title('Distribution of Feature')\n",
        "plt.xlabel('Value')\n",
        "plt.ylabel('Frequency')\n",
        "plt.show()\n",
        "\n",
        "# print(X_train.head())"
      ],
      "metadata": {
        "colab": {
          "base_uri": "https://localhost:8080/",
          "height": 472
        },
        "id": "Llz2aPWlneOo",
        "outputId": "e2014bc9-2139-43d8-ef4f-7acfb7cf78b5"
      },
      "execution_count": null,
      "outputs": [
        {
          "output_type": "display_data",
          "data": {
            "text/plain": [
              "<Figure size 640x480 with 1 Axes>"
            ],
            "image/png": "[encoded data removed]"
          },
          "metadata": {}
        }
      ]
    },
    {
      "cell_type": "markdown",
      "source": [
        "## Preprocessing Data"
      ],
      "metadata": {
        "id": "cL18MbR93P-I"
      }
    },
    {
      "cell_type": "markdown",
      "source": [
        "### Missing Values\n",
        "Determining cells with missing values and filling these"
      ],
      "metadata": {
        "id": "U8-WunWt4Q6p"
      }
    },
    {
      "cell_type": "code",
      "source": [
        "# Filling missing values with correct value based on type of distribution per column\n",
        "\n",
        "alpha = 0.05\n",
        "normal_distributed_columns_count_train = 0\n",
        "not_normal_distributed_columns_count_train = 0\n",
        "nans_found_in_column_count_train = 0\n",
        "\n",
        "\n",
        "# Checking and filling missing for train\n",
        "for column in X_train:\n",
        "    if X_train[column].min() != X_train[column].max():\n",
        "        stat, p = shapiro(X_train[column].dropna())\n",
        "        if p > alpha:\n",
        "            normal_distributed_columns_count_train += 1\n",
        "            if X_train[column].isna().sum() > 0:\n",
        "                X_train[column].fillna(X_train[column].mean(), inplace=True)\n",
        "                nans_found_in_column_count_train += 1\n",
        "        else:\n",
        "            not_normal_distributed_columns_count_train += 1\n",
        "            if X_train[column].isna().sum() > 0:\n",
        "                X_train[column].fillna(X_train[column].median(), inplace=True)\n",
        "                nans_found_in_column_count_train += 1\n",
        "\n",
        "print(f'The number of normal distributed columns in train set is : {normal_distributed_columns_count_train}')\n",
        "print(f'The number of not normal distributed columns in train set is: {not_normal_distributed_columns_count_train}')\n",
        "print(f'The number of columns in train set where nans were filled: {nans_found_in_column_count_train}')\n",
        "print()\n",
        "\n",
        "# Checking and filling missing for test set\n",
        "normal_distributed_columns_count_test = 0\n",
        "not_normal_distributed_columns_count_test = 0\n",
        "nans_found_in_column_count_test = 0\n",
        "\n",
        "for column in X_test:\n",
        "    if X_test[column].min() != X_test[column].max():\n",
        "        stat, p = shapiro(X_test[column].dropna())\n",
        "        if p > alpha:\n",
        "            normal_distributed_columns_count_test += 1\n",
        "            if X_test[column].isna().sum() > 0:\n",
        "                X_test[column].fillna(X_train[column].mean(), inplace=True)\n",
        "                nans_found_in_column_count_test += 1\n",
        "        else:\n",
        "            not_normal_distributed_columns_count_test += 1\n",
        "            if X_test[column].isna().sum() > 0:\n",
        "                X_test[column].fillna(X_train[column].median(), inplace=True)\n",
        "                nans_found_in_column_count_test += 1\n",
        "\n",
        "print(f'The number of normal distributed columns in test set is : {normal_distributed_columns_count_test}')\n",
        "print(f'The number of not normal distributed columns in test set is: {not_normal_distributed_columns_count_test}')\n",
        "print(f'The number of columns in test set where nans were filled: {nans_found_in_column_count_test}')"
      ],
      "metadata": {
        "id": "CpaHZZda6SE1",
        "outputId": "d2d3e064-7cdd-4709-afd7-e3036784e8bf",
        "colab": {
          "base_uri": "https://localhost:8080/"
        }
      },
      "execution_count": null,
      "outputs": [
        {
          "output_type": "stream",
          "name": "stdout",
          "text": [
            "The number of normal distributed columns is: 90\n",
            "The number of not normal distributed columns is: 403\n",
            "The number of columns where nans were filled: 0\n"
          ]
        },
        {
          "output_type": "stream",
          "name": "stderr",
          "text": [
            "/usr/local/lib/python3.10/dist-packages/scipy/stats/_morestats.py:1879: UserWarning: Input data for shapiro has range zero. The results may not be accurate.\n",
            "  warnings.warn(\"Input data for shapiro has range zero. The results \"\n"
          ]
        }
      ]
    },
    {
      "cell_type": "markdown",
      "source": [
        "### Feature Scaling\n",
        "Scale features in Train set"
      ],
      "metadata": {
        "id": "ZB1ABL14902-"
      }
    },
    {
      "cell_type": "markdown",
      "source": [
        "#### Motivation of chosen scaler"
      ],
      "metadata": {
        "id": "fAtSOQHKkYAE"
      }
    },
    {
      "cell_type": "code",
      "source": [
        "# Calculating prescence and number of outliers\n",
        "columns_many_outliers_count = 0\n",
        "\n",
        "for column in X_train:\n",
        "    Q1 = X_train[column].quantile(0.25)\n",
        "    Q3 = X_train[column].quantile(0.75)\n",
        "    IQR = Q3 - Q1\n",
        "\n",
        "    outliers = X_train[(X_train[column] < (Q1 - 1.5 * IQR)) | (X_train[column] > (Q3 + 1.5 * IQR))]\n",
        "    outliers_count = outliers.shape[0]\n",
        "\n",
        "    if outliers_count > 0.05 * X_train.shape[0]:\n",
        "        columns_many_outliers_count += 1\n",
        "\n",
        "perc_columns_many_outliers = (columns_many_outliers_count / len(X_train.columns))*100\n",
        "print(f\"Number of columns with many outliers: {columns_many_outliers_count}/{len(X_train.columns)} = {perc_columns_many_outliers:.2f}%\")"
      ],
      "metadata": {
        "id": "L5ePShRwmJrY",
        "outputId": "1e1a1c98-2a4b-4f2a-970d-5a4554bd1907",
        "colab": {
          "base_uri": "https://localhost:8080/"
        }
      },
      "execution_count": null,
      "outputs": [
        {
          "output_type": "stream",
          "name": "stdout",
          "text": [
            "Number of columns with many outliers: 191/493\n"
          ]
        }
      ]
    },
    {
      "cell_type": "markdown",
      "source": [
        "#### Scaling the data"
      ],
      "metadata": {
        "id": "oS7Re7CSkiMx"
      }
    },
    {
      "cell_type": "code",
      "source": [
        "scaler = RobustScaler()\n",
        "scaler.fit(X_train) # Fit scaler on training set\n",
        "\n",
        "# Transform train and test set using scaler\n",
        "X_train_sc = (scaler.transform(X_train))\n",
        "X_test_sc = scaler.transform(X_test)\n",
        "\n",
        "X_train_sc = pd.DataFrame(X_train_sc)\n",
        "X_test_sc = pd.DataFrame(X_test_sc)"
      ],
      "metadata": {
        "id": "vR4vx1oJoZBn"
      },
      "execution_count": null,
      "outputs": []
    },
    {
      "cell_type": "markdown",
      "source": [
        "# Inspecting data"
      ],
      "metadata": {
        "id": "7afe2lGEowDL"
      }
    },
    {
      "cell_type": "markdown",
      "source": [
        "### Feature selection and extraction"
      ],
      "metadata": {
        "id": "bTxLT12kH1u5"
      }
    },
    {
      "cell_type": "code",
      "source": [
        "# Determining features with zero variance and removing these\n",
        "selector = VarianceThreshold(threshold=0)\n",
        "vs_fit = selector.fit(X_train_sc)\n",
        "\n",
        "X_train_zv = vs_fit.transform(X_train_sc)\n",
        "X_test_zv = vs_fit.transform(X_test_sc)\n",
        "\n",
        "# Willen we dit nou van train of test set weten?\n",
        "print(f'Amount of features with zero variance: {X_train_sc.shape[1]-X_train_zv.shape[1]}')\n",
        "print(f'Amount of features after removing features with zero variance: {X_train_zv.shape[1]}')"
      ],
      "metadata": {
        "id": "isFVugQAoGXH",
        "outputId": "e60c9d56-bc3e-4e10-dac0-5770617fc107",
        "colab": {
          "base_uri": "https://localhost:8080/"
        }
      },
      "execution_count": null,
      "outputs": [
        {
          "output_type": "stream",
          "name": "stdout",
          "text": [
            "Amount of features with zero variance: 22\n",
            "Amount of features after removing features with zero variance: 471\n"
          ]
        }
      ]
    },
    {
      "cell_type": "code",
      "source": [
        "# Evaluating performance of selectkbest feature selection on data set\n",
        "\n",
        "kf = StratifiedKFold(n_splits=10)\n",
        "k_values = range(1, 11)\n",
        "average_accuracies = []\n",
        "std_accuracies = []\n",
        "\n",
        "for k in k_values:\n",
        "\n",
        "    # Select K-best features\n",
        "    selector = SelectKBest(f_classif, k=k)\n",
        "    X_train_select = selector.fit_transform(X_train_zv, Y_train)\n",
        "    accuracies = []\n",
        "\n",
        "    # 10-fold cross-validation\n",
        "    for train_index, test_index in kf.split(X_train_select, Y_train):\n",
        "\n",
        "        X_fold_train, X_fold_test = X_train_select[train_index], X_train_select[test_index]\n",
        "        y_fold_train, y_fold_test = Y_train.iloc[train_index], Y_train.iloc[test_index]\n",
        "\n",
        "        # Train kNN-model\n",
        "        knn_model = KNeighborsClassifier()\n",
        "        knn_model.fit(X_fold_train, y_fold_train)\n",
        "\n",
        "        # Predict and evaluate accuracy\n",
        "        predictions = knn_model.predict(X_fold_test)\n",
        "        accuracy = accuracy_score(y_fold_test, predictions)\n",
        "        accuracies.append(accuracy)\n",
        "\n",
        "    # Calculating average accuracy for current k-number\n",
        "    average_accuracy = np.mean(accuracies)\n",
        "    average_accuracies.append(average_accuracy)\n",
        "\n",
        "    # Calculating standard deviation accuracy for current k-number\n",
        "    std_accuracy = np.std(accuracies)\n",
        "    std_accuracies.append(std_accuracy)\n",
        "\n",
        "    print(f\"For k={k} average accuracy is {average_accuracy:.3f} and standard deviation is {std_accuracy:.3f}\")\n",
        "\n",
        "upper_bound = np.array(average_accuracies) + np.array(std_accuracies)\n",
        "lower_bound = np.array(average_accuracies) - np.array(std_accuracies)\n",
        "\n",
        "plt.figure(figsize=(10,6))\n",
        "plt.plot(list(k_values), average_accuracies, marker='o', linestyle='-', color='blue', label='Average accuracy')\n",
        "plt.fill_between(list(k_values), upper_bound, lower_bound, label='Standard deviation of accuracy')\n",
        "plt.title('Average accuracy vs no. of K-features for K-Best')\n",
        "plt.xlabel('No. of features')\n",
        "plt.ylabel('Average accuracy')\n",
        "plt.grid(True)\n",
        "plt.xticks(list(k_values))\n",
        "plt.legend()\n",
        "plt.show()\n"
      ],
      "metadata": {
        "id": "pY2smu5SH9NH",
        "colab": {
          "base_uri": "https://localhost:8080/"
        },
        "outputId": "c5ce636c-8220-474f-aedc-53c8f5369057"
      },
      "execution_count": null,
      "outputs": [
        {
          "output_type": "stream",
          "name": "stdout",
          "text": [
            "(92, 5)\n",
            "(23, 5)\n"
          ]
        }
      ]
    },
    {
      "cell_type": "code",
      "source": [
        "# Evaluating performance of PCA on dataset\n",
        "\n",
        "skf = StratifiedKFold(n_splits=10, shuffle=True, random_state=42)\n",
        "components = range(1, 11)\n",
        "average_accuracies = []\n",
        "std_accuracies = []\n",
        "plot_proberen = []\n",
        "\n",
        "for n_components in components:\n",
        "    pca = PCA(n_components=n_components)\n",
        "    X_train_pca = pca.fit_transform(X_train_zv)\n",
        "    variance = pca.explained_variance_ratio_\n",
        "\n",
        "    if n_components == 2:\n",
        "        plot_proberen.append(X_train_pca)\n",
        "\n",
        "    accuracies = []\n",
        "\n",
        "    for train_index, test_index in skf.split(X_train_pca, Y_train):\n",
        "        X_fold_train, X_fold_test = X_train_pca[train_index], X_train_pca[test_index]\n",
        "        y_fold_train, y_fold_test = Y_train.iloc[train_index], Y_train.iloc[test_index]\n",
        "\n",
        "        knn_model = KNeighborsClassifier()\n",
        "        knn_model.fit(X_fold_train, y_fold_train)\n",
        "\n",
        "        predictions = knn_model.predict(X_fold_test)\n",
        "        accuracy = accuracy_score(y_fold_test, predictions)\n",
        "        accuracies.append(accuracy)\n",
        "\n",
        "    average_accuracy = np.mean(accuracies)\n",
        "    average_accuracies.append(average_accuracy)\n",
        "    std_dev = np.std(accuracies)\n",
        "    std_accuracies.append(std_dev)\n",
        "\n",
        "    print(f\"n-components = {n_components}, average accuracy = {average_accuracy:.3f} with std dev = {std_dev:.3f}\")\n",
        "\n",
        "print(f'Explained variance for the first element {variance[0]}')\n",
        "\n",
        "upper_bound = np.array(average_accuracies) + np.array(std_accuracies)\n",
        "lower_bound = np.array(average_accuracies) - np.array(std_accuracies)\n",
        "\n",
        "plt.figure(figsize=(10, 6))\n",
        "plt.plot(list(components), average_accuracies, marker='o', linestyle='-', color='blue', label='Average accuracy')\n",
        "plt.fill_between(list(components), upper_bound, lower_bound, label='Standard deviation')\n",
        "plt.title('Average accuracy vs no. of components for PCA')\n",
        "plt.xlabel('No. of components')\n",
        "plt.ylabel('Average accuracy')\n",
        "plt.grid(True)\n",
        "plt.xticks(list(components))\n",
        "plt.legend()\n",
        "plt.show()"
      ],
      "metadata": {
        "id": "1HlXchplsHTo"
      },
      "execution_count": null,
      "outputs": []
    },
    {
      "cell_type": "code",
      "source": [
        "# Applying dimensionality reduction technique with best performance on dataset\n",
        "print(X_train_zv.shape)\n",
        "print(X_test_zv.shape)\n",
        "\n",
        "selector_fs = SelectKBest(f_classif, k=2) #dit veranderen ahv plot\n",
        "\n",
        "fitted_kbest = selector_fs.fit(X_train_zv, Y_train)\n",
        "\n",
        "X_train_fs = fitted_kbest.transform(X_train_zv)\n",
        "X_test_fs = fitted_kbest.transform(X_test_zv)\n",
        "\n",
        "print(X_train_fs.shape)\n",
        "print(X_test_fs.shape)\n",
        "\n",
        "feature1 = X_train_fs[:, 0]\n",
        "feature2 = X_train_fs[:, 1]\n",
        "\n",
        "plt.figure(figsize=(8, 6))\n",
        "plt.scatter(feature1, feature2, c=Y_train, cmap='viridis', alpha=0.7)\n",
        "plt.colorbar(label='Target')\n",
        "plt.xlabel('Feature 1')\n",
        "plt.ylabel('Feature 2')\n",
        "plt.title('Scatter Plot of Selected Features')\n",
        "plt.grid(True)\n",
        "plt.show()"
      ],
      "metadata": {
        "id": "faErTr4ro3BA"
      },
      "execution_count": null,
      "outputs": []
    },
    {
      "cell_type": "markdown",
      "source": [
        "# Classifiers"
      ],
      "metadata": {
        "id": "NqoGUPrpTjMS"
      }
    },
    {
      "cell_type": "code",
      "source": [
        "def plot_learning_curve(estimator, title, X, Y, axes, ylim=None, cv=None,\n",
        "                        n_jobs=None, train_sizes=np.linspace(.1, 1.0, 5)):\n",
        "    '''plotting learning curve'''\n",
        "\n",
        "    axes.set_title(title)\n",
        "    if ylim is not None:\n",
        "        axes.set_ylim(*ylim)\n",
        "    axes.set_xlabel(\"Training examples\")\n",
        "    axes.set_ylabel(\"Score\")\n",
        "\n",
        "    train_sizes, train_scores, test_scores  = \\\n",
        "        learning_curve(estimator, X, Y, cv=cv, n_jobs=n_jobs,\n",
        "                       train_sizes=train_sizes, scoring = 'roc_auc')\n",
        "    train_scores_mean = np.mean(train_scores, axis=1)\n",
        "    train_scores_std = np.std(train_scores, axis=1)\n",
        "    test_scores_mean = np.mean(test_scores, axis=1)\n",
        "    test_scores_std = np.std(test_scores, axis=1)\n",
        "\n",
        "    # Plot learning curve\n",
        "    axes.grid()\n",
        "    axes.fill_between(train_sizes, train_scores_mean - train_scores_std,\n",
        "                         train_scores_mean + train_scores_std, alpha=0.1,\n",
        "                         color=\"r\")\n",
        "    axes.fill_between(train_sizes, test_scores_mean - test_scores_std,\n",
        "                         test_scores_mean + test_scores_std, alpha=0.1,\n",
        "                         color=\"g\")\n",
        "    axes.plot(train_sizes, train_scores_mean, 'o-', color=\"r\",\n",
        "                 label=\"Training score\")\n",
        "    axes.plot(train_sizes, test_scores_mean, 'o-', color=\"g\",\n",
        "                 label=\"Cross-validation score\")\n",
        "    axes.legend(loc=\"lower center\")\n",
        "\n",
        "    return plt"
      ],
      "metadata": {
        "id": "RKn4Kt6zjDjV"
      },
      "execution_count": null,
      "outputs": []
    },
    {
      "cell_type": "markdown",
      "source": [
        "### KNN"
      ],
      "metadata": {
        "id": "9pY9Z5AwTk4w"
      }
    },
    {
      "cell_type": "code",
      "source": [
        "# Define cv and knn classifier\n",
        "cv_knn = 6\n",
        "knn_model = KNeighborsClassifier()\n",
        "\n",
        "# Define range for n neighbours to be max the size of one split\n",
        "max_n_neighbors = len(X_train_fs) // cv_knn - 1\n",
        "print(\"Max number of neighbors:\", max_n_neighbors)\n",
        "\n",
        "# Define the parameter grid\n",
        "param_grid_knn = {\n",
        "    'n_neighbors': list(range(1, max_n_neighbors, 2)),\n",
        "    'weights': ['uniform', 'distance'],\n",
        "    'p': [1, 2]  # p=1 for Manhattan distance, p=2 for Euclidean distance\n",
        "}\n",
        "\n",
        "# Create the grid search object with ROC AUC scoring\n",
        "grid_search_knn = GridSearchCV(knn_model, param_grid_knn, cv=cv_knn, scoring='roc_auc')\n",
        "\n",
        "# Fit the grid search to the data\n",
        "grid_search_knn.fit(X_train_fs, Y_train)\n",
        "\n",
        "# Print the best parameters\n",
        "print(\"Best parameters found: \", grid_search_knn.best_params_)\n",
        "\n",
        "# Get the best estimator\n",
        "best_knn_model = grid_search_knn.best_estimator_\n",
        "print(f'Best estimator: {best_knn_model}')\n",
        "\n",
        "# See how well model works on train data:\n",
        "pred_knn_train = best_knn_model.predict(X_train_fs)\n",
        "pred_proba_knn_train = best_knn_model.predict_proba(X_train_fs)[:,1]\n",
        "\n",
        "roc_auc_knn_train = roc_auc_score(Y_train, pred_proba_knn_train)\n",
        "print('ROC AUC train =', roc_auc_knn_train)\n",
        "accuracy_knn_train = accuracy_score(Y_train, pred_knn_train)\n",
        "print('Accuracy train =', accuracy_knn_train)\n",
        "\n",
        "# See how well model works on test data:\n",
        "pred_knn_test = best_knn_model.predict(X_test_fs)\n",
        "pred_proba_knn_test = best_knn_model.predict_proba(X_test_fs)[:,1]\n",
        "\n",
        "roc_auc_knn_test = roc_auc_score(Y_test, pred_proba_knn_test)\n",
        "print('ROC AUC test =', roc_auc_knn_test)\n",
        "accuracy_knn_test = accuracy_score(Y_test, pred_knn_test)\n",
        "print('Accuracy test =', accuracy_knn_test)"
      ],
      "metadata": {
        "id": "KSjGJIfWTmUX",
        "outputId": "5f31fa95-b932-464e-8397-d92f88e0bd82",
        "colab": {
          "base_uri": "https://localhost:8080/"
        }
      },
      "execution_count": null,
      "outputs": [
        {
          "output_type": "stream",
          "name": "stdout",
          "text": [
            "Max number of neighbors: 14\n",
            "Best parameters found:  {'n_neighbors': 11, 'p': 1, 'weights': 'distance'}\n",
            "Best estimator: KNeighborsClassifier(n_neighbors=11, p=1, weights='distance')\n",
            "ROC AUC train = 1.0\n",
            "Accuracy train = 1.0\n",
            "ROC AUC test = 0.8863636363636364\n",
            "Accuracy test = 0.7391304347826086\n"
          ]
        }
      ]
    },
    {
      "cell_type": "markdown",
      "source": [
        "### Random forest"
      ],
      "metadata": {
        "id": "Czr39UJNT1l-"
      }
    },
    {
      "cell_type": "code",
      "source": [
        "# Visualise the effect of n_estimators\n",
        "roc_auc_scores = []\n",
        "\n",
        "for k in range(1, 100):\n",
        "    rf_model = RandomForestClassifier(n_estimators=k)\n",
        "    rf_model.fit(X_train_fs, Y_train)\n",
        "\n",
        "    pred_proba_RF_test =rf_model.predict_proba(X_test_fs)[:,1]\n",
        "    roc_auc_RF_test = roc_auc_score(Y_test, pred_proba_RF_test)\n",
        "    roc_auc_scores.append(roc_auc_RF_test)\n",
        "\n",
        "# Plot the relationship between K and testing roc auc\n",
        "fig = plt.figure(figsize=(15,4))\n",
        "ax = fig.add_subplot(1, 2, 1)\n",
        "plt.plot(range(1, 100), roc_auc_scores)\n",
        "plt.xlabel('Value of n_estimators for Random Forest Classifier')\n",
        "plt.ylabel('ROC AUC')\n",
        "\n",
        "# Find the index of the (first) maximum ROC AUC score\n",
        "max_roc_auc_index = np.argmax(roc_auc_scores)\n",
        "\n",
        "# Find the maximum ROC AUC score and its corresponding n_estimators\n",
        "max_roc_auc = roc_auc_scores[max_roc_auc_index]\n",
        "best_n_estimators_roc_auc = max_roc_auc_index + 1  # Adding 1 to convert index to n_estimators value\n",
        "\n",
        "# Print the results\n",
        "print(\"Maximum ROC AUC:\", max_roc_auc, \"at n_estimators =\", best_n_estimators_roc_auc)\n",
        "\n",
        "# The model shows there is a lot of variety in which estimator is best\n",
        "# But since it is best to use a more simple model (with the same results)\n",
        "# We choose n_estimators = 15\n",
        "\n",
        "# Define cv and RF classifier\n",
        "cv_RF = 7\n",
        "RF_model = RandomForestClassifier(n_estimators=15)\n",
        "\n",
        "# Define the parameter grid\n",
        "param_grid_RF = {\n",
        "    'bootstrap': [True, False],\n",
        "    'min_samples_leaf': list(range(1, 7, 2))\n",
        "}\n",
        "\n",
        "# Create the grid search object with ROC AUC scoring\n",
        "grid_search_RF = GridSearchCV(RF_model, param_grid_RF, cv=cv_RF, scoring='roc_auc', error_score='raise')\n",
        "\n",
        "# Fit the grid search to the data\n",
        "grid_search_RF.fit(X_train_fs, Y_train)\n",
        "\n",
        "# Print the best parameters\n",
        "print(\"Best parameters found: \", grid_search_RF.best_params_)\n",
        "\n",
        "# Get the best estimator\n",
        "best_RF_model = grid_search_RF.best_estimator_\n",
        "print(best_RF_model)\n",
        "\n",
        "# See how well model works on train data:\n",
        "pred_RF_train = best_RF_model.predict(X_train_fs)\n",
        "pred_proba_RF_train = best_RF_model.predict_proba(X_train_fs)[:,1]\n",
        "\n",
        "roc_auc_RF_train = roc_auc_score(Y_train, pred_proba_RF_train)\n",
        "print('ROC AUC train=', roc_auc_RF_train)\n",
        "accuracy_RF_train = accuracy_score(Y_train, pred_RF_train)\n",
        "print('Accuracy train=', accuracy_RF_train)\n",
        "\n",
        "# See how well model works on test data:\n",
        "pred_RF_test = best_RF_model.predict(X_test_fs)\n",
        "pred_proba_RF_test = best_RF_model.predict_proba(X_test_fs)[:,1]\n",
        "\n",
        "roc_auc_RF_test = roc_auc_score(Y_test, pred_proba_RF_test)\n",
        "print('ROC AUC test=', roc_auc_RF_test)\n",
        "accuracy_RF_test = accuracy_score(Y_test, pred_RF_test)\n",
        "print('Accuracy test=', accuracy_RF_test)"
      ],
      "metadata": {
        "id": "KJxj9a1sT3In",
        "outputId": "fed0a67f-7619-47f0-d89c-770ad0625411",
        "colab": {
          "base_uri": "https://localhost:8080/",
          "height": 510
        }
      },
      "execution_count": null,
      "outputs": [
        {
          "output_type": "stream",
          "name": "stdout",
          "text": [
            "Maximum ROC AUC: 0.9242424242424242 at n_estimators = 18\n",
            "Best parameters found:  {'bootstrap': False, 'min_samples_leaf': 5}\n",
            "RandomForestClassifier(bootstrap=False, min_samples_leaf=5, n_estimators=15)\n",
            "ROC AUC train= 0.9929111531190925\n",
            "Accuracy train= 0.9130434782608695\n",
            "ROC AUC test= 0.8863636363636364\n",
            "Accuracy test= 0.8260869565217391\n"
          ]
        },
        {
          "output_type": "display_data",
          "data": {
            "text/plain": [
              "<Figure size 1500x400 with 1 Axes>"
            ],
            "image/png": "[encoded data removed]"
          },
          "metadata": {}
        }
      ]
    },
    {
      "cell_type": "markdown",
      "source": [
        "### Support Vector Machine"
      ],
      "metadata": {
        "id": "k0LOVQXyUA-W"
      }
    },
    {
      "cell_type": "code",
      "source": [
        "# Define cv and SVM classifier\n",
        "cv_svm = 5\n",
        "svm_model = svm.SVC(probability=True)\n",
        "\n",
        "# Define the parameter grid for SVM\n",
        "param_grid_svm = {\n",
        "    'C': [0.001, 0.01, 0.1, 1, 10],  # Regularization parameter\n",
        "    'gamma': ['scale', 'auto', 0.001, 0.01, 0.1, 1],  # Kernel coefficient\n",
        "    'kernel': ['rbf', 'linear', 'poly'] # Kernel type\n",
        "}\n",
        "\n",
        "# Create the grid search object with ROC AUC scoring\n",
        "grid_search_svm = GridSearchCV(svm_model, param_grid_svm, cv=cv_svm, scoring='roc_auc', error_score='raise')\n",
        "\n",
        "# Fit the grid search to the data\n",
        "grid_search_svm.fit(X_train_fs, Y_train)\n",
        "\n",
        "# Print the best parameters\n",
        "print(\"Best parameters found: \", grid_search_svm.best_params_)\n",
        "\n",
        "# Get the best estimator\n",
        "best_svm_model = grid_search_svm.best_estimator_\n",
        "print(best_svm_model)\n",
        "\n",
        "# See how well model works on train data\n",
        "pred_svm_train = best_svm_model.predict(X_train_fs)\n",
        "pred_proba_svm_train = best_svm_model.decision_function(X_train_fs)\n",
        "\n",
        "roc_auc_svm_train = roc_auc_score(Y_train, pred_proba_svm_train)\n",
        "print('ROC AUC train=', roc_auc_svm_train)\n",
        "accuracy_svm_train = accuracy_score(Y_train, pred_svm_train)\n",
        "print('Accuracy train=', accuracy_svm_train)\n",
        "\n",
        "# See how well model works on test data\n",
        "pred_svm_test = best_svm_model.predict(X_test_fs)\n",
        "pred_proba_svm_test = best_svm_model.decision_function(X_test_fs)\n",
        "\n",
        "roc_auc_svm_test = roc_auc_score(Y_test, pred_proba_svm_test)\n",
        "print('ROC AUC test=', roc_auc_svm_test)\n",
        "accuracy_svm_test = accuracy_score(Y_test, pred_svm_test)\n",
        "print('Accuracy test=', accuracy_svm_test)"
      ],
      "metadata": {
        "id": "2AzjJ9b-UDhW",
        "outputId": "8a45e843-5ff1-4acc-8280-fdcbb3d404d8",
        "colab": {
          "base_uri": "https://localhost:8080/"
        }
      },
      "execution_count": null,
      "outputs": [
        {
          "output_type": "stream",
          "name": "stdout",
          "text": [
            "Best parameters found:  {'C': 0.001, 'gamma': 'scale', 'kernel': 'linear'}\n",
            "SVC(C=0.001, kernel='linear', probability=True)\n",
            "ROC AUC train= 0.7986767485822307\n",
            "Accuracy train= 0.6521739130434783\n",
            "ROC AUC test= 0.8863636363636364\n",
            "Accuracy test= 0.782608695652174\n"
          ]
        }
      ]
    },
    {
      "cell_type": "markdown",
      "source": [
        "# Visualisatie"
      ],
      "metadata": {
        "id": "VL4gP1HNg5Tx"
      }
    },
    {
      "cell_type": "markdown",
      "source": [
        "## Receiver Operating Curve"
      ],
      "metadata": {
        "id": "ZHkb7w9rhCCM"
      }
    },
    {
      "cell_type": "code",
      "source": [
        "# Plot the ROC curve of the different classifiers\n",
        "plt.figure()\n",
        "lw = 2\n",
        "plt.plot([0, 1], [0, 1], lw=lw, linestyle='--')\n",
        "plt.xlim([0.0, 1.0])\n",
        "plt.ylim([0.0, 1.05])\n",
        "plt.xlabel('False Positive Rate')\n",
        "plt.ylabel('True Positive Rate')\n",
        "plt.title('Receiver Operating Curve')\n",
        "\n",
        "# knn\n",
        "fpr_knn, tpr_knn, _ = roc_curve(Y_test, pred_proba_knn_test)\n",
        "roc_auc_knn = auc(fpr_knn, tpr_knn)\n",
        "plt.plot(fpr_knn, tpr_knn, lw=lw, label='knn (AUC = %0.2f)' % roc_auc_knn)\n",
        "\n",
        "# RF\n",
        "fpr_RF, tpr_RF, _ = roc_curve(Y_test, pred_proba_RF_test)\n",
        "roc_auc_RF = auc(fpr_RF, tpr_RF)\n",
        "plt.plot(fpr_RF, tpr_RF, lw=lw, label='RF (AUC = %0.2f)' % roc_auc_RF)\n",
        "\n",
        "# svm\n",
        "fpr_svm, tpr_svm, _ = roc_curve(Y_test, pred_proba_svm_test)\n",
        "roc_auc_svm = auc(fpr_svm, tpr_svm)\n",
        "plt.plot(fpr_svm, tpr_svm, lw=lw, label='svm (AUC = %0.2f)' % roc_auc_svm)\n",
        "\n",
        "plt.legend(loc=\"lower right\")\n",
        "plt.show()"
      ],
      "metadata": {
        "colab": {
          "base_uri": "https://localhost:8080/",
          "height": 472
        },
        "id": "h5u6TbRYg7qg",
        "outputId": "29ccde81-9a80-412b-d93a-dd863420bd29"
      },
      "execution_count": null,
      "outputs": [
        {
          "output_type": "display_data",
          "data": {
            "text/plain": [
              "<Figure size 640x480 with 1 Axes>"
            ],
            "image/png": "[encoded data removed]"
          },
          "metadata": {}
        }
      ]
    },
    {
      "cell_type": "markdown",
      "source": [
        "## Learning curves"
      ],
      "metadata": {
        "id": "8667zPI_hJeU"
      }
    },
    {
      "cell_type": "code",
      "source": [
        "fig = plt.figure(figsize=(15,4))\n",
        "\n",
        "# knn\n",
        "ax = fig.add_subplot(1, 3, 1)\n",
        "plot_learning_curve(best_knn_model, 'KNN classifier', X_train_fs, Y_train, ax, ylim=(0.3, 1.03), cv=cv_knn)\n",
        "\n",
        "# RF\n",
        "ax = fig.add_subplot(1, 3, 2)\n",
        "plot_learning_curve(best_RF_model, 'RF classifier', X_train_fs, Y_train, ax, ylim=(0.3, 1.03), cv=cv_RF)\n",
        "\n",
        "# CVM\n",
        "ax = fig.add_subplot(1, 3, 3)\n",
        "plot_learning_curve(best_svm_model, 'SVM classifier', X_train_fs, Y_train, ax, ylim=(0.3, 1.03), cv=cv_svm)"
      ],
      "metadata": {
        "colab": {
          "base_uri": "https://localhost:8080/",
          "height": 1000
        },
        "id": "C1EjhRQOhLrp",
        "outputId": "6395bb33-cf96-4624-976c-0a1555c2cdde"
      },
      "execution_count": null,
      "outputs": [
        {
          "output_type": "stream",
          "name": "stderr",
          "text": [
            "/usr/local/lib/python3.10/dist-packages/sklearn/model_selection/_validation.py:778: UserWarning: Scoring failed. The score on this train-test partition for these parameters will be set to nan. Details: \n",
            "Traceback (most recent call last):\n",
            "  File \"/usr/local/lib/python3.10/dist-packages/sklearn/metrics/_scorer.py\", line 373, in _score\n",
            "    y_pred = method_caller(clf, \"decision_function\", X)\n",
            "  File \"/usr/local/lib/python3.10/dist-packages/sklearn/metrics/_scorer.py\", line 73, in _cached_call\n",
            "    return getattr(estimator, method)(*args, **kwargs)\n",
            "AttributeError: 'KNeighborsClassifier' object has no attribute 'decision_function'\n",
            "\n",
            "During handling of the above exception, another exception occurred:\n",
            "\n",
            "Traceback (most recent call last):\n",
            "  File \"/usr/local/lib/python3.10/dist-packages/sklearn/model_selection/_validation.py\", line 767, in _score\n",
            "    scores = scorer(estimator, X_test, y_test)\n",
            "  File \"/usr/local/lib/python3.10/dist-packages/sklearn/metrics/_scorer.py\", line 234, in __call__\n",
            "    return self._score(\n",
            "  File \"/usr/local/lib/python3.10/dist-packages/sklearn/metrics/_scorer.py\", line 387, in _score\n",
            "    y_pred = method_caller(clf, \"predict_proba\", X)\n",
            "  File \"/usr/local/lib/python3.10/dist-packages/sklearn/metrics/_scorer.py\", line 73, in _cached_call\n",
            "    return getattr(estimator, method)(*args, **kwargs)\n",
            "  File \"/usr/local/lib/python3.10/dist-packages/sklearn/neighbors/_classification.py\", line 286, in predict_proba\n",
            "    neigh_dist, neigh_ind = self.kneighbors(X)\n",
            "  File \"/usr/local/lib/python3.10/dist-packages/sklearn/neighbors/_base.py\", line 810, in kneighbors\n",
            "    raise ValueError(\n",
            "ValueError: Expected n_neighbors <= n_samples,  but n_samples = 7, n_neighbors = 11\n",
            "\n",
            "  warnings.warn(\n",
            "/usr/local/lib/python3.10/dist-packages/sklearn/model_selection/_validation.py:778: UserWarning: Scoring failed. The score on this train-test partition for these parameters will be set to nan. Details: \n",
            "Traceback (most recent call last):\n",
            "  File \"/usr/local/lib/python3.10/dist-packages/sklearn/metrics/_scorer.py\", line 373, in _score\n",
            "    y_pred = method_caller(clf, \"decision_function\", X)\n",
            "  File \"/usr/local/lib/python3.10/dist-packages/sklearn/metrics/_scorer.py\", line 73, in _cached_call\n",
            "    return getattr(estimator, method)(*args, **kwargs)\n",
            "AttributeError: 'KNeighborsClassifier' object has no attribute 'decision_function'\n",
            "\n",
            "During handling of the above exception, another exception occurred:\n",
            "\n",
            "Traceback (most recent call last):\n",
            "  File \"/usr/local/lib/python3.10/dist-packages/sklearn/model_selection/_validation.py\", line 767, in _score\n",
            "    scores = scorer(estimator, X_test, y_test)\n",
            "  File \"/usr/local/lib/python3.10/dist-packages/sklearn/metrics/_scorer.py\", line 234, in __call__\n",
            "    return self._score(\n",
            "  File \"/usr/local/lib/python3.10/dist-packages/sklearn/metrics/_scorer.py\", line 387, in _score\n",
            "    y_pred = method_caller(clf, \"predict_proba\", X)\n",
            "  File \"/usr/local/lib/python3.10/dist-packages/sklearn/metrics/_scorer.py\", line 73, in _cached_call\n",
            "    return getattr(estimator, method)(*args, **kwargs)\n",
            "  File \"/usr/local/lib/python3.10/dist-packages/sklearn/neighbors/_classification.py\", line 286, in predict_proba\n",
            "    neigh_dist, neigh_ind = self.kneighbors(X)\n",
            "  File \"/usr/local/lib/python3.10/dist-packages/sklearn/neighbors/_base.py\", line 810, in kneighbors\n",
            "    raise ValueError(\n",
            "ValueError: Expected n_neighbors <= n_samples,  but n_samples = 7, n_neighbors = 11\n",
            "\n",
            "  warnings.warn(\n",
            "/usr/local/lib/python3.10/dist-packages/sklearn/model_selection/_validation.py:778: UserWarning: Scoring failed. The score on this train-test partition for these parameters will be set to nan. Details: \n",
            "Traceback (most recent call last):\n",
            "  File \"/usr/local/lib/python3.10/dist-packages/sklearn/metrics/_scorer.py\", line 373, in _score\n",
            "    y_pred = method_caller(clf, \"decision_function\", X)\n",
            "  File \"/usr/local/lib/python3.10/dist-packages/sklearn/metrics/_scorer.py\", line 73, in _cached_call\n",
            "    return getattr(estimator, method)(*args, **kwargs)\n",
            "AttributeError: 'KNeighborsClassifier' object has no attribute 'decision_function'\n",
            "\n",
            "During handling of the above exception, another exception occurred:\n",
            "\n",
            "Traceback (most recent call last):\n",
            "  File \"/usr/local/lib/python3.10/dist-packages/sklearn/model_selection/_validation.py\", line 767, in _score\n",
            "    scores = scorer(estimator, X_test, y_test)\n",
            "  File \"/usr/local/lib/python3.10/dist-packages/sklearn/metrics/_scorer.py\", line 234, in __call__\n",
            "    return self._score(\n",
            "  File \"/usr/local/lib/python3.10/dist-packages/sklearn/metrics/_scorer.py\", line 387, in _score\n",
            "    y_pred = method_caller(clf, \"predict_proba\", X)\n",
            "  File \"/usr/local/lib/python3.10/dist-packages/sklearn/metrics/_scorer.py\", line 73, in _cached_call\n",
            "    return getattr(estimator, method)(*args, **kwargs)\n",
            "  File \"/usr/local/lib/python3.10/dist-packages/sklearn/neighbors/_classification.py\", line 286, in predict_proba\n",
            "    neigh_dist, neigh_ind = self.kneighbors(X)\n",
            "  File \"/usr/local/lib/python3.10/dist-packages/sklearn/neighbors/_base.py\", line 810, in kneighbors\n",
            "    raise ValueError(\n",
            "ValueError: Expected n_neighbors <= n_samples,  but n_samples = 7, n_neighbors = 11\n",
            "\n",
            "  warnings.warn(\n",
            "/usr/local/lib/python3.10/dist-packages/sklearn/model_selection/_validation.py:778: UserWarning: Scoring failed. The score on this train-test partition for these parameters will be set to nan. Details: \n",
            "Traceback (most recent call last):\n",
            "  File \"/usr/local/lib/python3.10/dist-packages/sklearn/metrics/_scorer.py\", line 373, in _score\n",
            "    y_pred = method_caller(clf, \"decision_function\", X)\n",
            "  File \"/usr/local/lib/python3.10/dist-packages/sklearn/metrics/_scorer.py\", line 73, in _cached_call\n",
            "    return getattr(estimator, method)(*args, **kwargs)\n",
            "AttributeError: 'KNeighborsClassifier' object has no attribute 'decision_function'\n",
            "\n",
            "During handling of the above exception, another exception occurred:\n",
            "\n",
            "Traceback (most recent call last):\n",
            "  File \"/usr/local/lib/python3.10/dist-packages/sklearn/model_selection/_validation.py\", line 767, in _score\n",
            "    scores = scorer(estimator, X_test, y_test)\n",
            "  File \"/usr/local/lib/python3.10/dist-packages/sklearn/metrics/_scorer.py\", line 234, in __call__\n",
            "    return self._score(\n",
            "  File \"/usr/local/lib/python3.10/dist-packages/sklearn/metrics/_scorer.py\", line 387, in _score\n",
            "    y_pred = method_caller(clf, \"predict_proba\", X)\n",
            "  File \"/usr/local/lib/python3.10/dist-packages/sklearn/metrics/_scorer.py\", line 73, in _cached_call\n",
            "    return getattr(estimator, method)(*args, **kwargs)\n",
            "  File \"/usr/local/lib/python3.10/dist-packages/sklearn/neighbors/_classification.py\", line 286, in predict_proba\n",
            "    neigh_dist, neigh_ind = self.kneighbors(X)\n",
            "  File \"/usr/local/lib/python3.10/dist-packages/sklearn/neighbors/_base.py\", line 810, in kneighbors\n",
            "    raise ValueError(\n",
            "ValueError: Expected n_neighbors <= n_samples,  but n_samples = 7, n_neighbors = 11\n",
            "\n",
            "  warnings.warn(\n",
            "/usr/local/lib/python3.10/dist-packages/sklearn/model_selection/_validation.py:778: UserWarning: Scoring failed. The score on this train-test partition for these parameters will be set to nan. Details: \n",
            "Traceback (most recent call last):\n",
            "  File \"/usr/local/lib/python3.10/dist-packages/sklearn/metrics/_scorer.py\", line 373, in _score\n",
            "    y_pred = method_caller(clf, \"decision_function\", X)\n",
            "  File \"/usr/local/lib/python3.10/dist-packages/sklearn/metrics/_scorer.py\", line 73, in _cached_call\n",
            "    return getattr(estimator, method)(*args, **kwargs)\n",
            "AttributeError: 'KNeighborsClassifier' object has no attribute 'decision_function'\n",
            "\n",
            "During handling of the above exception, another exception occurred:\n",
            "\n",
            "Traceback (most recent call last):\n",
            "  File \"/usr/local/lib/python3.10/dist-packages/sklearn/model_selection/_validation.py\", line 767, in _score\n",
            "    scores = scorer(estimator, X_test, y_test)\n",
            "  File \"/usr/local/lib/python3.10/dist-packages/sklearn/metrics/_scorer.py\", line 234, in __call__\n",
            "    return self._score(\n",
            "  File \"/usr/local/lib/python3.10/dist-packages/sklearn/metrics/_scorer.py\", line 387, in _score\n",
            "    y_pred = method_caller(clf, \"predict_proba\", X)\n",
            "  File \"/usr/local/lib/python3.10/dist-packages/sklearn/metrics/_scorer.py\", line 73, in _cached_call\n",
            "    return getattr(estimator, method)(*args, **kwargs)\n",
            "  File \"/usr/local/lib/python3.10/dist-packages/sklearn/neighbors/_classification.py\", line 286, in predict_proba\n",
            "    neigh_dist, neigh_ind = self.kneighbors(X)\n",
            "  File \"/usr/local/lib/python3.10/dist-packages/sklearn/neighbors/_base.py\", line 810, in kneighbors\n",
            "    raise ValueError(\n",
            "ValueError: Expected n_neighbors <= n_samples,  but n_samples = 7, n_neighbors = 11\n",
            "\n",
            "  warnings.warn(\n",
            "/usr/local/lib/python3.10/dist-packages/sklearn/model_selection/_validation.py:778: UserWarning: Scoring failed. The score on this train-test partition for these parameters will be set to nan. Details: \n",
            "Traceback (most recent call last):\n",
            "  File \"/usr/local/lib/python3.10/dist-packages/sklearn/metrics/_scorer.py\", line 373, in _score\n",
            "    y_pred = method_caller(clf, \"decision_function\", X)\n",
            "  File \"/usr/local/lib/python3.10/dist-packages/sklearn/metrics/_scorer.py\", line 73, in _cached_call\n",
            "    return getattr(estimator, method)(*args, **kwargs)\n",
            "AttributeError: 'KNeighborsClassifier' object has no attribute 'decision_function'\n",
            "\n",
            "During handling of the above exception, another exception occurred:\n",
            "\n",
            "Traceback (most recent call last):\n",
            "  File \"/usr/local/lib/python3.10/dist-packages/sklearn/model_selection/_validation.py\", line 767, in _score\n",
            "    scores = scorer(estimator, X_test, y_test)\n",
            "  File \"/usr/local/lib/python3.10/dist-packages/sklearn/metrics/_scorer.py\", line 234, in __call__\n",
            "    return self._score(\n",
            "  File \"/usr/local/lib/python3.10/dist-packages/sklearn/metrics/_scorer.py\", line 387, in _score\n",
            "    y_pred = method_caller(clf, \"predict_proba\", X)\n",
            "  File \"/usr/local/lib/python3.10/dist-packages/sklearn/metrics/_scorer.py\", line 73, in _cached_call\n",
            "    return getattr(estimator, method)(*args, **kwargs)\n",
            "  File \"/usr/local/lib/python3.10/dist-packages/sklearn/neighbors/_classification.py\", line 286, in predict_proba\n",
            "    neigh_dist, neigh_ind = self.kneighbors(X)\n",
            "  File \"/usr/local/lib/python3.10/dist-packages/sklearn/neighbors/_base.py\", line 810, in kneighbors\n",
            "    raise ValueError(\n",
            "ValueError: Expected n_neighbors <= n_samples,  but n_samples = 7, n_neighbors = 11\n",
            "\n",
            "  warnings.warn(\n",
            "/usr/local/lib/python3.10/dist-packages/sklearn/model_selection/_validation.py:778: UserWarning: Scoring failed. The score on this train-test partition for these parameters will be set to nan. Details: \n",
            "Traceback (most recent call last):\n",
            "  File \"/usr/local/lib/python3.10/dist-packages/sklearn/metrics/_scorer.py\", line 373, in _score\n",
            "    y_pred = method_caller(clf, \"decision_function\", X)\n",
            "  File \"/usr/local/lib/python3.10/dist-packages/sklearn/metrics/_scorer.py\", line 73, in _cached_call\n",
            "    return getattr(estimator, method)(*args, **kwargs)\n",
            "AttributeError: 'KNeighborsClassifier' object has no attribute 'decision_function'\n",
            "\n",
            "During handling of the above exception, another exception occurred:\n",
            "\n",
            "Traceback (most recent call last):\n",
            "  File \"/usr/local/lib/python3.10/dist-packages/sklearn/model_selection/_validation.py\", line 767, in _score\n",
            "    scores = scorer(estimator, X_test, y_test)\n",
            "  File \"/usr/local/lib/python3.10/dist-packages/sklearn/metrics/_scorer.py\", line 234, in __call__\n",
            "    return self._score(\n",
            "  File \"/usr/local/lib/python3.10/dist-packages/sklearn/metrics/_scorer.py\", line 387, in _score\n",
            "    y_pred = method_caller(clf, \"predict_proba\", X)\n",
            "  File \"/usr/local/lib/python3.10/dist-packages/sklearn/metrics/_scorer.py\", line 73, in _cached_call\n",
            "    return getattr(estimator, method)(*args, **kwargs)\n",
            "  File \"/usr/local/lib/python3.10/dist-packages/sklearn/neighbors/_classification.py\", line 286, in predict_proba\n",
            "    neigh_dist, neigh_ind = self.kneighbors(X)\n",
            "  File \"/usr/local/lib/python3.10/dist-packages/sklearn/neighbors/_base.py\", line 810, in kneighbors\n",
            "    raise ValueError(\n",
            "ValueError: Expected n_neighbors <= n_samples,  but n_samples = 7, n_neighbors = 11\n",
            "\n",
            "  warnings.warn(\n",
            "/usr/local/lib/python3.10/dist-packages/sklearn/model_selection/_validation.py:778: UserWarning: Scoring failed. The score on this train-test partition for these parameters will be set to nan. Details: \n",
            "Traceback (most recent call last):\n",
            "  File \"/usr/local/lib/python3.10/dist-packages/sklearn/metrics/_scorer.py\", line 373, in _score\n",
            "    y_pred = method_caller(clf, \"decision_function\", X)\n",
            "  File \"/usr/local/lib/python3.10/dist-packages/sklearn/metrics/_scorer.py\", line 73, in _cached_call\n",
            "    return getattr(estimator, method)(*args, **kwargs)\n",
            "AttributeError: 'KNeighborsClassifier' object has no attribute 'decision_function'\n",
            "\n",
            "During handling of the above exception, another exception occurred:\n",
            "\n",
            "Traceback (most recent call last):\n",
            "  File \"/usr/local/lib/python3.10/dist-packages/sklearn/model_selection/_validation.py\", line 767, in _score\n",
            "    scores = scorer(estimator, X_test, y_test)\n",
            "  File \"/usr/local/lib/python3.10/dist-packages/sklearn/metrics/_scorer.py\", line 234, in __call__\n",
            "    return self._score(\n",
            "  File \"/usr/local/lib/python3.10/dist-packages/sklearn/metrics/_scorer.py\", line 387, in _score\n",
            "    y_pred = method_caller(clf, \"predict_proba\", X)\n",
            "  File \"/usr/local/lib/python3.10/dist-packages/sklearn/metrics/_scorer.py\", line 73, in _cached_call\n",
            "    return getattr(estimator, method)(*args, **kwargs)\n",
            "  File \"/usr/local/lib/python3.10/dist-packages/sklearn/neighbors/_classification.py\", line 286, in predict_proba\n",
            "    neigh_dist, neigh_ind = self.kneighbors(X)\n",
            "  File \"/usr/local/lib/python3.10/dist-packages/sklearn/neighbors/_base.py\", line 810, in kneighbors\n",
            "    raise ValueError(\n",
            "ValueError: Expected n_neighbors <= n_samples,  but n_samples = 7, n_neighbors = 11\n",
            "\n",
            "  warnings.warn(\n",
            "/usr/local/lib/python3.10/dist-packages/sklearn/model_selection/_validation.py:778: UserWarning: Scoring failed. The score on this train-test partition for these parameters will be set to nan. Details: \n",
            "Traceback (most recent call last):\n",
            "  File \"/usr/local/lib/python3.10/dist-packages/sklearn/metrics/_scorer.py\", line 373, in _score\n",
            "    y_pred = method_caller(clf, \"decision_function\", X)\n",
            "  File \"/usr/local/lib/python3.10/dist-packages/sklearn/metrics/_scorer.py\", line 73, in _cached_call\n",
            "    return getattr(estimator, method)(*args, **kwargs)\n",
            "AttributeError: 'KNeighborsClassifier' object has no attribute 'decision_function'\n",
            "\n",
            "During handling of the above exception, another exception occurred:\n",
            "\n",
            "Traceback (most recent call last):\n",
            "  File \"/usr/local/lib/python3.10/dist-packages/sklearn/model_selection/_validation.py\", line 767, in _score\n",
            "    scores = scorer(estimator, X_test, y_test)\n",
            "  File \"/usr/local/lib/python3.10/dist-packages/sklearn/metrics/_scorer.py\", line 234, in __call__\n",
            "    return self._score(\n",
            "  File \"/usr/local/lib/python3.10/dist-packages/sklearn/metrics/_scorer.py\", line 387, in _score\n",
            "    y_pred = method_caller(clf, \"predict_proba\", X)\n",
            "  File \"/usr/local/lib/python3.10/dist-packages/sklearn/metrics/_scorer.py\", line 73, in _cached_call\n",
            "    return getattr(estimator, method)(*args, **kwargs)\n",
            "  File \"/usr/local/lib/python3.10/dist-packages/sklearn/neighbors/_classification.py\", line 286, in predict_proba\n",
            "    neigh_dist, neigh_ind = self.kneighbors(X)\n",
            "  File \"/usr/local/lib/python3.10/dist-packages/sklearn/neighbors/_base.py\", line 810, in kneighbors\n",
            "    raise ValueError(\n",
            "ValueError: Expected n_neighbors <= n_samples,  but n_samples = 7, n_neighbors = 11\n",
            "\n",
            "  warnings.warn(\n",
            "/usr/local/lib/python3.10/dist-packages/sklearn/model_selection/_validation.py:778: UserWarning: Scoring failed. The score on this train-test partition for these parameters will be set to nan. Details: \n",
            "Traceback (most recent call last):\n",
            "  File \"/usr/local/lib/python3.10/dist-packages/sklearn/metrics/_scorer.py\", line 373, in _score\n",
            "    y_pred = method_caller(clf, \"decision_function\", X)\n",
            "  File \"/usr/local/lib/python3.10/dist-packages/sklearn/metrics/_scorer.py\", line 73, in _cached_call\n",
            "    return getattr(estimator, method)(*args, **kwargs)\n",
            "AttributeError: 'KNeighborsClassifier' object has no attribute 'decision_function'\n",
            "\n",
            "During handling of the above exception, another exception occurred:\n",
            "\n",
            "Traceback (most recent call last):\n",
            "  File \"/usr/local/lib/python3.10/dist-packages/sklearn/model_selection/_validation.py\", line 767, in _score\n",
            "    scores = scorer(estimator, X_test, y_test)\n",
            "  File \"/usr/local/lib/python3.10/dist-packages/sklearn/metrics/_scorer.py\", line 234, in __call__\n",
            "    return self._score(\n",
            "  File \"/usr/local/lib/python3.10/dist-packages/sklearn/metrics/_scorer.py\", line 387, in _score\n",
            "    y_pred = method_caller(clf, \"predict_proba\", X)\n",
            "  File \"/usr/local/lib/python3.10/dist-packages/sklearn/metrics/_scorer.py\", line 73, in _cached_call\n",
            "    return getattr(estimator, method)(*args, **kwargs)\n",
            "  File \"/usr/local/lib/python3.10/dist-packages/sklearn/neighbors/_classification.py\", line 286, in predict_proba\n",
            "    neigh_dist, neigh_ind = self.kneighbors(X)\n",
            "  File \"/usr/local/lib/python3.10/dist-packages/sklearn/neighbors/_base.py\", line 810, in kneighbors\n",
            "    raise ValueError(\n",
            "ValueError: Expected n_neighbors <= n_samples,  but n_samples = 7, n_neighbors = 11\n",
            "\n",
            "  warnings.warn(\n",
            "/usr/local/lib/python3.10/dist-packages/sklearn/model_selection/_validation.py:778: UserWarning: Scoring failed. The score on this train-test partition for these parameters will be set to nan. Details: \n",
            "Traceback (most recent call last):\n",
            "  File \"/usr/local/lib/python3.10/dist-packages/sklearn/metrics/_scorer.py\", line 373, in _score\n",
            "    y_pred = method_caller(clf, \"decision_function\", X)\n",
            "  File \"/usr/local/lib/python3.10/dist-packages/sklearn/metrics/_scorer.py\", line 73, in _cached_call\n",
            "    return getattr(estimator, method)(*args, **kwargs)\n",
            "AttributeError: 'KNeighborsClassifier' object has no attribute 'decision_function'\n",
            "\n",
            "During handling of the above exception, another exception occurred:\n",
            "\n",
            "Traceback (most recent call last):\n",
            "  File \"/usr/local/lib/python3.10/dist-packages/sklearn/model_selection/_validation.py\", line 767, in _score\n",
            "    scores = scorer(estimator, X_test, y_test)\n",
            "  File \"/usr/local/lib/python3.10/dist-packages/sklearn/metrics/_scorer.py\", line 234, in __call__\n",
            "    return self._score(\n",
            "  File \"/usr/local/lib/python3.10/dist-packages/sklearn/metrics/_scorer.py\", line 387, in _score\n",
            "    y_pred = method_caller(clf, \"predict_proba\", X)\n",
            "  File \"/usr/local/lib/python3.10/dist-packages/sklearn/metrics/_scorer.py\", line 73, in _cached_call\n",
            "    return getattr(estimator, method)(*args, **kwargs)\n",
            "  File \"/usr/local/lib/python3.10/dist-packages/sklearn/neighbors/_classification.py\", line 286, in predict_proba\n",
            "    neigh_dist, neigh_ind = self.kneighbors(X)\n",
            "  File \"/usr/local/lib/python3.10/dist-packages/sklearn/neighbors/_base.py\", line 810, in kneighbors\n",
            "    raise ValueError(\n",
            "ValueError: Expected n_neighbors <= n_samples,  but n_samples = 7, n_neighbors = 11\n",
            "\n",
            "  warnings.warn(\n",
            "/usr/local/lib/python3.10/dist-packages/sklearn/model_selection/_validation.py:778: UserWarning: Scoring failed. The score on this train-test partition for these parameters will be set to nan. Details: \n",
            "Traceback (most recent call last):\n",
            "  File \"/usr/local/lib/python3.10/dist-packages/sklearn/metrics/_scorer.py\", line 373, in _score\n",
            "    y_pred = method_caller(clf, \"decision_function\", X)\n",
            "  File \"/usr/local/lib/python3.10/dist-packages/sklearn/metrics/_scorer.py\", line 73, in _cached_call\n",
            "    return getattr(estimator, method)(*args, **kwargs)\n",
            "AttributeError: 'KNeighborsClassifier' object has no attribute 'decision_function'\n",
            "\n",
            "During handling of the above exception, another exception occurred:\n",
            "\n",
            "Traceback (most recent call last):\n",
            "  File \"/usr/local/lib/python3.10/dist-packages/sklearn/model_selection/_validation.py\", line 767, in _score\n",
            "    scores = scorer(estimator, X_test, y_test)\n",
            "  File \"/usr/local/lib/python3.10/dist-packages/sklearn/metrics/_scorer.py\", line 234, in __call__\n",
            "    return self._score(\n",
            "  File \"/usr/local/lib/python3.10/dist-packages/sklearn/metrics/_scorer.py\", line 387, in _score\n",
            "    y_pred = method_caller(clf, \"predict_proba\", X)\n",
            "  File \"/usr/local/lib/python3.10/dist-packages/sklearn/metrics/_scorer.py\", line 73, in _cached_call\n",
            "    return getattr(estimator, method)(*args, **kwargs)\n",
            "  File \"/usr/local/lib/python3.10/dist-packages/sklearn/neighbors/_classification.py\", line 286, in predict_proba\n",
            "    neigh_dist, neigh_ind = self.kneighbors(X)\n",
            "  File \"/usr/local/lib/python3.10/dist-packages/sklearn/neighbors/_base.py\", line 810, in kneighbors\n",
            "    raise ValueError(\n",
            "ValueError: Expected n_neighbors <= n_samples,  but n_samples = 7, n_neighbors = 11\n",
            "\n",
            "  warnings.warn(\n"
          ]
        },
        {
          "output_type": "execute_result",
          "data": {
            "text/plain": [
              "<module 'matplotlib.pyplot' from '/usr/local/lib/python3.10/dist-packages/matplotlib/pyplot.py'>"
            ]
          },
          "metadata": {},
          "execution_count": 25
        },
        {
          "output_type": "display_data",
          "data": {
            "text/plain": [
              "<Figure size 1500x400 with 3 Axes>"
            ],
            "image/png": "[encoded data removed]"
          },
          "metadata": {}
        }
      ]
    }
  ],
  "metadata": {
    "colab": {
      "name": "assignment.ipynb",
      "provenance": []
    },
    "kernelspec": {
      "display_name": "Python 3",
      "language": "python",
      "name": "python3"
    },
    "language_info": {
      "codemirror_mode": {
        "name": "ipython",
        "version": 3
      },
      "file_extension": ".py",
      "mimetype": "text/x-python",
      "name": "python",
      "nbconvert_exporter": "python",
      "pygments_lexer": "ipython3",
      "version": "3.8.5"
    }
  },
  "nbformat": 4,
  "nbformat_minor": 0
}