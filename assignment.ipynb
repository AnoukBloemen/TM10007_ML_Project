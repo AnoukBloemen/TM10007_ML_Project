{
  "cells": [
    {
      "cell_type": "markdown",
      "metadata": {
        "id": "7SXpaKwwGe5x"
      },
      "source": [
        "# TM10007 Assignment template"
      ]
    },
    {
      "cell_type": "code",
      "execution_count": null,
      "metadata": {
        "colab": {
          "base_uri": "https://localhost:8080/"
        },
        "id": "CiDn2Sk-VWqE",
        "outputId": "0484c129-1803-4a5a-f8be-3057910771bb"
      },
      "outputs": [
        {
          "output_type": "stream",
          "name": "stdout",
          "text": [
            "  Preparing metadata (setup.py) ... \u001b[?25l\u001b[?25hdone\n",
            "  Building wheel for ktml (setup.py) ... \u001b[?25l\u001b[?25hdone\n"
          ]
        }
      ],
      "source": [
        "# Run this to use from colab environment\n",
        "# !pip install -q --upgrade git+https://github.com/jveenland/tm10007_ml.git"
      ]
    },
    {
      "cell_type": "markdown",
      "source": [
        "# Importing packages"
      ],
      "metadata": {
        "id": "g1cum_GWnJzM"
      }
    },
    {
      "cell_type": "code",
      "source": [
        "# General packages\n",
        "import numpy as np\n",
        "import pandas as pd\n",
        "import matplotlib.pyplot as plt\n",
        "from sklearn import datasets as ds\n",
        "import seaborn\n",
        "\n",
        "# Classifiers\n",
        "from sklearn import model_selection\n",
        "from sklearn import metrics\n",
        "\n",
        "# Preprocessing steps\n",
        "from sklearn.impute import SimpleImputer\n",
        "from sklearn.preprocessing import StandardScaler\n",
        "from sklearn.decomposition import PCA\n",
        "from sklearn.pipeline import Pipeline\n",
        "from scipy.stats import shapiro"
      ],
      "metadata": {
        "id": "RPltM9lAmbIn"
      },
      "execution_count": 30,
      "outputs": []
    },
    {
      "cell_type": "markdown",
      "metadata": {
        "id": "bXiW521Kl09k"
      },
      "source": [
        "# Data loading and cleaning\n",
        "\n",
        "Below are functions to load the dataset of your choice. After that, it is all up to you to create and evaluate a classification method. Beware, there may be missing values in these datasets. Good luck!"
      ]
    },
    {
      "cell_type": "code",
      "execution_count": 82,
      "metadata": {
        "colab": {
          "base_uri": "https://localhost:8080/"
        },
        "id": "-NE_fTbKGe5z",
        "outputId": "be1a1494-ae22-47b5-9690-b433794c23d5"
      },
      "outputs": [
        {
          "output_type": "stream",
          "name": "stdout",
          "text": [
            "The number of samples: 115\n",
            "The number of columns: 494\n"
          ]
        }
      ],
      "source": [
        "## Data loading functions. Uncomment the one you want to use\n",
        "# from worcgist.load_data import load_dat\n",
        "from worclipo.load_data import load_data\n",
        "#from worcliver.load_data import load_data\n",
        "#from ecg.load_data import load_data\n",
        "\n",
        "data = load_data()\n",
        "print(f'The number of samples: {len(data.index)}')\n",
        "print(f'The number of columns: {len(data.columns)}')\n",
        "\n"
      ]
    },
    {
      "cell_type": "markdown",
      "source": [
        "## Creating a split in the data\n",
        "\n",
        "A training and test set are created. The training set will be used to fit the classifier, while the test set is remained untouched until it is used for testing the trained classifier.\n",
        "\n",
        "Split is stratified so labels are present in both sets in same proportions."
      ],
      "metadata": {
        "id": "EnN20JHuvvaq"
      }
    },
    {
      "cell_type": "code",
      "source": [
        "# Extract columns with labels\n",
        "Y = data.pop('label').replace({'lipoma':0, 'liposarcoma':1}) #moeten we misschien nog ook de ID poppen?\n",
        "\n",
        "# Extract the rest of the data (without the labels)\n",
        "X = data\n",
        "\n",
        "X_train, X_test, Y_train, Y_test = model_selection.train_test_split(X, Y, test_size=0.2, stratify=Y) # ONDERBOUWEN IN REPORT\n",
        "\n",
        "print(f'Size of training set: {X_train.shape}')\n",
        "print(f'Size of test set: {X_test.shape}')"
      ],
      "metadata": {
        "id": "qTjJAJ-7vtzg",
        "outputId": "3941ff70-09b6-4e8b-f029-71130e30c9af",
        "colab": {
          "base_uri": "https://localhost:8080/"
        }
      },
      "execution_count": 83,
      "outputs": [
        {
          "output_type": "stream",
          "name": "stdout",
          "text": [
            "Size of training set: (92, 493)\n",
            "Size of test set: (23, 493)\n"
          ]
        }
      ]
    },
    {
      "cell_type": "markdown",
      "source": [
        "## Inspecting distribution of features\n",
        "To determine data distribution of train set"
      ],
      "metadata": {
        "id": "pJBR7ywnn50T"
      }
    },
    {
      "cell_type": "markdown",
      "source": [
        "### Visually inspect distribution of features"
      ],
      "metadata": {
        "id": "q7JVrtMS2mih"
      }
    },
    {
      "cell_type": "code",
      "source": [
        "# Check if Gaussian distribution per column\n",
        "# if Gaussian distribution, take mean for filling empty cells (later in script)\n",
        "# if not Gaussion distribution (and outliers or skewed), take median for filling empty cells (later in script)\n",
        "\n",
        "# plt.hist(X_train.iloc[:, 15], bins=30, edgecolor='k') # Change number of colum to see distribution (between width dataframe)\n",
        "plt.hist(X_train['PREDICT_original_tf_Gabor_entropy_F0.2_A1.57'], bins=30, edgecolor='k') # Change number of colum to see distribution (between width dataframe)\n",
        "\n",
        "\n",
        "plt.title('Distribution of Feature')\n",
        "plt.xlabel('Value')\n",
        "plt.ylabel('Frequency')\n",
        "plt.show()\n",
        "\n",
        "# print(X_train.head())"
      ],
      "metadata": {
        "colab": {
          "base_uri": "https://localhost:8080/",
          "height": 472
        },
        "id": "Llz2aPWlneOo",
        "outputId": "4bec9b78-54fb-42b0-8e5b-39df3b90fc11"
      },
      "execution_count": 88,
      "outputs": [
        {
          "output_type": "display_data",
          "data": {
            "text/plain": [
              "<Figure size 640x480 with 1 Axes>"
            ],
            "image/png": "[encoded data removed]"
          },
          "metadata": {}
        }
      ]
    },
    {
      "cell_type": "markdown",
      "source": [
        "### Determining data distribution of train set"
      ],
      "metadata": {
        "id": "Ae7nQStr2yV-"
      }
    },
    {
      "cell_type": "code",
      "source": [
        "# Definieer alpha voor de significantietest BEARGUMENTEREN WAAROM DEZE TEST IN REPORT + WAARDE\n",
        "alpha = 0.05\n",
        "\n",
        "# Initialiseer een teller voor normaal verdeelde kolommen\n",
        "normal_distributed_columns_count = 0\n",
        "\n",
        "# Loop door elke kolom in de DataFrame en voer Shapiro-Wilk test uit\n",
        "for column in X_train:\n",
        "    stat, p = shapiro(X_train[column])\n",
        "    if p > alpha:\n",
        "        # print(column)\n",
        "        normal_distributed_columns_count += 1  # Tel kolom als normaal verdeeld\n",
        "\n",
        "print(f\"Aantal normaal verdeelde kolommen: {normal_distributed_columns_count}\")\n"
      ],
      "metadata": {
        "id": "AjK86BtWyR-6",
        "outputId": "81207c36-1e9c-4cf3-8219-dcfe926b43f1",
        "colab": {
          "base_uri": "https://localhost:8080/"
        }
      },
      "execution_count": 86,
      "outputs": [
        {
          "output_type": "stream",
          "name": "stdout",
          "text": [
            "PREDICT_original_sf_compactness_avg_2.5D\n",
            "PREDICT_original_sf_prax_avg_2.5D\n",
            "PREDICT_original_sf_prax_std_2.5D\n",
            "PREDICT_original_hf_skewness\n",
            "PREDICT_original_hf_entropy\n",
            "PREDICT_original_logf_peak_position_sigma1\n",
            "PREDICT_original_logf_entropy_sigma1\n",
            "PREDICT_original_logf_min_sigma5\n",
            "PREDICT_original_logf_std_sigma5\n",
            "PREDICT_original_logf_peak_position_sigma5\n",
            "PREDICT_original_logf_range_sigma5\n",
            "PREDICT_original_logf_entropy_sigma5\n",
            "PREDICT_original_logf_peak_position_sigma10\n",
            "PREDICT_original_logf_entropy_sigma10\n",
            "PREDICT_original_tf_LBP_min_R3_P12\n",
            "PREDICT_original_tf_LBP_max_R3_P12\n",
            "PREDICT_original_tf_LBP_range_R3_P12\n",
            "PREDICT_original_tf_LBP_entropy_R3_P12\n",
            "PREDICT_original_tf_LBP_max_R8_P24\n",
            "PREDICT_original_tf_LBP_peak_R8_P24\n",
            "PREDICT_original_tf_LBP_peak_position_R8_P24\n",
            "PREDICT_original_tf_LBP_entropy_R8_P24\n",
            "PREDICT_original_tf_LBP_max_R15_P36\n",
            "PREDICT_original_tf_LBP_entropy_R15_P36\n",
            "PREDICT_original_tf_GLCM_homogeneityd3.0A0.79\n",
            "PREDICT_original_tf_GLCMMS_homogeneityd1.0A1.57std\n",
            "PREDICT_original_tf_GLCMMS_energyd1.0A1.57mean\n",
            "PREDICT_original_tf_GLCMMS_energyd1.0A2.36std\n",
            "PREDICT_original_tf_GLCMMS_correlationd3.0A1.57mean\n",
            "PREDICT_original_tf_GLCMMS_correlationd3.0A2.36mean\n",
            "PREDICT_original_tf_Gabor_peak_position_F0.05_A0.0\n",
            "PREDICT_original_tf_Gabor_entropy_F0.05_A0.0\n",
            "PREDICT_original_tf_Gabor_entropy_F0.05_A0.79\n",
            "PREDICT_original_tf_Gabor_entropy_F0.05_A1.57\n",
            "PREDICT_original_tf_Gabor_skewness_F0.05_A2.36\n",
            "PREDICT_original_tf_Gabor_entropy_F0.05_A2.36\n",
            "PREDICT_original_tf_Gabor_peak_position_F0.2_A0.0\n",
            "PREDICT_original_tf_Gabor_entropy_F0.2_A0.0\n",
            "PREDICT_original_tf_Gabor_median_F0.2_A0.79\n",
            "PREDICT_original_tf_Gabor_peak_position_F0.2_A0.79\n",
            "PREDICT_original_tf_Gabor_entropy_F0.2_A0.79\n",
            "PREDICT_original_tf_Gabor_skewness_F0.2_A1.57\n",
            "PREDICT_original_tf_Gabor_entropy_F0.2_A1.57\n",
            "PREDICT_original_tf_Gabor_skewness_F0.2_A2.36\n",
            "PREDICT_original_tf_Gabor_peak_position_F0.2_A2.36\n",
            "PREDICT_original_tf_Gabor_entropy_F0.2_A2.36\n",
            "PREDICT_original_tf_Gabor_entropy_F0.5_A0.0\n",
            "PREDICT_original_tf_Gabor_median_F0.5_A0.79\n",
            "PREDICT_original_tf_Gabor_peak_F0.5_A0.79\n",
            "PREDICT_original_tf_Gabor_entropy_F0.5_A0.79\n",
            "PREDICT_original_tf_Gabor_median_F0.5_A1.57\n",
            "PREDICT_original_tf_Gabor_skewness_F0.5_A1.57\n",
            "PREDICT_original_tf_Gabor_peak_F0.5_A1.57\n",
            "PREDICT_original_tf_Gabor_peak_position_F0.5_A1.57\n",
            "PREDICT_original_tf_Gabor_entropy_F0.5_A1.57\n",
            "PREDICT_original_tf_Gabor_mean_F0.5_A2.36\n",
            "PREDICT_original_tf_Gabor_median_F0.5_A2.36\n",
            "PREDICT_original_tf_Gabor_skewness_F0.5_A2.36\n",
            "PREDICT_original_tf_Gabor_peak_F0.5_A2.36\n",
            "PREDICT_original_tf_Gabor_entropy_F0.5_A2.36\n",
            "PREDICT_original_vf_Frangi_full_peak_SR(1.0, 10.0)_SS2.0\n",
            "PREDICT_original_vf_Frangi_full_peak_position_SR(1.0, 10.0)_SS2.0\n",
            "PREDICT_original_vf_Frangi_edge_peak_SR(1.0, 10.0)_SS2.0\n",
            "PREDICT_original_vf_Frangi_edge_peak_position_SR(1.0, 10.0)_SS2.0\n",
            "PREDICT_original_vf_Frangi_inner_peak_SR(1.0, 10.0)_SS2.0\n",
            "PREDICT_original_vf_Frangi_inner_peak_position_SR(1.0, 10.0)_SS2.0\n",
            "PREDICT_original_vf_Frangi_inner_entropy_SR(1.0, 10.0)_SS2.0\n",
            "PREDICT_original_phasef_monogenic_quartile_range_WL3_N5\n",
            "PREDICT_original_phasef_monogenic_entropy_WL3_N5\n",
            "PREDICT_original_phasef_phasecong_min_WL3_N5\n",
            "PREDICT_original_phasef_phasecong_max_WL3_N5\n",
            "PREDICT_original_phasef_phasecong_peak_WL3_N5\n",
            "PREDICT_original_phasef_phasecong_peak_position_WL3_N5\n",
            "PREDICT_original_phasef_phasecong_range_WL3_N5\n",
            "PREDICT_original_phasef_phasecong_entropy_WL3_N5\n",
            "PREDICT_original_phasef_phasesym_min_WL3_N5\n",
            "PREDICT_original_phasef_phasesym_max_WL3_N5\n",
            "PREDICT_original_phasef_phasesym_mean_WL3_N5\n",
            "PREDICT_original_phasef_phasesym_std_WL3_N5\n",
            "PREDICT_original_phasef_phasesym_peak_WL3_N5\n",
            "PREDICT_original_phasef_phasesym_peak_position_WL3_N5\n",
            "PREDICT_original_phasef_phasesym_range_WL3_N5\n",
            "PREDICT_original_phasef_phasesym_entropy_WL3_N5\n",
            "Aantal normaal verdeelde kolommen: 83\n"
          ]
        }
      ]
    },
    {
      "cell_type": "code",
      "source": [
        "# print(X_train.head())\n",
        "# print(Y.head())"
      ],
      "metadata": {
        "id": "oUn0-q7for8E"
      },
      "execution_count": 53,
      "outputs": []
    },
    {
      "cell_type": "markdown",
      "source": [
        "## Preprocessing Data"
      ],
      "metadata": {
        "id": "cL18MbR93P-I"
      }
    },
    {
      "cell_type": "markdown",
      "source": [
        "### Missing Values\n",
        "Determining cells with missing values and filling these"
      ],
      "metadata": {
        "id": "U8-WunWt4Q6p"
      }
    },
    {
      "cell_type": "code",
      "source": [
        "# Check missing values\n",
        "missing_values = X_train.isnull().sum()\n",
        "print(len(missing_values[missing_values > 0]))"
      ],
      "metadata": {
        "id": "bWCx7hqU4Yr7",
        "outputId": "a734c074-3699-4718-854a-74138143e1f5",
        "colab": {
          "base_uri": "https://localhost:8080/"
        }
      },
      "execution_count": 89,
      "outputs": [
        {
          "output_type": "stream",
          "name": "stdout",
          "text": [
            "0\n"
          ]
        }
      ]
    },
    {
      "cell_type": "code",
      "source": [
        "# Filling missing values with correct value based on type of distribution per column\n",
        "\n",
        "# Definieer alpha voor de significantietest BEARGUMENTEREN WAAROM DEZE TEST IN REPORT + WAARDE\n",
        "alpha = 0.05\n",
        "\n",
        "# Initialiseer een teller voor normaal verdeelde kolommen\n",
        "normal_distributed_columns_count = 0\n",
        "not_normal_distributed_columns_count = 0\n",
        "nans_found_in_column_count = 0\n",
        "\n",
        "# Loop door elke kolom in de DataFrame en voer Shapiro-Wilk test uit\n",
        "for column in X_train:\n",
        "    stat, p = shapiro(X_train[column])\n",
        "    if p > alpha:\n",
        "        # print(column)\n",
        "        normal_distributed_columns_count += 1  # Tel kolom als normaal verdeeld\n",
        "        if X_train[column].isna().sum() > 0:\n",
        "            X_train[column].fillna(X_train[column].mean)\n",
        "            nans_found_in_column_count += 1\n",
        "    else:\n",
        "        not_normal_distributed_columns_count += 1  # Tel kolom als normaal verdeeld\n",
        "        if X_train[column].isna().sum() > 0:\n",
        "            X_train[column].fillna(X_train[column].median)\n",
        "            nans_found_in_column_count += 1\n",
        "\n",
        "print(f'The number of normal distributed columns is: {normal_distributed_columns_count}')\n",
        "print(f'The number of not normal distributed columns is: {not_normal_distributed_columns_count}')\n",
        "print(f'The number of columns where nans were filled: {nans_found_in_column_count}')"
      ],
      "metadata": {
        "id": "CpaHZZda6SE1",
        "outputId": "f1e02f67-f73a-4759-809d-d9d37d3cb18c",
        "colab": {
          "base_uri": "https://localhost:8080/"
        }
      },
      "execution_count": 81,
      "outputs": [
        {
          "output_type": "stream",
          "name": "stdout",
          "text": [
            "The number of normal distributed columns is: 89\n",
            "The number of not normal distributed columns is: 404\n",
            "The number of columns where nans were filled: 0\n"
          ]
        }
      ]
    },
    {
      "cell_type": "markdown",
      "source": [
        "### Feature Scaling\n",
        "Scale features in Train set"
      ],
      "metadata": {
        "id": "ZB1ABL14902-"
      }
    },
    {
      "cell_type": "code",
      "source": [
        "\n"
      ],
      "metadata": {
        "id": "Mn3S6RZH98d1"
      },
      "execution_count": null,
      "outputs": []
    },
    {
      "cell_type": "markdown",
      "source": [
        "# Inspecting data"
      ],
      "metadata": {
        "id": "7afe2lGEowDL"
      }
    },
    {
      "cell_type": "code",
      "source": [
        "## uncomment following lines to print different info\n",
        "# print(X_train.head())\n",
        "# print(X_train.info())\n",
        "# print(X_train.describe()) # Gives 8 metrics per column [8x494]\n",
        "\n",
        "\n",
        "\n",
        "# Pipeline for numerical features\n",
        "numeric_transformer = Pipeline(steps=[\n",
        "    ('imputer', SimpleImputer(strategy='median')),  # Impute missing values\n",
        "    ('scaler', StandardScaler()),  # Scale features\n",
        "    ('pca', PCA(n_components=0.95))  # Reduce dimensionality (nog kijken welke waarden)\n",
        "])\n",
        "\n",
        "X_preprocessed = numeric_transformer.fit_transform(X_train)\n",
        "print(X_preprocessed)"
      ],
      "metadata": {
        "colab": {
          "base_uri": "https://localhost:8080/"
        },
        "id": "hPPAXQVpovws",
        "outputId": "119630fc-8e38-4a93-86f7-b526e230cf6c"
      },
      "execution_count": null,
      "outputs": [
        {
          "output_type": "stream",
          "name": "stdout",
          "text": [
            "Series([], dtype: int64)\n",
            "[[  3.69308699  10.49965385   8.12652172 ...  -0.14012688  -0.18474327\n",
            "    1.24139976]\n",
            " [ -4.56127894   2.81882473  -7.840514   ...   1.63287141   1.38134925\n",
            "   -1.52803909]\n",
            " [ -0.74152394   8.56443472   0.86427269 ...   0.10569603   1.22296131\n",
            "   -0.7835249 ]\n",
            " ...\n",
            " [ -4.07252116   3.20510508   7.39819921 ...  -0.56923872  -0.41247159\n",
            "   -2.87638164]\n",
            " [  2.92986516  -5.37845493   7.16185485 ...   1.10432961  -0.65658447\n",
            "    1.31493125]\n",
            " [-11.36513284 -13.00480223  -7.77865287 ...   1.82404703   0.12141449\n",
            "   -1.78605994]]\n"
          ]
        }
      ]
    }
  ],
  "metadata": {
    "colab": {
      "name": "assignment.ipynb",
      "provenance": []
    },
    "kernelspec": {
      "display_name": "Python 3",
      "language": "python",
      "name": "python3"
    },
    "language_info": {
      "codemirror_mode": {
        "name": "ipython",
        "version": 3
      },
      "file_extension": ".py",
      "mimetype": "text/x-python",
      "name": "python",
      "nbconvert_exporter": "python",
      "pygments_lexer": "ipython3",
      "version": "3.8.5"
    }
  },
  "nbformat": 4,
  "nbformat_minor": 0
}