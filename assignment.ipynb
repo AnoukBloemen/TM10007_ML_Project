{
  "cells": [
    {
      "cell_type": "markdown",
      "metadata": {
        "id": "7SXpaKwwGe5x"
      },
      "source": [
        "# TM10007 Assignment template"
      ]
    },
    {
      "cell_type": "code",
      "execution_count": 2,
      "metadata": {
        "colab": {
          "base_uri": "https://localhost:8080/"
        },
        "id": "CiDn2Sk-VWqE",
        "outputId": "78d01c14-0d8b-4687-b03c-74a060ba3052"
      },
      "outputs": [
        {
          "output_type": "stream",
          "name": "stdout",
          "text": [
            "  Preparing metadata (setup.py) ... \u001b[?25l\u001b[?25hdone\n"
          ]
        }
      ],
      "source": [
        "# Run this to use from colab environment\n",
        "!pip install -q --upgrade git+https://github.com/jveenland/tm10007_ml.git"
      ]
    },
    {
      "cell_type": "markdown",
      "source": [
        "# Importing packages"
      ],
      "metadata": {
        "id": "g1cum_GWnJzM"
      }
    },
    {
      "cell_type": "code",
      "source": [
        "# General packages\n",
        "import numpy as np\n",
        "import pandas as pd\n",
        "import matplotlib.pyplot as plt\n",
        "from sklearn import datasets as ds\n",
        "import seaborn\n",
        "\n",
        "# Classifiers\n",
        "from sklearn import model_selection\n",
        "from sklearn import metrics\n",
        "from sklearn.ensemble import RandomForestClassifier\n",
        "from sklearn.neighbors import KNeighborsClassifier\n",
        "from sklearn import svm\n",
        "\n",
        "# Scoring methods\n",
        "from sklearn.model_selection import GridSearchCV, cross_val_score\n",
        "from sklearn.metrics import roc_auc_score, accuracy_score, classification_report\n",
        "\n",
        "# Preprocessing steps\n",
        "from sklearn.impute import SimpleImputer\n",
        "from sklearn.decomposition import PCA\n",
        "from sklearn.pipeline import Pipeline\n",
        "from scipy.stats import shapiro\n",
        "from sklearn.preprocessing import StandardScaler\n",
        "from sklearn.preprocessing import MinMaxScaler\n",
        "from sklearn.preprocessing import RobustScaler\n",
        "\n",
        "# Feature selection\n",
        "from sklearn.feature_selection import RFECV\n",
        "from sklearn.linear_model import LogisticRegression\n",
        "from sklearn.model_selection import StratifiedKFold\n",
        "from sklearn import decomposition"
      ],
      "metadata": {
        "id": "RPltM9lAmbIn"
      },
      "execution_count": 18,
      "outputs": []
    },
    {
      "cell_type": "markdown",
      "metadata": {
        "id": "bXiW521Kl09k"
      },
      "source": [
        "# Data loading and cleaning\n",
        "\n",
        "Below are functions to load the dataset of your choice. After that, it is all up to you to create and evaluate a classification method. Beware, there may be missing values in these datasets. Good luck!"
      ]
    },
    {
      "cell_type": "code",
      "execution_count": 4,
      "metadata": {
        "colab": {
          "base_uri": "https://localhost:8080/"
        },
        "id": "-NE_fTbKGe5z",
        "outputId": "fb7f421e-e500-4309-bbb7-c824a13d010d"
      },
      "outputs": [
        {
          "output_type": "stream",
          "name": "stdout",
          "text": [
            "The number of samples: 115\n",
            "The number of columns: 494\n"
          ]
        }
      ],
      "source": [
        "## Data loading functions. Uncomment the one you want to use\n",
        "# from worcgist.load_data import load_dat\n",
        "from worclipo.load_data import load_data\n",
        "#from worcliver.load_data import load_data\n",
        "#from ecg.load_data import load_data\n",
        "\n",
        "data = load_data()\n",
        "print(f'The number of samples: {len(data.index)}')\n",
        "print(f'The number of columns: {len(data.columns)}')\n",
        "\n"
      ]
    },
    {
      "cell_type": "markdown",
      "source": [
        "## Creating a split in the data\n",
        "\n",
        "A training and test set are created. The training set will be used to fit the classifier, while the test set is remained untouched until it is used for testing the trained classifier.\n",
        "\n",
        "Split is stratified so labels are present in both sets in same proportions."
      ],
      "metadata": {
        "id": "EnN20JHuvvaq"
      }
    },
    {
      "cell_type": "code",
      "source": [
        "# Extract columns with labels\n",
        "Y = data.pop('label').replace({'lipoma':0, 'liposarcoma':1}) #moeten we misschien nog ook de ID poppen?\n",
        "\n",
        "# Extract the rest of the data (without the labels)\n",
        "X = data\n",
        "\n",
        "X_train, X_test, Y_train, Y_test = model_selection.train_test_split(X, Y, test_size=0.2, stratify=Y) # ONDERBOUWEN IN REPORT\n",
        "\n",
        "print(f'Size of training set: {X_train.shape}')\n",
        "print(f'Size of test set: {X_test.shape}')"
      ],
      "metadata": {
        "id": "qTjJAJ-7vtzg",
        "outputId": "6ade1ac1-1c1a-4022-b6c7-65d8eb5c4ef7",
        "colab": {
          "base_uri": "https://localhost:8080/"
        }
      },
      "execution_count": 5,
      "outputs": [
        {
          "output_type": "stream",
          "name": "stdout",
          "text": [
            "Size of training set: (92, 493)\n",
            "Size of test set: (23, 493)\n"
          ]
        }
      ]
    },
    {
      "cell_type": "markdown",
      "source": [
        "## Inspecting distribution of features\n",
        "To determine data distribution of train set"
      ],
      "metadata": {
        "id": "pJBR7ywnn50T"
      }
    },
    {
      "cell_type": "markdown",
      "source": [
        "### Visually inspect distribution of features"
      ],
      "metadata": {
        "id": "q7JVrtMS2mih"
      }
    },
    {
      "cell_type": "code",
      "source": [
        "# Check if Gaussian distribution per column\n",
        "# if Gaussian distribution, take mean for filling empty cells (later in script)\n",
        "# if not Gaussion distribution (and outliers or skewed), take median for filling empty cells (later in script)\n",
        "\n",
        "# plt.hist(X_train.iloc[:, 15], bins=30, edgecolor='k') # Change number of colum to see distribution (between width dataframe)\n",
        "plt.hist(X_train['PREDICT_original_tf_Gabor_entropy_F0.2_A1.57'], bins=30, edgecolor='k') # Change number of colum to see distribution (between width dataframe)\n",
        "\n",
        "\n",
        "plt.title('Distribution of Feature')\n",
        "plt.xlabel('Value')\n",
        "plt.ylabel('Frequency')\n",
        "plt.show()\n",
        "\n",
        "# print(X_train.head())"
      ],
      "metadata": {
        "colab": {
          "base_uri": "https://localhost:8080/",
          "height": 472
        },
        "id": "Llz2aPWlneOo",
        "outputId": "5163724f-1c01-4e57-f573-3d8989cb5d5a"
      },
      "execution_count": 6,
      "outputs": [
        {
          "output_type": "display_data",
          "data": {
            "text/plain": [
              "<Figure size 640x480 with 1 Axes>"
            ],
            "image/png": "[encoded data removed]"
          },
          "metadata": {}
        }
      ]
    },
    {
      "cell_type": "markdown",
      "source": [
        "### Determining data distribution of train set"
      ],
      "metadata": {
        "id": "Ae7nQStr2yV-"
      }
    },
    {
      "cell_type": "code",
      "source": [
        "# Definieer alpha voor de significantietest BEARGUMENTEREN WAAROM DEZE TEST IN REPORT + WAARDE\n",
        "alpha = 0.05\n",
        "\n",
        "# Initialiseer een teller voor normaal verdeelde kolommen\n",
        "normal_distributed_columns_count = 0\n",
        "\n",
        "# Loop door elke kolom in de DataFrame en voer Shapiro-Wilk test uit\n",
        "for column in X_train:\n",
        "    stat, p = shapiro(X_train[column])\n",
        "    if p > alpha:\n",
        "        # print(column)\n",
        "        normal_distributed_columns_count += 1  # Tel kolom als normaal verdeeld\n",
        "\n",
        "print(f\"Aantal normaal verdeelde kolommen: {normal_distributed_columns_count}\")\n"
      ],
      "metadata": {
        "id": "AjK86BtWyR-6",
        "outputId": "3895b450-b51c-4769-e941-8374bd59569c",
        "colab": {
          "base_uri": "https://localhost:8080/"
        }
      },
      "execution_count": 7,
      "outputs": [
        {
          "output_type": "stream",
          "name": "stdout",
          "text": [
            "Aantal normaal verdeelde kolommen: 81\n"
          ]
        },
        {
          "output_type": "stream",
          "name": "stderr",
          "text": [
            "/usr/local/lib/python3.10/dist-packages/scipy/stats/_morestats.py:1879: UserWarning: Input data for shapiro has range zero. The results may not be accurate.\n",
            "  warnings.warn(\"Input data for shapiro has range zero. The results \"\n"
          ]
        }
      ]
    },
    {
      "cell_type": "code",
      "source": [
        "# print(X_train.head())\n",
        "# print(Y.head())"
      ],
      "metadata": {
        "id": "oUn0-q7for8E"
      },
      "execution_count": 8,
      "outputs": []
    },
    {
      "cell_type": "markdown",
      "source": [
        "## Preprocessing Data"
      ],
      "metadata": {
        "id": "cL18MbR93P-I"
      }
    },
    {
      "cell_type": "markdown",
      "source": [
        "### Missing Values\n",
        "Determining cells with missing values and filling these"
      ],
      "metadata": {
        "id": "U8-WunWt4Q6p"
      }
    },
    {
      "cell_type": "code",
      "source": [
        "# Check missing values\n",
        "missing_values = X_train.isnull().sum()\n",
        "print(len(missing_values[missing_values > 0]))"
      ],
      "metadata": {
        "id": "bWCx7hqU4Yr7",
        "outputId": "4bf39f15-7232-4a09-c9cd-9c03d271ed17",
        "colab": {
          "base_uri": "https://localhost:8080/"
        }
      },
      "execution_count": 9,
      "outputs": [
        {
          "output_type": "stream",
          "name": "stdout",
          "text": [
            "0\n"
          ]
        }
      ]
    },
    {
      "cell_type": "code",
      "source": [
        "# Filling missing values with correct value based on type of distribution per column\n",
        "\n",
        "# Definieer alpha voor de significantietest BEARGUMENTEREN WAAROM DEZE TEST IN REPORT + WAARDE\n",
        "alpha = 0.05\n",
        "\n",
        "# Initialiseer een teller voor normaal verdeelde kolommen\n",
        "normal_distributed_columns_count = 0\n",
        "not_normal_distributed_columns_count = 0\n",
        "nans_found_in_column_count = 0\n",
        "\n",
        "# Loop door elke kolom in de DataFrame en voer Shapiro-Wilk test uit\n",
        "for column in X_train:\n",
        "    stat, p = shapiro(X_train[column])\n",
        "    if p > alpha:\n",
        "        # print(column)\n",
        "        normal_distributed_columns_count += 1  # Tel kolom als normaal verdeeld\n",
        "        if X_train[column].isna().sum() > 0:\n",
        "            X_train[column].fillna(X_train[column].mean)\n",
        "            nans_found_in_column_count += 1\n",
        "    else:\n",
        "        not_normal_distributed_columns_count += 1  # Tel kolom als normaal verdeeld\n",
        "        if X_train[column].isna().sum() > 0:\n",
        "            X_train[column].fillna(X_train[column].median)\n",
        "            nans_found_in_column_count += 1\n",
        "\n",
        "print(f'The number of normal distributed columns is: {normal_distributed_columns_count}')\n",
        "print(f'The number of not normal distributed columns is: {not_normal_distributed_columns_count}')\n",
        "print(f'The number of columns where nans were filled: {nans_found_in_column_count}')"
      ],
      "metadata": {
        "id": "CpaHZZda6SE1",
        "outputId": "4dc21f7d-a3bb-4555-8c27-2e107500c170",
        "colab": {
          "base_uri": "https://localhost:8080/"
        }
      },
      "execution_count": 10,
      "outputs": [
        {
          "output_type": "stream",
          "name": "stdout",
          "text": [
            "The number of normal distributed columns is: 81\n",
            "The number of not normal distributed columns is: 412\n",
            "The number of columns where nans were filled: 0\n"
          ]
        }
      ]
    },
    {
      "cell_type": "markdown",
      "source": [
        "### Feature Scaling\n",
        "Scale features in Train set"
      ],
      "metadata": {
        "id": "ZB1ABL14902-"
      }
    },
    {
      "cell_type": "code",
      "source": [
        "# Define counter for columns with many outliers\n",
        "columns_with_many_outliers_count = 0\n",
        "\n",
        "for column in X_train:\n",
        "    Q1 = X_train[column].quantile(0.25)\n",
        "    Q3 = X_train[column].quantile(0.75)\n",
        "    IQR = Q3 - Q1\n",
        "\n",
        "    # Calculate number of outliers\n",
        "    outliers = X_train[(X_train[column] < (Q1 - 1.5 * IQR)) | (X_train[column] > (Q3 + 1.5 * IQR))]\n",
        "    outliers_count = outliers.shape[0]\n",
        "\n",
        "    # Define what 'many' outliers mean\n",
        "    if outliers_count > 0.05 * X_train.shape[0]:\n",
        "        columns_with_many_outliers_count += 1\n",
        "        # print(f\"{column} has many outliers: {outliers_count} outliers\")\n",
        "\n",
        "print(f\"Number of columns with many outliers: {columns_with_many_outliers_count}\")\n"
      ],
      "metadata": {
        "id": "L5ePShRwmJrY",
        "outputId": "0e1d367b-a4b1-48a5-df78-955e8a3d987c",
        "colab": {
          "base_uri": "https://localhost:8080/"
        }
      },
      "execution_count": 11,
      "outputs": [
        {
          "output_type": "stream",
          "name": "stdout",
          "text": [
            "Number of columns with many outliers: 203\n"
          ]
        }
      ]
    },
    {
      "cell_type": "code",
      "source": [
        "# Scaler\n",
        "\n",
        "# scaler = StandardScaler()\n",
        "# scaler = MinMaxScaler()\n",
        "scaler = RobustScaler()\n",
        "\n",
        "X_train_scaled = scaler.fit_transform(X_train)\n",
        "X_train_scaled_df = pd.DataFrame(X_train_scaled, columns=X_train.columns, index=X_train.index)\n",
        "\n"
      ],
      "metadata": {
        "id": "vR4vx1oJoZBn"
      },
      "execution_count": 12,
      "outputs": []
    },
    {
      "cell_type": "markdown",
      "source": [
        "# Inspecting data"
      ],
      "metadata": {
        "id": "7afe2lGEowDL"
      }
    },
    {
      "cell_type": "markdown",
      "source": [
        "## Feature selection and extraction"
      ],
      "metadata": {
        "id": "bTxLT12kH1u5"
      }
    },
    {
      "cell_type": "code",
      "source": [
        "## Without scaling (for X_train)\n",
        "# min_features = 1\n",
        "# clf  = LogisticRegression(solver='liblinear')\n",
        "# cv = StratifiedKFold(2)\n",
        "\n",
        "# rfecv = RFECV(\n",
        "#     estimator=clf,\n",
        "#     cv=cv,\n",
        "#     # scoring = \"accuracy\",\n",
        "#     min_features_to_select = min_features\n",
        "# )\n",
        "\n",
        "# rfecv.fit(X_train, Y_train)\n",
        "\n",
        "# print(f\"Optimal number of features: {rfecv.n_features_}\")\n",
        "\n",
        "# if rfecv.n_features_ > len(X_train.index):\n",
        "#   pca = decomposition.PCA(n_components=0.95)\n",
        "#   pca.fit(X_train)\n",
        "#   X_train = pca.transform(X_train)\n",
        "\n",
        "\n",
        "## With / after scaling (for X_train_robust_scaled_df)\n",
        "min_features = 1\n",
        "clf  = LogisticRegression(solver='liblinear', max_iter=2000)\n",
        "cv = StratifiedKFold(2)\n",
        "\n",
        "print(X_train_scaled_df.shape)\n",
        "\n",
        "rfecv = RFECV(\n",
        "    estimator=clf,\n",
        "    cv=cv,\n",
        "    scoring = 'roc_auc',\n",
        "    min_features_to_select = min_features\n",
        ")\n",
        "\n",
        "rfecv.fit(X_train_scaled_df, Y_train)\n",
        "\n",
        "X_train_dr = rfecv.transform(X_train_scaled_df)\n",
        "\n",
        "print(X_train_dr.shape)\n",
        "\n",
        "print(f\"Optimal number of features: {rfecv.n_features_}\")\n",
        "\n",
        "# If there are more samples than features left after RFECV then perform PCA\n",
        "if rfecv.n_features_ > X_train_dr.shape[0]:\n",
        "    pca = decomposition.PCA(n_components=0.95)\n",
        "    pca.fit(X_train_dr)\n",
        "    X_train_dr = pca.transform(X_train_dr)\n",
        "\n",
        "print(X_train_dr.shape)\n",
        "\n"
      ],
      "metadata": {
        "id": "pY2smu5SH9NH",
        "colab": {
          "base_uri": "https://localhost:8080/"
        },
        "outputId": "be1a183d-e1c7-4d7e-f7d7-d002f8fcdabd"
      },
      "execution_count": 19,
      "outputs": [
        {
          "output_type": "stream",
          "name": "stdout",
          "text": [
            "(92, 493)\n",
            "(92, 6)\n",
            "Optimal number of features: 6\n",
            "(92, 6)\n"
          ]
        }
      ]
    },
    {
      "cell_type": "markdown",
      "source": [
        "# classifiers"
      ],
      "metadata": {
        "id": "NqoGUPrpTjMS"
      }
    },
    {
      "cell_type": "markdown",
      "source": [
        "## KNN"
      ],
      "metadata": {
        "id": "9pY9Z5AwTk4w"
      }
    },
    {
      "cell_type": "code",
      "source": [
        "cv10_fold = model_selection.StratifiedKFold(n_splits=10)\n",
        "\n",
        "knn_model = KNeighborsClassifier()\n",
        "\n",
        "# Define the parameter grid - WAAROM DEZE\n",
        "param_grid_knn = {\n",
        "    #'n_neighbors': list(range(1, 60, 2)),\n",
        "    'weights': ['uniform', 'distance'],\n",
        "    'p': [1, 2]  # p=1 for Manhattan distance, p=2 for Euclidean distance\n",
        "}\n",
        "\n",
        "# Create the grid search object with ROC AUC scoring\n",
        "grid_search_knn = GridSearchCV(knn_model, param_grid_knn, cv=cv10_fold, scoring='roc_auc')\n",
        "\n",
        "# Fit the grid search to the data\n",
        "grid_search_knn.fit(X_train, Y_train)\n",
        "\n",
        "# Print the best parameters\n",
        "print(\"Best parameters found: \", grid_search_knn.best_params_)\n",
        "\n",
        "# Get the best estimator\n",
        "best_knn_model = grid_search_knn.best_estimator_\n",
        "\n",
        "print(best_knn_model)\n",
        "\n",
        "# see how well model works on train and test data:\n",
        "predictions_knn_train = best_knn_model.predict(X_train)\n",
        "print(classification_report(Y_train, predictions_knn_train))\n",
        "\n",
        "roc_auc_knn_train = roc_auc_score(Y_train, predictions_knn_train)\n",
        "print('ROC AUC =', roc_auc_knn_train)\n",
        "accuracy_knn_train = accuracy_score(Y_train, predictions_knn_train)\n",
        "print('Accuracy =', accuracy_knn_train)\n",
        "\n",
        "predictions_knn_test = best_knn_model.predict(X_test)\n",
        "print(classification_report(Y_test, predictions_knn_test))\n",
        "\n",
        "roc_auc_knn_test = roc_auc_score(Y_test, predictions_knn_test)\n",
        "print('ROC AUC =', roc_auc_knn_test)\n",
        "accuracy_knn_test = accuracy_score(Y_test, predictions_knn_test)\n",
        "print('Accuracy =', accuracy_knn_test)"
      ],
      "metadata": {
        "id": "KSjGJIfWTmUX",
        "outputId": "6f2a2755-c28c-4c36-a047-dea3eb5be6e3",
        "colab": {
          "base_uri": "https://localhost:8080/"
        }
      },
      "execution_count": 14,
      "outputs": [
        {
          "output_type": "stream",
          "name": "stdout",
          "text": [
            "Best parameters found:  {'p': 1, 'weights': 'uniform'}\n",
            "KNeighborsClassifier(p=1)\n",
            "              precision    recall  f1-score   support\n",
            "\n",
            "           0       0.68      0.57      0.62        46\n",
            "           1       0.63      0.74      0.68        46\n",
            "\n",
            "    accuracy                           0.65        92\n",
            "   macro avg       0.66      0.65      0.65        92\n",
            "weighted avg       0.66      0.65      0.65        92\n",
            "\n",
            "ROC AUC = 0.6521739130434783\n",
            "Accuracy = 0.6521739130434783\n",
            "              precision    recall  f1-score   support\n",
            "\n",
            "           0       0.67      0.55      0.60        11\n",
            "           1       0.64      0.75      0.69        12\n",
            "\n",
            "    accuracy                           0.65        23\n",
            "   macro avg       0.65      0.65      0.65        23\n",
            "weighted avg       0.65      0.65      0.65        23\n",
            "\n",
            "ROC AUC = 0.6477272727272727\n",
            "Accuracy = 0.6521739130434783\n"
          ]
        }
      ]
    },
    {
      "cell_type": "markdown",
      "source": [
        "## Random forest"
      ],
      "metadata": {
        "id": "Czr39UJNT1l-"
      }
    },
    {
      "cell_type": "code",
      "source": [
        "#NB: runnen duurt lang door lijst aan n_estimators!\n",
        "\n",
        "cv10_fold = model_selection.StratifiedKFold(n_splits=10)\n",
        "\n",
        "RF_model = RandomForestClassifier()\n",
        "\n",
        "# Define the parameter grid - WAAROM DEZE\n",
        "param_grid_RF = {\n",
        "    #'n_estimators': list(range(1, 100, 10)), # more estimators probably better result but also more computationally expensive!\n",
        "    'bootstrap': [True, False],\n",
        "    'min_samples_leaf': list(range(1, 7, 2))\n",
        "}\n",
        "\n",
        "# Create the grid search object with ROC AUC scoring\n",
        "grid_search_RF = GridSearchCV(RF_model, param_grid_RF, cv=cv10_fold, scoring='roc_auc', error_score='raise')\n",
        "\n",
        "# Fit the grid search to the data\n",
        "grid_search_RF.fit(X_train, Y_train)\n",
        "\n",
        "# Print the best parameters\n",
        "print(\"Best parameters found: \", grid_search_RF.best_params_)\n",
        "\n",
        "# Get the best estimator\n",
        "best_RF_model = grid_search_RF.best_estimator_\n",
        "\n",
        "print(best_RF_model)\n",
        "\n",
        "# See how well model works on train and test data:\n",
        "predictions_RF_train = best_RF_model.predict(X_train)\n",
        "print(classification_report(Y_train, predictions_RF_train))\n",
        "\n",
        "roc_auc_RF_train = roc_auc_score(Y_train, predictions_RF_train)\n",
        "print('ROC AUC =', roc_auc_RF_train)\n",
        "accuracy_RF_train = accuracy_score(Y_train, predictions_RF_train)\n",
        "print('Accuracy =', accuracy_RF_train)\n",
        "\n",
        "predictions_RF_test = best_RF_model.predict(X_test)\n",
        "print(classification_report(Y_test, predictions_RF_test))\n",
        "\n",
        "roc_auc_RF_test = roc_auc_score(Y_test, predictions_RF_test)\n",
        "print('ROC AUC =', roc_auc_RF_test)\n",
        "accuracy_RF_test = accuracy_score(Y_test, predictions_RF_test)\n",
        "print('Accuracy =', accuracy_RF_test)"
      ],
      "metadata": {
        "id": "KJxj9a1sT3In",
        "outputId": "b8998df2-7498-495f-ae94-43eae3fd9406",
        "colab": {
          "base_uri": "https://localhost:8080/"
        }
      },
      "execution_count": 15,
      "outputs": [
        {
          "output_type": "stream",
          "name": "stdout",
          "text": [
            "Best parameters found:  {'bootstrap': False, 'min_samples_leaf': 3}\n",
            "RandomForestClassifier(bootstrap=False, min_samples_leaf=3)\n",
            "              precision    recall  f1-score   support\n",
            "\n",
            "           0       1.00      1.00      1.00        46\n",
            "           1       1.00      1.00      1.00        46\n",
            "\n",
            "    accuracy                           1.00        92\n",
            "   macro avg       1.00      1.00      1.00        92\n",
            "weighted avg       1.00      1.00      1.00        92\n",
            "\n",
            "ROC AUC = 1.0\n",
            "Accuracy = 1.0\n",
            "              precision    recall  f1-score   support\n",
            "\n",
            "           0       0.79      1.00      0.88        11\n",
            "           1       1.00      0.75      0.86        12\n",
            "\n",
            "    accuracy                           0.87        23\n",
            "   macro avg       0.89      0.88      0.87        23\n",
            "weighted avg       0.90      0.87      0.87        23\n",
            "\n",
            "ROC AUC = 0.875\n",
            "Accuracy = 0.8695652173913043\n"
          ]
        }
      ]
    },
    {
      "cell_type": "markdown",
      "source": [
        "## Support Vector Machine"
      ],
      "metadata": {
        "id": "k0LOVQXyUA-W"
      }
    },
    {
      "cell_type": "code",
      "source": [
        "cv10_fold = model_selection.StratifiedKFold(n_splits=10)\n",
        "\n",
        "# Define the SVM model\n",
        "svm_model = svm.SVC(probability=True)\n",
        "\n",
        "# Define the parameter grid for SVM\n",
        "param_grid_svm = {\n",
        "    'C': [0.01, 0.5, 1 ],  # Regularization parameter\n",
        "    'gamma': ['scale', 'auto']  # Kernel coefficient\n",
        "}\n",
        "\n",
        "# Create the grid search object with ROC AUC scoring\n",
        "grid_search_svm = GridSearchCV(svm_model, param_grid_svm, cv=cv10_fold, scoring='roc_auc', error_score='raise')\n",
        "\n",
        "# Fit the grid search to the data\n",
        "grid_search_svm.fit(X_train, Y_train)\n",
        "\n",
        "# Print the best parameters\n",
        "print(\"Best parameters found: \", grid_search_svm.best_params_)\n",
        "\n",
        "# Get the best estimator\n",
        "best_svm_model = grid_search_svm.best_estimator_\n",
        "\n",
        "print(best_svm_model)\n",
        "\n",
        "# See how well model works on train and test data\n",
        "predictions_svm_train = best_svm_model.predict(X_train)\n",
        "print(classification_report(Y_train, predictions_svm_train))\n",
        "\n",
        "roc_auc_svm_train = roc_auc_score(Y_train, predictions_svm_train)\n",
        "print('ROC AUC =', roc_auc_svm_train)\n",
        "accuracy_svm_train = accuracy_score(Y_train, predictions_svm_train)\n",
        "print('Accuracy =', accuracy_svm_train)\n",
        "\n",
        "predictions_svm_test = best_svm_model.predict(X_test)\n",
        "print(classification_report(Y_test, predictions_svm_test))\n",
        "\n",
        "roc_auc_svm_test = roc_auc_score(Y_test, predictions_svm_test)\n",
        "print('ROC AUC =', roc_auc_svm_test)\n",
        "accuracy_svm_test = accuracy_score(Y_test, predictions_svm_test)\n",
        "print('Accuracy =', accuracy_svm_test)"
      ],
      "metadata": {
        "id": "2AzjJ9b-UDhW",
        "outputId": "b75e159b-348c-4cb8-a0f2-f57b62b98982",
        "colab": {
          "base_uri": "https://localhost:8080/"
        }
      },
      "execution_count": 16,
      "outputs": [
        {
          "output_type": "stream",
          "name": "stdout",
          "text": [
            "Best parameters found:  {'C': 0.01, 'gamma': 'auto'}\n",
            "SVC(C=0.01, gamma='auto', probability=True)\n",
            "              precision    recall  f1-score   support\n",
            "\n",
            "           0       1.00      1.00      1.00        46\n",
            "           1       1.00      1.00      1.00        46\n",
            "\n",
            "    accuracy                           1.00        92\n",
            "   macro avg       1.00      1.00      1.00        92\n",
            "weighted avg       1.00      1.00      1.00        92\n",
            "\n",
            "ROC AUC = 1.0\n",
            "Accuracy = 1.0\n",
            "              precision    recall  f1-score   support\n",
            "\n",
            "           0       0.00      0.00      0.00        11\n",
            "           1       0.52      1.00      0.69        12\n",
            "\n",
            "    accuracy                           0.52        23\n",
            "   macro avg       0.26      0.50      0.34        23\n",
            "weighted avg       0.27      0.52      0.36        23\n",
            "\n",
            "ROC AUC = 0.5\n",
            "Accuracy = 0.5217391304347826\n"
          ]
        },
        {
          "output_type": "stream",
          "name": "stderr",
          "text": [
            "/usr/local/lib/python3.10/dist-packages/sklearn/metrics/_classification.py:1344: UndefinedMetricWarning: Precision and F-score are ill-defined and being set to 0.0 in labels with no predicted samples. Use `zero_division` parameter to control this behavior.\n",
            "  _warn_prf(average, modifier, msg_start, len(result))\n",
            "/usr/local/lib/python3.10/dist-packages/sklearn/metrics/_classification.py:1344: UndefinedMetricWarning: Precision and F-score are ill-defined and being set to 0.0 in labels with no predicted samples. Use `zero_division` parameter to control this behavior.\n",
            "  _warn_prf(average, modifier, msg_start, len(result))\n",
            "/usr/local/lib/python3.10/dist-packages/sklearn/metrics/_classification.py:1344: UndefinedMetricWarning: Precision and F-score are ill-defined and being set to 0.0 in labels with no predicted samples. Use `zero_division` parameter to control this behavior.\n",
            "  _warn_prf(average, modifier, msg_start, len(result))\n"
          ]
        }
      ]
    }
  ],
  "metadata": {
    "colab": {
      "name": "assignment.ipynb",
      "provenance": []
    },
    "kernelspec": {
      "display_name": "Python 3",
      "language": "python",
      "name": "python3"
    },
    "language_info": {
      "codemirror_mode": {
        "name": "ipython",
        "version": 3
      },
      "file_extension": ".py",
      "mimetype": "text/x-python",
      "name": "python",
      "nbconvert_exporter": "python",
      "pygments_lexer": "ipython3",
      "version": "3.8.5"
    }
  },
  "nbformat": 4,
  "nbformat_minor": 0
}